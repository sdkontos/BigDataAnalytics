{
 "cells": [
  {
   "cell_type": "code",
   "execution_count": 1,
   "metadata": {
    "collapsed": true
   },
   "outputs": [],
   "source": [
    "import pandas as pd\n",
    "import matplotlib.pyplot as plt\n",
    "import numpy as np\n",
    "from sklearn.preprocessing import OneHotEncoder\n",
    "import warnings\n",
    "\n",
    "from sklearn.preprocessing import StandardScaler\n",
    "\n",
    "from sklearn.model_selection import GridSearchCV\n",
    "\n",
    "from sklearn.model_selection import train_test_split, cross_val_score\n",
    "\n",
    "from sklearn.ensemble import RandomForestClassifier,GradientBoostingClassifier, StackingClassifier\n",
    "from sklearn.neighbors import KNeighborsClassifier\n",
    "from sklearn.tree import DecisionTreeClassifier\n",
    "\n",
    "\n",
    "from sklearn.metrics import accuracy_score\n",
    "\n",
    "\n",
    "pd.set_option('display.max_rows', 500)\n",
    "pd.set_option('display.max_columns', 500)\n",
    "pd.set_option('display.width', 1000)"
   ]
  },
  {
   "cell_type": "code",
   "execution_count": 2,
   "outputs": [],
   "source": [
    "clinical = pd.read_csv('clinicalvol2.csv')"
   ],
   "metadata": {
    "collapsed": false,
    "pycharm": {
     "name": "#%%\n"
    }
   }
  },
  {
   "cell_type": "code",
   "execution_count": 3,
   "outputs": [
    {
     "data": {
      "text/plain": "     part_id  fried  gender  age  hospitalization_one_year  hospitalization_three_years  ortho_hypotension  vision  audition  raise_chair_time  balance_single  gait_get_up  gait_speed_4m  gait_optional_binary  falls_one_year  fractures_three_years   bmi_score  waist  screening_score  cognitive_total_score  memory_complain  sleep  mmse_total_score  depression_total_score  anxiety_perception  living_alone  leisure_out  leisure_club  social_visits  social_calls  social_phone  social_skype  social_text  life_quality  health_rate  health_rate_comparison  pain_perception  activity_regular  smoking  alcohol_units  katz_index  iadl_grade  comorbidities_count  comorbidities_significant_count  medication_count\n0       1001      0       1   75                         0                          0.0                  0       1         2         13.000000             1.0        18.00           7.00                     0             1.0                    0.0   27.587326  101.0               14                   25.0              0.0    0.0                30                     1.0                 5.0           1.0          7.0           1.0            3.0           7.0         210.0           0.0          0.0           7.4          3.0                     3.0              4.2               2.0      0.0           1.00         6.0        31.0                    5                                0                 5\n1       1002      1       0   73                         0                          1.0                  0       1         1         16.000000             1.0        60.00          11.00                     0             1.0                    0.0   25.069362  109.0               14                   27.0              0.0    0.0                28                     8.0                 8.2           0.0          7.0           0.0            1.0          20.0         140.0           0.0          0.0           7.0          3.0                     2.0              3.3               2.0      0.0          14.00         6.0        26.0                   12                                0                 4\n2       1003      1       0   72                         0                          0.0                  0       1         1         10.000000             1.0        21.00          11.00                     0             1.0                    0.0   34.386317  122.0               14                   26.0              0.0    1.0                27                     1.0                 3.4           0.0          7.0           1.0            5.0          20.0         210.0           0.0         10.0           7.8          4.0                     3.0              3.4               1.0      1.0          21.00         6.0        26.0                    9                                0                 3\n3       1004      2       1   88                         0                          0.0                  0       1         1         13.471636             0.0        24.70          14.30                     0             0.0                    0.0   27.733333  101.0               12                   23.0              0.0    0.0                24                     4.0                 5.6           0.0          3.0           0.0            1.0           7.0         105.0           0.0          0.0           8.0          3.0                     3.0              7.3               1.0      0.0          21.00         5.5        20.0                   11                                0                 8\n4       1005      1       1   83                         0                          4.0                  1       1         0         13.000000             0.0        42.00           8.00                     0             1.0                    0.0   25.997436   88.0               12                   24.0              1.0    1.0                27                     3.0                 8.2           1.0          7.0           1.0            2.0          10.0          70.0           0.0          0.0           8.4          3.0                     3.0              3.0               3.0      2.0           0.00         6.0        30.0                   12                                0                 4\n..       ...    ...     ...  ...                       ...                          ...                ...     ...       ...               ...             ...          ...            ...                   ...             ...                    ...         ...    ...              ...                    ...              ...    ...               ...                     ...                 ...           ...          ...           ...            ...           ...           ...           ...          ...           ...          ...                     ...              ...               ...      ...            ...         ...         ...                  ...                              ...               ...\n535     3593      1       0   75                         0                          1.0                  1       2         2         14.000000             1.0         6.20           2.30                     0             1.0                    0.0   31.909140  112.0               11                   27.0              0.0    0.0                27                     2.0                 0.0           1.0          0.0           0.0            0.0           8.0         240.0           0.0          3.0          10.0          4.0                     3.0              1.0               3.0      1.0           0.00         5.5        31.0                    8                                1                10\n536     3594      0       0   71                         0                          0.0                  0       2         2         14.800000             1.0         8.40           2.70                     0             2.0                    1.0   26.161896   93.0               10                   27.0              0.0    0.0                29                     2.0                 2.4           0.0          5.0           1.0            4.0           3.0          15.0           0.0         30.0           8.5          4.0                     4.0              2.0               3.0      1.0          17.25         5.0        28.0                    7                                0                 3\n537     3600      0       1   77                         0                          0.0                  0       2         2          6.590000             1.0         6.06           2.28                     0             0.0                    0.0  921.143251   86.0               14                   21.0              0.0    2.0                27                     3.0                 4.0           1.0          7.0           0.0            2.0          20.0         100.0          30.0          0.0           7.4          4.0                     2.0              3.9               3.0      0.0           0.50         6.0        31.0                    5                                0                 4\n538     3601      1       0   84                         0                          0.0                  1       2         1         11.100000             1.0         8.22           2.85                     0             0.0                    0.0   27.380117  102.0               14                   26.0              0.0    0.0                28                     0.0                 0.0           1.0         14.0           1.0            7.0          25.0         250.0           0.0         20.0           6.5          4.0                     3.0              4.9               2.0      0.0          28.00         6.0        31.0                    4                                1                 8\n539     3611      0       1   70                         0                          0.0                  0       2         2          6.600000             1.0         5.70           2.60                     0             0.0                    1.0   24.449375   87.0               11                   29.0              0.0    1.0                29                     1.0                 5.2           0.0          7.0           1.0            6.0           5.0          80.0           0.0         40.0           5.0          5.0                     4.0              1.0               3.0      0.0           5.25         6.0        31.0                    1                                0                 1\n\n[540 rows x 45 columns]",
      "text/html": "<div>\n<style scoped>\n    .dataframe tbody tr th:only-of-type {\n        vertical-align: middle;\n    }\n\n    .dataframe tbody tr th {\n        vertical-align: top;\n    }\n\n    .dataframe thead th {\n        text-align: right;\n    }\n</style>\n<table border=\"1\" class=\"dataframe\">\n  <thead>\n    <tr style=\"text-align: right;\">\n      <th></th>\n      <th>part_id</th>\n      <th>fried</th>\n      <th>gender</th>\n      <th>age</th>\n      <th>hospitalization_one_year</th>\n      <th>hospitalization_three_years</th>\n      <th>ortho_hypotension</th>\n      <th>vision</th>\n      <th>audition</th>\n      <th>raise_chair_time</th>\n      <th>balance_single</th>\n      <th>gait_get_up</th>\n      <th>gait_speed_4m</th>\n      <th>gait_optional_binary</th>\n      <th>falls_one_year</th>\n      <th>fractures_three_years</th>\n      <th>bmi_score</th>\n      <th>waist</th>\n      <th>screening_score</th>\n      <th>cognitive_total_score</th>\n      <th>memory_complain</th>\n      <th>sleep</th>\n      <th>mmse_total_score</th>\n      <th>depression_total_score</th>\n      <th>anxiety_perception</th>\n      <th>living_alone</th>\n      <th>leisure_out</th>\n      <th>leisure_club</th>\n      <th>social_visits</th>\n      <th>social_calls</th>\n      <th>social_phone</th>\n      <th>social_skype</th>\n      <th>social_text</th>\n      <th>life_quality</th>\n      <th>health_rate</th>\n      <th>health_rate_comparison</th>\n      <th>pain_perception</th>\n      <th>activity_regular</th>\n      <th>smoking</th>\n      <th>alcohol_units</th>\n      <th>katz_index</th>\n      <th>iadl_grade</th>\n      <th>comorbidities_count</th>\n      <th>comorbidities_significant_count</th>\n      <th>medication_count</th>\n    </tr>\n  </thead>\n  <tbody>\n    <tr>\n      <th>0</th>\n      <td>1001</td>\n      <td>0</td>\n      <td>1</td>\n      <td>75</td>\n      <td>0</td>\n      <td>0.0</td>\n      <td>0</td>\n      <td>1</td>\n      <td>2</td>\n      <td>13.000000</td>\n      <td>1.0</td>\n      <td>18.00</td>\n      <td>7.00</td>\n      <td>0</td>\n      <td>1.0</td>\n      <td>0.0</td>\n      <td>27.587326</td>\n      <td>101.0</td>\n      <td>14</td>\n      <td>25.0</td>\n      <td>0.0</td>\n      <td>0.0</td>\n      <td>30</td>\n      <td>1.0</td>\n      <td>5.0</td>\n      <td>1.0</td>\n      <td>7.0</td>\n      <td>1.0</td>\n      <td>3.0</td>\n      <td>7.0</td>\n      <td>210.0</td>\n      <td>0.0</td>\n      <td>0.0</td>\n      <td>7.4</td>\n      <td>3.0</td>\n      <td>3.0</td>\n      <td>4.2</td>\n      <td>2.0</td>\n      <td>0.0</td>\n      <td>1.00</td>\n      <td>6.0</td>\n      <td>31.0</td>\n      <td>5</td>\n      <td>0</td>\n      <td>5</td>\n    </tr>\n    <tr>\n      <th>1</th>\n      <td>1002</td>\n      <td>1</td>\n      <td>0</td>\n      <td>73</td>\n      <td>0</td>\n      <td>1.0</td>\n      <td>0</td>\n      <td>1</td>\n      <td>1</td>\n      <td>16.000000</td>\n      <td>1.0</td>\n      <td>60.00</td>\n      <td>11.00</td>\n      <td>0</td>\n      <td>1.0</td>\n      <td>0.0</td>\n      <td>25.069362</td>\n      <td>109.0</td>\n      <td>14</td>\n      <td>27.0</td>\n      <td>0.0</td>\n      <td>0.0</td>\n      <td>28</td>\n      <td>8.0</td>\n      <td>8.2</td>\n      <td>0.0</td>\n      <td>7.0</td>\n      <td>0.0</td>\n      <td>1.0</td>\n      <td>20.0</td>\n      <td>140.0</td>\n      <td>0.0</td>\n      <td>0.0</td>\n      <td>7.0</td>\n      <td>3.0</td>\n      <td>2.0</td>\n      <td>3.3</td>\n      <td>2.0</td>\n      <td>0.0</td>\n      <td>14.00</td>\n      <td>6.0</td>\n      <td>26.0</td>\n      <td>12</td>\n      <td>0</td>\n      <td>4</td>\n    </tr>\n    <tr>\n      <th>2</th>\n      <td>1003</td>\n      <td>1</td>\n      <td>0</td>\n      <td>72</td>\n      <td>0</td>\n      <td>0.0</td>\n      <td>0</td>\n      <td>1</td>\n      <td>1</td>\n      <td>10.000000</td>\n      <td>1.0</td>\n      <td>21.00</td>\n      <td>11.00</td>\n      <td>0</td>\n      <td>1.0</td>\n      <td>0.0</td>\n      <td>34.386317</td>\n      <td>122.0</td>\n      <td>14</td>\n      <td>26.0</td>\n      <td>0.0</td>\n      <td>1.0</td>\n      <td>27</td>\n      <td>1.0</td>\n      <td>3.4</td>\n      <td>0.0</td>\n      <td>7.0</td>\n      <td>1.0</td>\n      <td>5.0</td>\n      <td>20.0</td>\n      <td>210.0</td>\n      <td>0.0</td>\n      <td>10.0</td>\n      <td>7.8</td>\n      <td>4.0</td>\n      <td>3.0</td>\n      <td>3.4</td>\n      <td>1.0</td>\n      <td>1.0</td>\n      <td>21.00</td>\n      <td>6.0</td>\n      <td>26.0</td>\n      <td>9</td>\n      <td>0</td>\n      <td>3</td>\n    </tr>\n    <tr>\n      <th>3</th>\n      <td>1004</td>\n      <td>2</td>\n      <td>1</td>\n      <td>88</td>\n      <td>0</td>\n      <td>0.0</td>\n      <td>0</td>\n      <td>1</td>\n      <td>1</td>\n      <td>13.471636</td>\n      <td>0.0</td>\n      <td>24.70</td>\n      <td>14.30</td>\n      <td>0</td>\n      <td>0.0</td>\n      <td>0.0</td>\n      <td>27.733333</td>\n      <td>101.0</td>\n      <td>12</td>\n      <td>23.0</td>\n      <td>0.0</td>\n      <td>0.0</td>\n      <td>24</td>\n      <td>4.0</td>\n      <td>5.6</td>\n      <td>0.0</td>\n      <td>3.0</td>\n      <td>0.0</td>\n      <td>1.0</td>\n      <td>7.0</td>\n      <td>105.0</td>\n      <td>0.0</td>\n      <td>0.0</td>\n      <td>8.0</td>\n      <td>3.0</td>\n      <td>3.0</td>\n      <td>7.3</td>\n      <td>1.0</td>\n      <td>0.0</td>\n      <td>21.00</td>\n      <td>5.5</td>\n      <td>20.0</td>\n      <td>11</td>\n      <td>0</td>\n      <td>8</td>\n    </tr>\n    <tr>\n      <th>4</th>\n      <td>1005</td>\n      <td>1</td>\n      <td>1</td>\n      <td>83</td>\n      <td>0</td>\n      <td>4.0</td>\n      <td>1</td>\n      <td>1</td>\n      <td>0</td>\n      <td>13.000000</td>\n      <td>0.0</td>\n      <td>42.00</td>\n      <td>8.00</td>\n      <td>0</td>\n      <td>1.0</td>\n      <td>0.0</td>\n      <td>25.997436</td>\n      <td>88.0</td>\n      <td>12</td>\n      <td>24.0</td>\n      <td>1.0</td>\n      <td>1.0</td>\n      <td>27</td>\n      <td>3.0</td>\n      <td>8.2</td>\n      <td>1.0</td>\n      <td>7.0</td>\n      <td>1.0</td>\n      <td>2.0</td>\n      <td>10.0</td>\n      <td>70.0</td>\n      <td>0.0</td>\n      <td>0.0</td>\n      <td>8.4</td>\n      <td>3.0</td>\n      <td>3.0</td>\n      <td>3.0</td>\n      <td>3.0</td>\n      <td>2.0</td>\n      <td>0.00</td>\n      <td>6.0</td>\n      <td>30.0</td>\n      <td>12</td>\n      <td>0</td>\n      <td>4</td>\n    </tr>\n    <tr>\n      <th>...</th>\n      <td>...</td>\n      <td>...</td>\n      <td>...</td>\n      <td>...</td>\n      <td>...</td>\n      <td>...</td>\n      <td>...</td>\n      <td>...</td>\n      <td>...</td>\n      <td>...</td>\n      <td>...</td>\n      <td>...</td>\n      <td>...</td>\n      <td>...</td>\n      <td>...</td>\n      <td>...</td>\n      <td>...</td>\n      <td>...</td>\n      <td>...</td>\n      <td>...</td>\n      <td>...</td>\n      <td>...</td>\n      <td>...</td>\n      <td>...</td>\n      <td>...</td>\n      <td>...</td>\n      <td>...</td>\n      <td>...</td>\n      <td>...</td>\n      <td>...</td>\n      <td>...</td>\n      <td>...</td>\n      <td>...</td>\n      <td>...</td>\n      <td>...</td>\n      <td>...</td>\n      <td>...</td>\n      <td>...</td>\n      <td>...</td>\n      <td>...</td>\n      <td>...</td>\n      <td>...</td>\n      <td>...</td>\n      <td>...</td>\n      <td>...</td>\n    </tr>\n    <tr>\n      <th>535</th>\n      <td>3593</td>\n      <td>1</td>\n      <td>0</td>\n      <td>75</td>\n      <td>0</td>\n      <td>1.0</td>\n      <td>1</td>\n      <td>2</td>\n      <td>2</td>\n      <td>14.000000</td>\n      <td>1.0</td>\n      <td>6.20</td>\n      <td>2.30</td>\n      <td>0</td>\n      <td>1.0</td>\n      <td>0.0</td>\n      <td>31.909140</td>\n      <td>112.0</td>\n      <td>11</td>\n      <td>27.0</td>\n      <td>0.0</td>\n      <td>0.0</td>\n      <td>27</td>\n      <td>2.0</td>\n      <td>0.0</td>\n      <td>1.0</td>\n      <td>0.0</td>\n      <td>0.0</td>\n      <td>0.0</td>\n      <td>8.0</td>\n      <td>240.0</td>\n      <td>0.0</td>\n      <td>3.0</td>\n      <td>10.0</td>\n      <td>4.0</td>\n      <td>3.0</td>\n      <td>1.0</td>\n      <td>3.0</td>\n      <td>1.0</td>\n      <td>0.00</td>\n      <td>5.5</td>\n      <td>31.0</td>\n      <td>8</td>\n      <td>1</td>\n      <td>10</td>\n    </tr>\n    <tr>\n      <th>536</th>\n      <td>3594</td>\n      <td>0</td>\n      <td>0</td>\n      <td>71</td>\n      <td>0</td>\n      <td>0.0</td>\n      <td>0</td>\n      <td>2</td>\n      <td>2</td>\n      <td>14.800000</td>\n      <td>1.0</td>\n      <td>8.40</td>\n      <td>2.70</td>\n      <td>0</td>\n      <td>2.0</td>\n      <td>1.0</td>\n      <td>26.161896</td>\n      <td>93.0</td>\n      <td>10</td>\n      <td>27.0</td>\n      <td>0.0</td>\n      <td>0.0</td>\n      <td>29</td>\n      <td>2.0</td>\n      <td>2.4</td>\n      <td>0.0</td>\n      <td>5.0</td>\n      <td>1.0</td>\n      <td>4.0</td>\n      <td>3.0</td>\n      <td>15.0</td>\n      <td>0.0</td>\n      <td>30.0</td>\n      <td>8.5</td>\n      <td>4.0</td>\n      <td>4.0</td>\n      <td>2.0</td>\n      <td>3.0</td>\n      <td>1.0</td>\n      <td>17.25</td>\n      <td>5.0</td>\n      <td>28.0</td>\n      <td>7</td>\n      <td>0</td>\n      <td>3</td>\n    </tr>\n    <tr>\n      <th>537</th>\n      <td>3600</td>\n      <td>0</td>\n      <td>1</td>\n      <td>77</td>\n      <td>0</td>\n      <td>0.0</td>\n      <td>0</td>\n      <td>2</td>\n      <td>2</td>\n      <td>6.590000</td>\n      <td>1.0</td>\n      <td>6.06</td>\n      <td>2.28</td>\n      <td>0</td>\n      <td>0.0</td>\n      <td>0.0</td>\n      <td>921.143251</td>\n      <td>86.0</td>\n      <td>14</td>\n      <td>21.0</td>\n      <td>0.0</td>\n      <td>2.0</td>\n      <td>27</td>\n      <td>3.0</td>\n      <td>4.0</td>\n      <td>1.0</td>\n      <td>7.0</td>\n      <td>0.0</td>\n      <td>2.0</td>\n      <td>20.0</td>\n      <td>100.0</td>\n      <td>30.0</td>\n      <td>0.0</td>\n      <td>7.4</td>\n      <td>4.0</td>\n      <td>2.0</td>\n      <td>3.9</td>\n      <td>3.0</td>\n      <td>0.0</td>\n      <td>0.50</td>\n      <td>6.0</td>\n      <td>31.0</td>\n      <td>5</td>\n      <td>0</td>\n      <td>4</td>\n    </tr>\n    <tr>\n      <th>538</th>\n      <td>3601</td>\n      <td>1</td>\n      <td>0</td>\n      <td>84</td>\n      <td>0</td>\n      <td>0.0</td>\n      <td>1</td>\n      <td>2</td>\n      <td>1</td>\n      <td>11.100000</td>\n      <td>1.0</td>\n      <td>8.22</td>\n      <td>2.85</td>\n      <td>0</td>\n      <td>0.0</td>\n      <td>0.0</td>\n      <td>27.380117</td>\n      <td>102.0</td>\n      <td>14</td>\n      <td>26.0</td>\n      <td>0.0</td>\n      <td>0.0</td>\n      <td>28</td>\n      <td>0.0</td>\n      <td>0.0</td>\n      <td>1.0</td>\n      <td>14.0</td>\n      <td>1.0</td>\n      <td>7.0</td>\n      <td>25.0</td>\n      <td>250.0</td>\n      <td>0.0</td>\n      <td>20.0</td>\n      <td>6.5</td>\n      <td>4.0</td>\n      <td>3.0</td>\n      <td>4.9</td>\n      <td>2.0</td>\n      <td>0.0</td>\n      <td>28.00</td>\n      <td>6.0</td>\n      <td>31.0</td>\n      <td>4</td>\n      <td>1</td>\n      <td>8</td>\n    </tr>\n    <tr>\n      <th>539</th>\n      <td>3611</td>\n      <td>0</td>\n      <td>1</td>\n      <td>70</td>\n      <td>0</td>\n      <td>0.0</td>\n      <td>0</td>\n      <td>2</td>\n      <td>2</td>\n      <td>6.600000</td>\n      <td>1.0</td>\n      <td>5.70</td>\n      <td>2.60</td>\n      <td>0</td>\n      <td>0.0</td>\n      <td>1.0</td>\n      <td>24.449375</td>\n      <td>87.0</td>\n      <td>11</td>\n      <td>29.0</td>\n      <td>0.0</td>\n      <td>1.0</td>\n      <td>29</td>\n      <td>1.0</td>\n      <td>5.2</td>\n      <td>0.0</td>\n      <td>7.0</td>\n      <td>1.0</td>\n      <td>6.0</td>\n      <td>5.0</td>\n      <td>80.0</td>\n      <td>0.0</td>\n      <td>40.0</td>\n      <td>5.0</td>\n      <td>5.0</td>\n      <td>4.0</td>\n      <td>1.0</td>\n      <td>3.0</td>\n      <td>0.0</td>\n      <td>5.25</td>\n      <td>6.0</td>\n      <td>31.0</td>\n      <td>1</td>\n      <td>0</td>\n      <td>1</td>\n    </tr>\n  </tbody>\n</table>\n<p>540 rows × 45 columns</p>\n</div>"
     },
     "execution_count": 3,
     "metadata": {},
     "output_type": "execute_result"
    }
   ],
   "source": [
    "# get data and targets\n",
    "clinical = clinical.drop(['Unnamed: 0', 'weight_loss', 'exhaustion_score',\n",
    "                          'gait_speed_slower', 'grip_strength_abnormal',\n",
    "                          'low_physical_activity'], axis=1)\n",
    "\n",
    "clinical"
   ],
   "metadata": {
    "collapsed": false,
    "pycharm": {
     "name": "#%%\n"
    }
   }
  },
  {
   "cell_type": "code",
   "execution_count": 4,
   "outputs": [],
   "source": [
    "X = clinical.values[:, 2:]\n",
    "y = clinical.values[:, 1].reshape(-1,1)"
   ],
   "metadata": {
    "collapsed": false,
    "pycharm": {
     "name": "#%%\n"
    }
   }
  },
  {
   "cell_type": "code",
   "execution_count": 5,
   "outputs": [],
   "source": [
    "# split train and test sets\n",
    "X_train, X_test, y_train, y_test = train_test_split(X, y, test_size=0.2, random_state=42)"
   ],
   "metadata": {
    "collapsed": false,
    "pycharm": {
     "name": "#%%\n"
    }
   }
  },
  {
   "cell_type": "code",
   "execution_count": 6,
   "outputs": [
    {
     "data": {
      "text/plain": "((432, 43), (108, 43), (432, 1), (108, 1))"
     },
     "execution_count": 6,
     "metadata": {},
     "output_type": "execute_result"
    }
   ],
   "source": [
    "scaler = StandardScaler()\n",
    "X_train = scaler.fit_transform(X_train)\n",
    "X_test = scaler.transform(X_test)\n",
    "X_train.shape, X_test.shape, y_train.shape, y_test.shape"
   ],
   "metadata": {
    "collapsed": false,
    "pycharm": {
     "name": "#%%\n"
    }
   }
  },
  {
   "cell_type": "code",
   "execution_count": 7,
   "outputs": [],
   "source": [
    "dtc = DecisionTreeClassifier()\n",
    "knn = KNeighborsClassifier()\n",
    "rfc = RandomForestClassifier()"
   ],
   "metadata": {
    "collapsed": false,
    "pycharm": {
     "name": "#%%\n"
    }
   }
  },
  {
   "cell_type": "code",
   "execution_count": 8,
   "outputs": [
    {
     "name": "stdout",
     "output_type": "stream",
     "text": [
      "Accuracy for each fold: [0.45454545 0.61363636 0.62790698 0.60465116 0.48837209 0.48837209\n",
      " 0.58139535 0.51162791 0.41860465 0.58139535]\n",
      "Accuracy score: 0.5370507399577167\n"
     ]
    }
   ],
   "source": [
    "# cross validate dtc\n",
    "scores = cross_val_score(dtc, X_train, y_train, cv=10, scoring='accuracy')\n",
    "print(f'Accuracy for each fold: {scores}')\n",
    "print(f'Accuracy score: {scores.mean()}')"
   ],
   "metadata": {
    "collapsed": false,
    "pycharm": {
     "name": "#%%\n"
    }
   }
  },
  {
   "cell_type": "code",
   "execution_count": 9,
   "outputs": [
    {
     "name": "stdout",
     "output_type": "stream",
     "text": [
      "Accuracy for each fold: [0.54545455 0.68181818 0.60465116 0.55813953 0.48837209 0.58139535\n",
      " 0.58139535 0.55813953 0.41860465 0.48837209]\n",
      "Accuracy score: 0.5506342494714588\n"
     ]
    },
    {
     "name": "stderr",
     "output_type": "stream",
     "text": [
      "/Users/shortie/opt/anaconda3/envs/data_analysis/lib/python3.9/site-packages/sklearn/neighbors/_classification.py:198: DataConversionWarning: A column-vector y was passed when a 1d array was expected. Please change the shape of y to (n_samples,), for example using ravel().\n",
      "  return self._fit(X, y)\n",
      "/Users/shortie/opt/anaconda3/envs/data_analysis/lib/python3.9/site-packages/sklearn/neighbors/_classification.py:198: DataConversionWarning: A column-vector y was passed when a 1d array was expected. Please change the shape of y to (n_samples,), for example using ravel().\n",
      "  return self._fit(X, y)\n",
      "/Users/shortie/opt/anaconda3/envs/data_analysis/lib/python3.9/site-packages/sklearn/neighbors/_classification.py:198: DataConversionWarning: A column-vector y was passed when a 1d array was expected. Please change the shape of y to (n_samples,), for example using ravel().\n",
      "  return self._fit(X, y)\n",
      "/Users/shortie/opt/anaconda3/envs/data_analysis/lib/python3.9/site-packages/sklearn/neighbors/_classification.py:198: DataConversionWarning: A column-vector y was passed when a 1d array was expected. Please change the shape of y to (n_samples,), for example using ravel().\n",
      "  return self._fit(X, y)\n",
      "/Users/shortie/opt/anaconda3/envs/data_analysis/lib/python3.9/site-packages/sklearn/neighbors/_classification.py:198: DataConversionWarning: A column-vector y was passed when a 1d array was expected. Please change the shape of y to (n_samples,), for example using ravel().\n",
      "  return self._fit(X, y)\n",
      "/Users/shortie/opt/anaconda3/envs/data_analysis/lib/python3.9/site-packages/sklearn/neighbors/_classification.py:198: DataConversionWarning: A column-vector y was passed when a 1d array was expected. Please change the shape of y to (n_samples,), for example using ravel().\n",
      "  return self._fit(X, y)\n",
      "/Users/shortie/opt/anaconda3/envs/data_analysis/lib/python3.9/site-packages/sklearn/neighbors/_classification.py:198: DataConversionWarning: A column-vector y was passed when a 1d array was expected. Please change the shape of y to (n_samples,), for example using ravel().\n",
      "  return self._fit(X, y)\n",
      "/Users/shortie/opt/anaconda3/envs/data_analysis/lib/python3.9/site-packages/sklearn/neighbors/_classification.py:198: DataConversionWarning: A column-vector y was passed when a 1d array was expected. Please change the shape of y to (n_samples,), for example using ravel().\n",
      "  return self._fit(X, y)\n",
      "/Users/shortie/opt/anaconda3/envs/data_analysis/lib/python3.9/site-packages/sklearn/neighbors/_classification.py:198: DataConversionWarning: A column-vector y was passed when a 1d array was expected. Please change the shape of y to (n_samples,), for example using ravel().\n",
      "  return self._fit(X, y)\n",
      "/Users/shortie/opt/anaconda3/envs/data_analysis/lib/python3.9/site-packages/sklearn/neighbors/_classification.py:198: DataConversionWarning: A column-vector y was passed when a 1d array was expected. Please change the shape of y to (n_samples,), for example using ravel().\n",
      "  return self._fit(X, y)\n"
     ]
    }
   ],
   "source": [
    "# cross validate k-NN\n",
    "\n",
    "scores = cross_val_score(knn, X_train, y_train, cv=10, scoring='accuracy')\n",
    "print(f'Accuracy for each fold: {scores}')\n",
    "print(f'Accuracy score: {scores.mean()}')"
   ],
   "metadata": {
    "collapsed": false,
    "pycharm": {
     "name": "#%%\n"
    }
   }
  },
  {
   "cell_type": "code",
   "execution_count": 10,
   "outputs": [
    {
     "name": "stderr",
     "output_type": "stream",
     "text": [
      "/Users/shortie/opt/anaconda3/envs/data_analysis/lib/python3.9/site-packages/sklearn/model_selection/_validation.py:681: DataConversionWarning: A column-vector y was passed when a 1d array was expected. Please change the shape of y to (n_samples,), for example using ravel().\n",
      "  estimator.fit(X_train, y_train, **fit_params)\n",
      "/Users/shortie/opt/anaconda3/envs/data_analysis/lib/python3.9/site-packages/sklearn/model_selection/_validation.py:681: DataConversionWarning: A column-vector y was passed when a 1d array was expected. Please change the shape of y to (n_samples,), for example using ravel().\n",
      "  estimator.fit(X_train, y_train, **fit_params)\n",
      "/Users/shortie/opt/anaconda3/envs/data_analysis/lib/python3.9/site-packages/sklearn/model_selection/_validation.py:681: DataConversionWarning: A column-vector y was passed when a 1d array was expected. Please change the shape of y to (n_samples,), for example using ravel().\n",
      "  estimator.fit(X_train, y_train, **fit_params)\n",
      "/Users/shortie/opt/anaconda3/envs/data_analysis/lib/python3.9/site-packages/sklearn/model_selection/_validation.py:681: DataConversionWarning: A column-vector y was passed when a 1d array was expected. Please change the shape of y to (n_samples,), for example using ravel().\n",
      "  estimator.fit(X_train, y_train, **fit_params)\n",
      "/Users/shortie/opt/anaconda3/envs/data_analysis/lib/python3.9/site-packages/sklearn/model_selection/_validation.py:681: DataConversionWarning: A column-vector y was passed when a 1d array was expected. Please change the shape of y to (n_samples,), for example using ravel().\n",
      "  estimator.fit(X_train, y_train, **fit_params)\n",
      "/Users/shortie/opt/anaconda3/envs/data_analysis/lib/python3.9/site-packages/sklearn/model_selection/_validation.py:681: DataConversionWarning: A column-vector y was passed when a 1d array was expected. Please change the shape of y to (n_samples,), for example using ravel().\n",
      "  estimator.fit(X_train, y_train, **fit_params)\n",
      "/Users/shortie/opt/anaconda3/envs/data_analysis/lib/python3.9/site-packages/sklearn/model_selection/_validation.py:681: DataConversionWarning: A column-vector y was passed when a 1d array was expected. Please change the shape of y to (n_samples,), for example using ravel().\n",
      "  estimator.fit(X_train, y_train, **fit_params)\n",
      "/Users/shortie/opt/anaconda3/envs/data_analysis/lib/python3.9/site-packages/sklearn/model_selection/_validation.py:681: DataConversionWarning: A column-vector y was passed when a 1d array was expected. Please change the shape of y to (n_samples,), for example using ravel().\n",
      "  estimator.fit(X_train, y_train, **fit_params)\n",
      "/Users/shortie/opt/anaconda3/envs/data_analysis/lib/python3.9/site-packages/sklearn/model_selection/_validation.py:681: DataConversionWarning: A column-vector y was passed when a 1d array was expected. Please change the shape of y to (n_samples,), for example using ravel().\n",
      "  estimator.fit(X_train, y_train, **fit_params)\n",
      "/Users/shortie/opt/anaconda3/envs/data_analysis/lib/python3.9/site-packages/sklearn/model_selection/_validation.py:681: DataConversionWarning: A column-vector y was passed when a 1d array was expected. Please change the shape of y to (n_samples,), for example using ravel().\n",
      "  estimator.fit(X_train, y_train, **fit_params)\n"
     ]
    },
    {
     "name": "stdout",
     "output_type": "stream",
     "text": [
      "Accuracy for each fold: [0.56818182 0.68181818 0.65116279 0.69767442 0.60465116 0.6744186\n",
      " 0.6744186  0.60465116 0.62790698 0.58139535]\n",
      "Accuracy score: 0.6366279069767442\n"
     ]
    }
   ],
   "source": [
    "# cross validate rfc\n",
    "\n",
    "scores = cross_val_score(rfc, X_train, y_train, cv=10, scoring='accuracy')\n",
    "print(f'Accuracy for each fold: {scores}')\n",
    "print(f'Accuracy score: {scores.mean()}')"
   ],
   "metadata": {
    "collapsed": false,
    "pycharm": {
     "name": "#%%\n"
    }
   }
  },
  {
   "cell_type": "code",
   "execution_count": 11,
   "outputs": [
    {
     "name": "stdout",
     "output_type": "stream",
     "text": [
      "accuracy (test_set): 0.46296296296296297\n",
      "accuracy (train_test): 1.0\n"
     ]
    }
   ],
   "source": [
    "dtc.fit(X_train, y_train)\n",
    "pred_test = dtc.predict(X_test)\n",
    "pred_train = dtc.predict(X_train)\n",
    "print(f'accuracy (test_set): {accuracy_score(y_test, pred_test)}')\n",
    "print(f'accuracy (train_test): {accuracy_score(y_train, pred_train)}')"
   ],
   "metadata": {
    "collapsed": false,
    "pycharm": {
     "name": "#%%\n"
    }
   }
  },
  {
   "cell_type": "code",
   "execution_count": 12,
   "outputs": [
    {
     "name": "stdout",
     "output_type": "stream",
     "text": [
      "accuracy (test_set): 0.5833333333333334\n",
      "accuracy (train_test): 0.6736111111111112\n"
     ]
    },
    {
     "name": "stderr",
     "output_type": "stream",
     "text": [
      "/Users/shortie/opt/anaconda3/envs/data_analysis/lib/python3.9/site-packages/sklearn/neighbors/_classification.py:198: DataConversionWarning: A column-vector y was passed when a 1d array was expected. Please change the shape of y to (n_samples,), for example using ravel().\n",
      "  return self._fit(X, y)\n"
     ]
    }
   ],
   "source": [
    "knn.fit(X_train, y_train)\n",
    "pred_test = knn.predict(X_test)\n",
    "pred_train = knn.predict(X_train)\n",
    "print(f'accuracy (test_set): {accuracy_score(y_test, pred_test)}')\n",
    "print(f'accuracy (train_test): {accuracy_score(y_train, pred_train)}')"
   ],
   "metadata": {
    "collapsed": false,
    "pycharm": {
     "name": "#%%\n"
    }
   }
  },
  {
   "cell_type": "code",
   "execution_count": 13,
   "outputs": [
    {
     "name": "stderr",
     "output_type": "stream",
     "text": [
      "/var/folders/4f/cfbbhwjx5xl3tp_3_r7p5d5h0000gn/T/ipykernel_1402/553552318.py:1: DataConversionWarning: A column-vector y was passed when a 1d array was expected. Please change the shape of y to (n_samples,), for example using ravel().\n",
      "  rfc.fit(X_train, y_train)\n"
     ]
    },
    {
     "name": "stdout",
     "output_type": "stream",
     "text": [
      "r2 score (test_set): 0.6574074074074074\n",
      "r2 score (train_test): 1.0\n"
     ]
    }
   ],
   "source": [
    "rfc.fit(X_train, y_train)\n",
    "pred_test = rfc.predict(X_test)\n",
    "pred_train = rfc.predict(X_train)\n",
    "print(f'r2 score (test_set): {accuracy_score(y_test, pred_test)}')\n",
    "print(f'r2 score (train_test): {accuracy_score(y_train, pred_train)}')"
   ],
   "metadata": {
    "collapsed": false,
    "pycharm": {
     "name": "#%%\n"
    }
   }
  },
  {
   "cell_type": "code",
   "execution_count": 14,
   "outputs": [
    {
     "data": {
      "text/plain": "{'ccp_alpha': 0.0,\n 'class_weight': None,\n 'criterion': 'gini',\n 'max_depth': None,\n 'max_features': None,\n 'max_leaf_nodes': None,\n 'min_impurity_decrease': 0.0,\n 'min_samples_leaf': 1,\n 'min_samples_split': 2,\n 'min_weight_fraction_leaf': 0.0,\n 'random_state': None,\n 'splitter': 'best'}"
     },
     "execution_count": 14,
     "metadata": {},
     "output_type": "execute_result"
    }
   ],
   "source": [
    "dtc.get_params()"
   ],
   "metadata": {
    "collapsed": false,
    "pycharm": {
     "name": "#%%\n"
    }
   }
  },
  {
   "cell_type": "code",
   "execution_count": 15,
   "outputs": [
    {
     "name": "stdout",
     "output_type": "stream",
     "text": [
      "DecisionTreeClassifier(min_samples_leaf=5)\n"
     ]
    }
   ],
   "source": [
    "##Grid\n",
    "param_grid = {\"min_samples_leaf\": [1, 2, 3, 4, 5]}\n",
    "\n",
    "grid = GridSearchCV(dtc, param_grid, cv=10, scoring=\"r2\")\n",
    "\n",
    "grid.fit(X_train, y_train)\n",
    "print(grid.best_estimator_)"
   ],
   "metadata": {
    "collapsed": false,
    "pycharm": {
     "name": "#%%\n"
    }
   }
  },
  {
   "cell_type": "code",
   "execution_count": 16,
   "outputs": [
    {
     "data": {
      "text/plain": "-0.06121656646913285"
     },
     "execution_count": 16,
     "metadata": {},
     "output_type": "execute_result"
    }
   ],
   "source": [
    "grid.best_score_"
   ],
   "metadata": {
    "collapsed": false,
    "pycharm": {
     "name": "#%%\n"
    }
   }
  },
  {
   "cell_type": "code",
   "execution_count": 17,
   "outputs": [
    {
     "data": {
      "text/plain": "{'mean_fit_time': array([0.00503054, 0.00440483, 0.0044462 , 0.00388815, 0.00331349]),\n 'std_fit_time': array([0.00062133, 0.00046634, 0.00058708, 0.00051377, 0.00029124]),\n 'mean_score_time': array([0.00049801, 0.00048761, 0.00075204, 0.00046203, 0.00036163]),\n 'std_score_time': array([1.54997633e-04, 1.51077251e-04, 5.02369593e-04, 1.70257458e-04,\n        9.14172695e-05]),\n 'param_min_samples_leaf': masked_array(data=[1, 2, 3, 4, 5],\n              mask=[False, False, False, False, False],\n        fill_value='?',\n             dtype=object),\n 'params': [{'min_samples_leaf': 1},\n  {'min_samples_leaf': 2},\n  {'min_samples_leaf': 3},\n  {'min_samples_leaf': 4},\n  {'min_samples_leaf': 5}],\n 'split0_test_score': array([-0.38174681, -0.46810599, -0.20902846, -0.29538763, -0.16584887]),\n 'split1_test_score': array([-0.03631011,  0.13640824,  0.17958783, -0.25220805,  0.09322866]),\n 'split2_test_score': array([-0.48742138,  0.00838574, -0.03668763, -0.12683438, -0.35220126]),\n 'split3_test_score': array([ 0.278826  , -0.30712788, -0.26205451,  0.18867925, -0.08176101]),\n 'split4_test_score': array([-0.44234801, -0.08176101, -0.03668763, -0.08176101, -0.03668763]),\n 'split5_test_score': array([-0.57756813, -0.39727463, -0.21698113, -0.12683438, -0.26205451]),\n 'split6_test_score': array([-0.47082495, -0.29778672,  0.0915493 ,  0.00503018,  0.26458753]),\n 'split7_test_score': array([-0.16800805,  0.13480885,  0.0915493 , -0.42756539, -0.25452716]),\n 'split8_test_score': array([-0.12474849, -0.12474849, -0.60060362, -0.16800805,  0.13480885]),\n 'split9_test_score': array([ 0.17806841, -0.16800805,  0.04828974,  0.04828974,  0.04828974]),\n 'mean_test_score': array([-0.22320815, -0.15652099, -0.09510668, -0.12365997, -0.06121657]),\n 'std_test_score': array([0.28117324, 0.20057201, 0.21994462, 0.16905608, 0.18835282]),\n 'rank_test_score': array([5, 4, 2, 3, 1], dtype=int32)}"
     },
     "execution_count": 17,
     "metadata": {},
     "output_type": "execute_result"
    }
   ],
   "source": [
    "grid.cv_results_"
   ],
   "metadata": {
    "collapsed": false,
    "pycharm": {
     "name": "#%%\n"
    }
   }
  }
 ],
 "metadata": {
  "kernelspec": {
   "display_name": "Python 3",
   "language": "python",
   "name": "python3"
  },
  "language_info": {
   "codemirror_mode": {
    "name": "ipython",
    "version": 2
   },
   "file_extension": ".py",
   "mimetype": "text/x-python",
   "name": "python",
   "nbconvert_exporter": "python",
   "pygments_lexer": "ipython2",
   "version": "2.7.6"
  }
 },
 "nbformat": 4,
 "nbformat_minor": 0
}