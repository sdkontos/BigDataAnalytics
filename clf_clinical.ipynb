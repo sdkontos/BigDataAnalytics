{
 "cells": [
  {
   "cell_type": "code",
   "execution_count": 21,
   "metadata": {
    "collapsed": true
   },
   "outputs": [],
   "source": [
    "import pandas as pd\n",
    "import matplotlib.pyplot as plt\n",
    "import numpy as np\n",
    "from sklearn.preprocessing import OneHotEncoder\n",
    "import warnings\n",
    "\n",
    "from sklearn.preprocessing import StandardScaler\n",
    "\n",
    "from sklearn.model_selection import RandomizedSearchCV\n",
    "from sklearn.model_selection import GridSearchCV\n",
    "\n",
    "\n",
    "from sklearn.model_selection import train_test_split, cross_val_score\n",
    "\n",
    "from sklearn.ensemble import RandomForestClassifier,GradientBoostingClassifier, StackingClassifier\n",
    "from sklearn.neighbors import KNeighborsClassifier\n",
    "from sklearn.tree import DecisionTreeClassifier\n",
    "from sklearn.metrics import classification_report\n",
    "from sklearn.metrics import roc_auc_score\n",
    "\n",
    "\n",
    "from sklearn.metrics import accuracy_score\n",
    "\n",
    "warnings.filterwarnings('ignore')\n",
    "# pd.set_option('display.max_rows', 500)\n",
    "# pd.set_option('display.max_columns', 500)\n",
    "# pd.set_option('display.width', 1000)"
   ]
  },
  {
   "cell_type": "code",
   "execution_count": 22,
   "outputs": [
    {
     "data": {
      "text/plain": "     fried  part_id  activity_regular  gait_speed_4m  gait_get_up  \\\n0        0     1001               2.0           7.00        18.00   \n1        1     1002               2.0          11.00        60.00   \n2        1     1003               1.0          11.00        21.00   \n3        2     1004               1.0          14.30        24.70   \n4        1     1005               3.0           8.00        42.00   \n..     ...      ...               ...            ...          ...   \n535      1     3593               3.0           2.30         6.20   \n536      0     3594               3.0           2.70         8.40   \n537      0     3600               3.0           2.28         6.06   \n538      1     3601               2.0           2.85         8.22   \n539      0     3611               3.0           2.60         5.70   \n\n     cognitive_total_score  mmse_total_score  depression_total_score  \\\n0                     25.0                30                     1.0   \n1                     27.0                28                     8.0   \n2                     26.0                27                     1.0   \n3                     23.0                24                     4.0   \n4                     24.0                27                     3.0   \n..                     ...               ...                     ...   \n535                   27.0                27                     2.0   \n536                   27.0                29                     2.0   \n537                   21.0                27                     3.0   \n538                   26.0                28                     0.0   \n539                   29.0                29                     1.0   \n\n     health_rate  leisure_out  age  pain_perception  \n0            3.0          7.0   75              4.2  \n1            3.0          7.0   73              3.3  \n2            4.0          7.0   72              3.4  \n3            3.0          3.0   88              7.3  \n4            3.0          7.0   83              3.0  \n..           ...          ...  ...              ...  \n535          4.0          0.0   75              1.0  \n536          4.0          5.0   71              2.0  \n537          4.0          7.0   77              3.9  \n538          4.0         14.0   84              4.9  \n539          5.0          7.0   70              1.0  \n\n[540 rows x 12 columns]",
      "text/html": "<div>\n<style scoped>\n    .dataframe tbody tr th:only-of-type {\n        vertical-align: middle;\n    }\n\n    .dataframe tbody tr th {\n        vertical-align: top;\n    }\n\n    .dataframe thead th {\n        text-align: right;\n    }\n</style>\n<table border=\"1\" class=\"dataframe\">\n  <thead>\n    <tr style=\"text-align: right;\">\n      <th></th>\n      <th>fried</th>\n      <th>part_id</th>\n      <th>activity_regular</th>\n      <th>gait_speed_4m</th>\n      <th>gait_get_up</th>\n      <th>cognitive_total_score</th>\n      <th>mmse_total_score</th>\n      <th>depression_total_score</th>\n      <th>health_rate</th>\n      <th>leisure_out</th>\n      <th>age</th>\n      <th>pain_perception</th>\n    </tr>\n  </thead>\n  <tbody>\n    <tr>\n      <th>0</th>\n      <td>0</td>\n      <td>1001</td>\n      <td>2.0</td>\n      <td>7.00</td>\n      <td>18.00</td>\n      <td>25.0</td>\n      <td>30</td>\n      <td>1.0</td>\n      <td>3.0</td>\n      <td>7.0</td>\n      <td>75</td>\n      <td>4.2</td>\n    </tr>\n    <tr>\n      <th>1</th>\n      <td>1</td>\n      <td>1002</td>\n      <td>2.0</td>\n      <td>11.00</td>\n      <td>60.00</td>\n      <td>27.0</td>\n      <td>28</td>\n      <td>8.0</td>\n      <td>3.0</td>\n      <td>7.0</td>\n      <td>73</td>\n      <td>3.3</td>\n    </tr>\n    <tr>\n      <th>2</th>\n      <td>1</td>\n      <td>1003</td>\n      <td>1.0</td>\n      <td>11.00</td>\n      <td>21.00</td>\n      <td>26.0</td>\n      <td>27</td>\n      <td>1.0</td>\n      <td>4.0</td>\n      <td>7.0</td>\n      <td>72</td>\n      <td>3.4</td>\n    </tr>\n    <tr>\n      <th>3</th>\n      <td>2</td>\n      <td>1004</td>\n      <td>1.0</td>\n      <td>14.30</td>\n      <td>24.70</td>\n      <td>23.0</td>\n      <td>24</td>\n      <td>4.0</td>\n      <td>3.0</td>\n      <td>3.0</td>\n      <td>88</td>\n      <td>7.3</td>\n    </tr>\n    <tr>\n      <th>4</th>\n      <td>1</td>\n      <td>1005</td>\n      <td>3.0</td>\n      <td>8.00</td>\n      <td>42.00</td>\n      <td>24.0</td>\n      <td>27</td>\n      <td>3.0</td>\n      <td>3.0</td>\n      <td>7.0</td>\n      <td>83</td>\n      <td>3.0</td>\n    </tr>\n    <tr>\n      <th>...</th>\n      <td>...</td>\n      <td>...</td>\n      <td>...</td>\n      <td>...</td>\n      <td>...</td>\n      <td>...</td>\n      <td>...</td>\n      <td>...</td>\n      <td>...</td>\n      <td>...</td>\n      <td>...</td>\n      <td>...</td>\n    </tr>\n    <tr>\n      <th>535</th>\n      <td>1</td>\n      <td>3593</td>\n      <td>3.0</td>\n      <td>2.30</td>\n      <td>6.20</td>\n      <td>27.0</td>\n      <td>27</td>\n      <td>2.0</td>\n      <td>4.0</td>\n      <td>0.0</td>\n      <td>75</td>\n      <td>1.0</td>\n    </tr>\n    <tr>\n      <th>536</th>\n      <td>0</td>\n      <td>3594</td>\n      <td>3.0</td>\n      <td>2.70</td>\n      <td>8.40</td>\n      <td>27.0</td>\n      <td>29</td>\n      <td>2.0</td>\n      <td>4.0</td>\n      <td>5.0</td>\n      <td>71</td>\n      <td>2.0</td>\n    </tr>\n    <tr>\n      <th>537</th>\n      <td>0</td>\n      <td>3600</td>\n      <td>3.0</td>\n      <td>2.28</td>\n      <td>6.06</td>\n      <td>21.0</td>\n      <td>27</td>\n      <td>3.0</td>\n      <td>4.0</td>\n      <td>7.0</td>\n      <td>77</td>\n      <td>3.9</td>\n    </tr>\n    <tr>\n      <th>538</th>\n      <td>1</td>\n      <td>3601</td>\n      <td>2.0</td>\n      <td>2.85</td>\n      <td>8.22</td>\n      <td>26.0</td>\n      <td>28</td>\n      <td>0.0</td>\n      <td>4.0</td>\n      <td>14.0</td>\n      <td>84</td>\n      <td>4.9</td>\n    </tr>\n    <tr>\n      <th>539</th>\n      <td>0</td>\n      <td>3611</td>\n      <td>3.0</td>\n      <td>2.60</td>\n      <td>5.70</td>\n      <td>29.0</td>\n      <td>29</td>\n      <td>1.0</td>\n      <td>5.0</td>\n      <td>7.0</td>\n      <td>70</td>\n      <td>1.0</td>\n    </tr>\n  </tbody>\n</table>\n<p>540 rows × 12 columns</p>\n</div>"
     },
     "execution_count": 22,
     "metadata": {},
     "output_type": "execute_result"
    }
   ],
   "source": [
    "clinical = pd.read_csv('clinicalvol2.csv')\n",
    "clinical"
   ],
   "metadata": {
    "collapsed": false,
    "pycharm": {
     "name": "#%%\n"
    }
   }
  },
  {
   "cell_type": "code",
   "execution_count": 23,
   "outputs": [],
   "source": [
    "X = clinical.values[:, 1:]\n",
    "y = clinical.values[:, 0].reshape(-1,1)\n",
    "X = np.array(X)\n",
    "y = np.array(y)"
   ],
   "metadata": {
    "collapsed": false,
    "pycharm": {
     "name": "#%%\n"
    }
   }
  },
  {
   "cell_type": "code",
   "execution_count": 24,
   "outputs": [],
   "source": [
    "# split train and test sets\n",
    "X_train, X_test, y_train, y_test = train_test_split(X, y, test_size=0.1, random_state=42)"
   ],
   "metadata": {
    "collapsed": false,
    "pycharm": {
     "name": "#%%\n"
    }
   }
  },
  {
   "cell_type": "code",
   "execution_count": 25,
   "outputs": [
    {
     "data": {
      "text/plain": "((486, 11), (54, 11), (486, 1), (54, 1))"
     },
     "execution_count": 25,
     "metadata": {},
     "output_type": "execute_result"
    }
   ],
   "source": [
    "scaler = StandardScaler()\n",
    "X_train = scaler.fit_transform(X_train)\n",
    "X_test = scaler.transform(X_test)\n",
    "X_train.shape, X_test.shape, y_train.shape, y_test.shape"
   ],
   "metadata": {
    "collapsed": false,
    "pycharm": {
     "name": "#%%\n"
    }
   }
  },
  {
   "cell_type": "code",
   "execution_count": 26,
   "outputs": [],
   "source": [
    "dtc = DecisionTreeClassifier()\n",
    "knn = KNeighborsClassifier()\n",
    "rfc = RandomForestClassifier()"
   ],
   "metadata": {
    "collapsed": false,
    "pycharm": {
     "name": "#%%\n"
    }
   }
  },
  {
   "cell_type": "code",
   "execution_count": 27,
   "outputs": [
    {
     "name": "stdout",
     "output_type": "stream",
     "text": [
      "Accuracy for each fold: [0.51020408 0.65306122 0.48979592 0.57142857 0.6122449  0.55102041\n",
      " 0.64583333 0.54166667 0.4375     0.5       ]\n",
      "Accuracy score: 0.5512755102040816\n"
     ]
    }
   ],
   "source": [
    "# cross validate dtc\n",
    "scores = cross_val_score(dtc, X_train, y_train, cv=10, scoring='accuracy')\n",
    "print(f'Accuracy for each fold: {scores}')\n",
    "print(f'Accuracy score: {scores.mean()}')"
   ],
   "metadata": {
    "collapsed": false,
    "pycharm": {
     "name": "#%%\n"
    }
   }
  },
  {
   "cell_type": "code",
   "execution_count": 28,
   "outputs": [
    {
     "name": "stdout",
     "output_type": "stream",
     "text": [
      "Accuracy for each fold: [0.53061224 0.59183673 0.63265306 0.59183673 0.40816327 0.55102041\n",
      " 0.54166667 0.60416667 0.47916667 0.54166667]\n",
      "Accuracy score: 0.5472789115646259\n"
     ]
    }
   ],
   "source": [
    "# cross validate k-NN\n",
    "\n",
    "scores = cross_val_score(knn, X_train, y_train, cv=10, scoring='accuracy')\n",
    "print(f'Accuracy for each fold: {scores}')\n",
    "print(f'Accuracy score: {scores.mean()}')"
   ],
   "metadata": {
    "collapsed": false,
    "pycharm": {
     "name": "#%%\n"
    }
   }
  },
  {
   "cell_type": "code",
   "execution_count": 29,
   "outputs": [
    {
     "name": "stdout",
     "output_type": "stream",
     "text": [
      "Accuracy for each fold: [0.65306122 0.6122449  0.55102041 0.67346939 0.59183673 0.51020408\n",
      " 0.625      0.5625     0.54166667 0.5625    ]\n",
      "Accuracy score: 0.5883503401360545\n"
     ]
    }
   ],
   "source": [
    "# cross validate rfc\n",
    "\n",
    "scores = cross_val_score(rfc, X_train, y_train, cv=10, scoring='accuracy')\n",
    "print(f'Accuracy for each fold: {scores}')\n",
    "print(f'Accuracy score: {scores.mean()}')"
   ],
   "metadata": {
    "collapsed": false,
    "pycharm": {
     "name": "#%%\n"
    }
   }
  },
  {
   "cell_type": "code",
   "execution_count": 30,
   "outputs": [
    {
     "name": "stdout",
     "output_type": "stream",
     "text": [
      "accuracy (test_set): 0.5925925925925926\n",
      "accuracy (train_test): 1.0\n"
     ]
    }
   ],
   "source": [
    "dtc.fit(X_train, y_train)\n",
    "pred_test = dtc.predict(X_test)\n",
    "pred_train = dtc.predict(X_train)\n",
    "print(f'accuracy (test_set): {accuracy_score(y_test, pred_test)}')\n",
    "print(f'accuracy (train_test): {accuracy_score(y_train, pred_train)}')"
   ],
   "metadata": {
    "collapsed": false,
    "pycharm": {
     "name": "#%%\n"
    }
   }
  },
  {
   "cell_type": "code",
   "execution_count": 31,
   "outputs": [
    {
     "name": "stdout",
     "output_type": "stream",
     "text": [
      "accuracy (test_set): 0.6111111111111112\n",
      "accuracy (train_test): 0.6790123456790124\n"
     ]
    }
   ],
   "source": [
    "knn.fit(X_train, y_train)\n",
    "pred_test = knn.predict(X_test)\n",
    "pred_train = knn.predict(X_train)\n",
    "print(f'accuracy (test_set): {accuracy_score(y_test, pred_test)}')\n",
    "print(f'accuracy (train_test): {accuracy_score(y_train, pred_train)}')"
   ],
   "metadata": {
    "collapsed": false,
    "pycharm": {
     "name": "#%%\n"
    }
   }
  },
  {
   "cell_type": "code",
   "execution_count": 32,
   "outputs": [
    {
     "name": "stdout",
     "output_type": "stream",
     "text": [
      "accuracy (test_set): 0.7037037037037037\n",
      "accuracy (train_test): 1.0\n"
     ]
    }
   ],
   "source": [
    "rfc.fit(X_train, y_train)\n",
    "pred_test = rfc.predict(X_test)\n",
    "pred_train = rfc.predict(X_train)\n",
    "print(f'accuracy (test_set): {accuracy_score(y_test, pred_test)}')\n",
    "print(f'accuracy (train_test): {accuracy_score(y_train, pred_train)}')"
   ],
   "metadata": {
    "collapsed": false,
    "pycharm": {
     "name": "#%%\n"
    }
   }
  },
  {
   "cell_type": "code",
   "execution_count": 33,
   "outputs": [
    {
     "data": {
      "text/plain": "{'bootstrap': True,\n 'ccp_alpha': 0.0,\n 'class_weight': None,\n 'criterion': 'gini',\n 'max_depth': None,\n 'max_features': 'auto',\n 'max_leaf_nodes': None,\n 'max_samples': None,\n 'min_impurity_decrease': 0.0,\n 'min_samples_leaf': 1,\n 'min_samples_split': 2,\n 'min_weight_fraction_leaf': 0.0,\n 'n_estimators': 100,\n 'n_jobs': None,\n 'oob_score': False,\n 'random_state': None,\n 'verbose': 0,\n 'warm_start': False}"
     },
     "execution_count": 33,
     "metadata": {},
     "output_type": "execute_result"
    }
   ],
   "source": [
    "rfc.get_params()"
   ],
   "metadata": {
    "collapsed": false,
    "pycharm": {
     "name": "#%%\n"
    }
   }
  },
  {
   "cell_type": "code",
   "execution_count": 34,
   "outputs": [
    {
     "name": "stdout",
     "output_type": "stream",
     "text": [
      "{'n_estimators': [100, 311, 522, 733, 944, 1155, 1366, 1577, 1788, 2000], 'max_features': ['auto', 'sqrt'], 'max_depth': [10, 20, 30, 40, 50, 60, 70, 80, 90, 100, 110, None], 'min_samples_split': [2, 5, 10], 'min_samples_leaf': [1, 2, 4], 'bootstrap': [True, False]}\n"
     ]
    }
   ],
   "source": [
    "# Number of trees in random forest\n",
    "n_estimators = [int(x) for x in np.linspace(start = 100, stop = 2000, num = 10)]\n",
    "# Number of features to consider at every split\n",
    "max_features = ['auto', 'sqrt']\n",
    "# Maximum number of levels in tree\n",
    "max_depth = [int(x) for x in np.linspace(10, 110, num = 11)]\n",
    "max_depth.append(None)\n",
    "# Minimum number of samples required to split a node\n",
    "min_samples_split = [2, 5, 10]\n",
    "# Minimum number of samples required at each leaf node\n",
    "min_samples_leaf = [1, 2, 4]\n",
    "# Method of selecting samples for training each tree\n",
    "bootstrap = [True, False]\n",
    "# Create the random grid\n",
    "random_grid = {'n_estimators': n_estimators,\n",
    "               'max_features': max_features,\n",
    "               'max_depth': max_depth,\n",
    "               'min_samples_split': min_samples_split,\n",
    "               'min_samples_leaf': min_samples_leaf,\n",
    "               'bootstrap': bootstrap}\n",
    "print(random_grid)"
   ],
   "metadata": {
    "collapsed": false,
    "pycharm": {
     "name": "#%%\n"
    }
   }
  },
  {
   "cell_type": "code",
   "execution_count": 35,
   "outputs": [],
   "source": [
    "#rf_random = RandomizedSearchCV(estimator = rfc, param_distributions = random_grid, n_iter = 100, cv = 3, verbose=2, random_state=42, n_jobs = -1)\n",
    "# Fit the random search model\n",
    "#rf_random.fit(X_train, y_train)"
   ],
   "metadata": {
    "collapsed": false,
    "pycharm": {
     "name": "#%%\n"
    }
   }
  },
  {
   "cell_type": "code",
   "execution_count": 36,
   "outputs": [],
   "source": [
    "#rf_random.best_params_"
   ],
   "metadata": {
    "collapsed": false,
    "pycharm": {
     "name": "#%%\n"
    }
   }
  },
  {
   "cell_type": "code",
   "execution_count": 37,
   "outputs": [
    {
     "name": "stdout",
     "output_type": "stream",
     "text": [
      "accuracy (test_set): 0.7222222222222222\n",
      "accuracy (train_test): 1.0\n"
     ]
    }
   ],
   "source": [
    "rfc = RandomForestClassifier(n_estimators=100, min_samples_split=2, min_samples_leaf=1,\n",
    "                             max_features='sqrt', max_depth=50, bootstrap=True)\n",
    "rfc.fit(X_train, y_train)\n",
    "pred_test_rfr = rfc.predict(X_test)\n",
    "pred_train_rfr = rfc.predict(X_train)\n",
    "print(f'accuracy (test_set): {accuracy_score(y_test, pred_test_rfr)}')\n",
    "print(f'accuracy (train_test): {accuracy_score(y_train, pred_train_rfr)}')"
   ],
   "metadata": {
    "collapsed": false,
    "pycharm": {
     "name": "#%%\n"
    }
   }
  },
  {
   "cell_type": "code",
   "execution_count": 38,
   "outputs": [
    {
     "name": "stdout",
     "output_type": "stream",
     "text": [
      "              precision    recall  f1-score   support\n",
      "\n",
      "         0.0       0.61      0.74      0.67        23\n",
      "         1.0       0.53      0.41      0.46        22\n",
      "         2.0       0.78      0.78      0.78         9\n",
      "\n",
      "    accuracy                           0.61        54\n",
      "   macro avg       0.64      0.64      0.64        54\n",
      "weighted avg       0.60      0.61      0.60        54\n",
      "\n"
     ]
    }
   ],
   "source": [
    "y_pred = knn.predict(X_test)\n",
    "#Checking performance our model with classification report.\n",
    "print(classification_report(y_test, y_pred))"
   ],
   "metadata": {
    "collapsed": false,
    "pycharm": {
     "name": "#%%\n"
    }
   }
  },
  {
   "cell_type": "code",
   "execution_count": 39,
   "outputs": [],
   "source": [
    "#List Hyperparameters that we want to tune.\n",
    "#leaf_size = list(range(1,50))\n",
    "#n_neighbors = list(range(1,30))\n",
    "#p=[1,2]\n",
    "##Convert to dictionary\n",
    "#hyperparameters = dict(leaf_size=leaf_size, n_neighbors=n_neighbors, p=p)\n",
    "##Create new KNN object\n",
    "#knn_2 = KNeighborsClassifier()\n",
    "##Use GridSearch\n",
    "#clf = GridSearchCV(knn_2, hyperparameters, cv=10)\n",
    "##Fit the model\n",
    "#best_model = clf.fit(X_train,y_train)\n",
    "##Print The value of best Hyperparameters\n",
    "#print('Best leaf_size:', best_model.best_estimator_.get_params()['leaf_size'])\n",
    "#print('Best p:', best_model.best_estimator_.get_params()['p'])\n",
    "#print('Best n_neighbors:', best_model.best_estimator_.get_params()['n_neighbors'])"
   ],
   "metadata": {
    "collapsed": false,
    "pycharm": {
     "name": "#%%\n"
    }
   }
  },
  {
   "cell_type": "code",
   "execution_count": 40,
   "outputs": [
    {
     "name": "stdout",
     "output_type": "stream",
     "text": [
      "accuracy (test_set): 0.7037037037037037\n",
      "accuracy (train_test): 0.6358024691358025\n"
     ]
    }
   ],
   "source": [
    "knn = KNeighborsClassifier(leaf_size=1, p=2, n_neighbors=26)\n",
    "knn.fit(X_train, y_train)\n",
    "pred_test = knn.predict(X_test)\n",
    "pred_train = knn.predict(X_train)\n",
    "print(f'accuracy (test_set): {accuracy_score(y_test, pred_test)}')\n",
    "print(f'accuracy (train_test): {accuracy_score(y_train, pred_train)}')"
   ],
   "metadata": {
    "collapsed": false,
    "pycharm": {
     "name": "#%%\n"
    }
   }
  }
 ],
 "metadata": {
  "kernelspec": {
   "display_name": "Python 3",
   "language": "python",
   "name": "python3"
  },
  "language_info": {
   "codemirror_mode": {
    "name": "ipython",
    "version": 2
   },
   "file_extension": ".py",
   "mimetype": "text/x-python",
   "name": "python",
   "nbconvert_exporter": "python",
   "pygments_lexer": "ipython2",
   "version": "2.7.6"
  }
 },
 "nbformat": 4,
 "nbformat_minor": 0
}