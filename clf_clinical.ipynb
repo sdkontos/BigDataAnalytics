{
 "cells": [
  {
   "cell_type": "code",
   "execution_count": 81,
   "metadata": {
    "collapsed": true
   },
   "outputs": [],
   "source": [
    "import pandas as pd\n",
    "import matplotlib.pyplot as plt\n",
    "import numpy as np\n",
    "from sklearn.preprocessing import OneHotEncoder\n",
    "import warnings\n",
    "\n",
    "from sklearn.preprocessing import StandardScaler\n",
    "\n",
    "from sklearn.model_selection import GridSearchCV\n",
    "\n",
    "from sklearn.model_selection import train_test_split, cross_val_score\n",
    "\n",
    "from sklearn.ensemble import RandomForestClassifier,GradientBoostingClassifier, StackingClassifier\n",
    "from sklearn.neighbors import KNeighborsClassifier\n",
    "from sklearn.tree import DecisionTreeClassifier\n",
    "\n",
    "\n",
    "from sklearn.metrics import accuracy_score\n",
    "\n",
    "warnings.filterwarnings('ignore')\n",
    "# pd.set_option('display.max_rows', 500)\n",
    "# pd.set_option('display.max_columns', 500)\n",
    "# pd.set_option('display.width', 1000)"
   ]
  },
  {
   "cell_type": "code",
   "execution_count": 82,
   "outputs": [
    {
     "data": {
      "text/plain": "     fried  part_id  activity_regular  gait_speed_4m  gait_get_up  \\\n0        0     1001               2.0           7.00        18.00   \n1        1     1002               2.0          11.00        60.00   \n2        1     1003               1.0          11.00        21.00   \n3        2     1004               1.0          14.30        24.70   \n4        1     1005               3.0           8.00        42.00   \n..     ...      ...               ...            ...          ...   \n535      1     3593               3.0           2.30         6.20   \n536      0     3594               3.0           2.70         8.40   \n537      0     3600               3.0           2.28         6.06   \n538      1     3601               2.0           2.85         8.22   \n539      0     3611               3.0           2.60         5.70   \n\n     cognitive_total_score  mmse_total_score  depression_total_score  \\\n0                     25.0                30                     1.0   \n1                     27.0                28                     8.0   \n2                     26.0                27                     1.0   \n3                     23.0                24                     4.0   \n4                     24.0                27                     3.0   \n..                     ...               ...                     ...   \n535                   27.0                27                     2.0   \n536                   27.0                29                     2.0   \n537                   21.0                27                     3.0   \n538                   26.0                28                     0.0   \n539                   29.0                29                     1.0   \n\n     health_rate  leisure_out  ...  pain_perception  iadl_grade  \\\n0            3.0          7.0  ...              4.2        31.0   \n1            3.0          7.0  ...              3.3        26.0   \n2            4.0          7.0  ...              3.4        26.0   \n3            3.0          3.0  ...              7.3        20.0   \n4            3.0          7.0  ...              3.0        30.0   \n..           ...          ...  ...              ...         ...   \n535          4.0          0.0  ...              1.0        31.0   \n536          4.0          5.0  ...              2.0        28.0   \n537          4.0          7.0  ...              3.9        31.0   \n538          4.0         14.0  ...              4.9        31.0   \n539          5.0          7.0  ...              1.0        31.0   \n\n     screening_score  leisure_club  raise_chair_time  comorbidities_count  \\\n0                 14           1.0         13.000000                    5   \n1                 14           0.0         16.000000                   12   \n2                 14           1.0         10.000000                    9   \n3                 12           0.0         13.471636                   11   \n4                 12           1.0         13.000000                   12   \n..               ...           ...               ...                  ...   \n535               11           0.0         14.000000                    8   \n536               10           1.0         14.800000                    7   \n537               14           0.0          6.590000                    5   \n538               14           1.0         11.100000                    4   \n539               11           1.0          6.600000                    1   \n\n     gait_optional_binary  social_text  katz_index  vision  \n0                       0          0.0         6.0       1  \n1                       0          0.0         6.0       1  \n2                       0         10.0         6.0       1  \n3                       0          0.0         5.5       1  \n4                       0          0.0         6.0       1  \n..                    ...          ...         ...     ...  \n535                     0          3.0         5.5       2  \n536                     0         30.0         5.0       2  \n537                     0          0.0         6.0       2  \n538                     0         20.0         6.0       2  \n539                     0         40.0         6.0       2  \n\n[540 rows x 21 columns]",
      "text/html": "<div>\n<style scoped>\n    .dataframe tbody tr th:only-of-type {\n        vertical-align: middle;\n    }\n\n    .dataframe tbody tr th {\n        vertical-align: top;\n    }\n\n    .dataframe thead th {\n        text-align: right;\n    }\n</style>\n<table border=\"1\" class=\"dataframe\">\n  <thead>\n    <tr style=\"text-align: right;\">\n      <th></th>\n      <th>fried</th>\n      <th>part_id</th>\n      <th>activity_regular</th>\n      <th>gait_speed_4m</th>\n      <th>gait_get_up</th>\n      <th>cognitive_total_score</th>\n      <th>mmse_total_score</th>\n      <th>depression_total_score</th>\n      <th>health_rate</th>\n      <th>leisure_out</th>\n      <th>...</th>\n      <th>pain_perception</th>\n      <th>iadl_grade</th>\n      <th>screening_score</th>\n      <th>leisure_club</th>\n      <th>raise_chair_time</th>\n      <th>comorbidities_count</th>\n      <th>gait_optional_binary</th>\n      <th>social_text</th>\n      <th>katz_index</th>\n      <th>vision</th>\n    </tr>\n  </thead>\n  <tbody>\n    <tr>\n      <th>0</th>\n      <td>0</td>\n      <td>1001</td>\n      <td>2.0</td>\n      <td>7.00</td>\n      <td>18.00</td>\n      <td>25.0</td>\n      <td>30</td>\n      <td>1.0</td>\n      <td>3.0</td>\n      <td>7.0</td>\n      <td>...</td>\n      <td>4.2</td>\n      <td>31.0</td>\n      <td>14</td>\n      <td>1.0</td>\n      <td>13.000000</td>\n      <td>5</td>\n      <td>0</td>\n      <td>0.0</td>\n      <td>6.0</td>\n      <td>1</td>\n    </tr>\n    <tr>\n      <th>1</th>\n      <td>1</td>\n      <td>1002</td>\n      <td>2.0</td>\n      <td>11.00</td>\n      <td>60.00</td>\n      <td>27.0</td>\n      <td>28</td>\n      <td>8.0</td>\n      <td>3.0</td>\n      <td>7.0</td>\n      <td>...</td>\n      <td>3.3</td>\n      <td>26.0</td>\n      <td>14</td>\n      <td>0.0</td>\n      <td>16.000000</td>\n      <td>12</td>\n      <td>0</td>\n      <td>0.0</td>\n      <td>6.0</td>\n      <td>1</td>\n    </tr>\n    <tr>\n      <th>2</th>\n      <td>1</td>\n      <td>1003</td>\n      <td>1.0</td>\n      <td>11.00</td>\n      <td>21.00</td>\n      <td>26.0</td>\n      <td>27</td>\n      <td>1.0</td>\n      <td>4.0</td>\n      <td>7.0</td>\n      <td>...</td>\n      <td>3.4</td>\n      <td>26.0</td>\n      <td>14</td>\n      <td>1.0</td>\n      <td>10.000000</td>\n      <td>9</td>\n      <td>0</td>\n      <td>10.0</td>\n      <td>6.0</td>\n      <td>1</td>\n    </tr>\n    <tr>\n      <th>3</th>\n      <td>2</td>\n      <td>1004</td>\n      <td>1.0</td>\n      <td>14.30</td>\n      <td>24.70</td>\n      <td>23.0</td>\n      <td>24</td>\n      <td>4.0</td>\n      <td>3.0</td>\n      <td>3.0</td>\n      <td>...</td>\n      <td>7.3</td>\n      <td>20.0</td>\n      <td>12</td>\n      <td>0.0</td>\n      <td>13.471636</td>\n      <td>11</td>\n      <td>0</td>\n      <td>0.0</td>\n      <td>5.5</td>\n      <td>1</td>\n    </tr>\n    <tr>\n      <th>4</th>\n      <td>1</td>\n      <td>1005</td>\n      <td>3.0</td>\n      <td>8.00</td>\n      <td>42.00</td>\n      <td>24.0</td>\n      <td>27</td>\n      <td>3.0</td>\n      <td>3.0</td>\n      <td>7.0</td>\n      <td>...</td>\n      <td>3.0</td>\n      <td>30.0</td>\n      <td>12</td>\n      <td>1.0</td>\n      <td>13.000000</td>\n      <td>12</td>\n      <td>0</td>\n      <td>0.0</td>\n      <td>6.0</td>\n      <td>1</td>\n    </tr>\n    <tr>\n      <th>...</th>\n      <td>...</td>\n      <td>...</td>\n      <td>...</td>\n      <td>...</td>\n      <td>...</td>\n      <td>...</td>\n      <td>...</td>\n      <td>...</td>\n      <td>...</td>\n      <td>...</td>\n      <td>...</td>\n      <td>...</td>\n      <td>...</td>\n      <td>...</td>\n      <td>...</td>\n      <td>...</td>\n      <td>...</td>\n      <td>...</td>\n      <td>...</td>\n      <td>...</td>\n      <td>...</td>\n    </tr>\n    <tr>\n      <th>535</th>\n      <td>1</td>\n      <td>3593</td>\n      <td>3.0</td>\n      <td>2.30</td>\n      <td>6.20</td>\n      <td>27.0</td>\n      <td>27</td>\n      <td>2.0</td>\n      <td>4.0</td>\n      <td>0.0</td>\n      <td>...</td>\n      <td>1.0</td>\n      <td>31.0</td>\n      <td>11</td>\n      <td>0.0</td>\n      <td>14.000000</td>\n      <td>8</td>\n      <td>0</td>\n      <td>3.0</td>\n      <td>5.5</td>\n      <td>2</td>\n    </tr>\n    <tr>\n      <th>536</th>\n      <td>0</td>\n      <td>3594</td>\n      <td>3.0</td>\n      <td>2.70</td>\n      <td>8.40</td>\n      <td>27.0</td>\n      <td>29</td>\n      <td>2.0</td>\n      <td>4.0</td>\n      <td>5.0</td>\n      <td>...</td>\n      <td>2.0</td>\n      <td>28.0</td>\n      <td>10</td>\n      <td>1.0</td>\n      <td>14.800000</td>\n      <td>7</td>\n      <td>0</td>\n      <td>30.0</td>\n      <td>5.0</td>\n      <td>2</td>\n    </tr>\n    <tr>\n      <th>537</th>\n      <td>0</td>\n      <td>3600</td>\n      <td>3.0</td>\n      <td>2.28</td>\n      <td>6.06</td>\n      <td>21.0</td>\n      <td>27</td>\n      <td>3.0</td>\n      <td>4.0</td>\n      <td>7.0</td>\n      <td>...</td>\n      <td>3.9</td>\n      <td>31.0</td>\n      <td>14</td>\n      <td>0.0</td>\n      <td>6.590000</td>\n      <td>5</td>\n      <td>0</td>\n      <td>0.0</td>\n      <td>6.0</td>\n      <td>2</td>\n    </tr>\n    <tr>\n      <th>538</th>\n      <td>1</td>\n      <td>3601</td>\n      <td>2.0</td>\n      <td>2.85</td>\n      <td>8.22</td>\n      <td>26.0</td>\n      <td>28</td>\n      <td>0.0</td>\n      <td>4.0</td>\n      <td>14.0</td>\n      <td>...</td>\n      <td>4.9</td>\n      <td>31.0</td>\n      <td>14</td>\n      <td>1.0</td>\n      <td>11.100000</td>\n      <td>4</td>\n      <td>0</td>\n      <td>20.0</td>\n      <td>6.0</td>\n      <td>2</td>\n    </tr>\n    <tr>\n      <th>539</th>\n      <td>0</td>\n      <td>3611</td>\n      <td>3.0</td>\n      <td>2.60</td>\n      <td>5.70</td>\n      <td>29.0</td>\n      <td>29</td>\n      <td>1.0</td>\n      <td>5.0</td>\n      <td>7.0</td>\n      <td>...</td>\n      <td>1.0</td>\n      <td>31.0</td>\n      <td>11</td>\n      <td>1.0</td>\n      <td>6.600000</td>\n      <td>1</td>\n      <td>0</td>\n      <td>40.0</td>\n      <td>6.0</td>\n      <td>2</td>\n    </tr>\n  </tbody>\n</table>\n<p>540 rows × 21 columns</p>\n</div>"
     },
     "execution_count": 82,
     "metadata": {},
     "output_type": "execute_result"
    }
   ],
   "source": [
    "clinical = pd.read_csv('clinicalvol2.csv')\n",
    "clinical"
   ],
   "metadata": {
    "collapsed": false,
    "pycharm": {
     "name": "#%%\n"
    }
   }
  },
  {
   "cell_type": "code",
   "execution_count": 83,
   "outputs": [],
   "source": [
    "X = clinical.values[:, 1:]\n",
    "y = clinical.values[:, 0].reshape(-1,1)\n",
    "X = np.array(X)\n",
    "y = np.array(y)"
   ],
   "metadata": {
    "collapsed": false,
    "pycharm": {
     "name": "#%%\n"
    }
   }
  },
  {
   "cell_type": "code",
   "execution_count": 84,
   "outputs": [],
   "source": [
    "# split train and test sets\n",
    "X_train, X_test, y_train, y_test = train_test_split(X, y, test_size=0.2, random_state=42)"
   ],
   "metadata": {
    "collapsed": false,
    "pycharm": {
     "name": "#%%\n"
    }
   }
  },
  {
   "cell_type": "code",
   "execution_count": 85,
   "outputs": [
    {
     "data": {
      "text/plain": "((432, 20), (108, 20), (432, 1), (108, 1))"
     },
     "execution_count": 85,
     "metadata": {},
     "output_type": "execute_result"
    }
   ],
   "source": [
    "scaler = StandardScaler()\n",
    "X_train = scaler.fit_transform(X_train)\n",
    "X_test = scaler.transform(X_test)\n",
    "X_train.shape, X_test.shape, y_train.shape, y_test.shape"
   ],
   "metadata": {
    "collapsed": false,
    "pycharm": {
     "name": "#%%\n"
    }
   }
  },
  {
   "cell_type": "code",
   "execution_count": 86,
   "outputs": [],
   "source": [
    "dtc = DecisionTreeClassifier()\n",
    "knn = KNeighborsClassifier()\n",
    "rfc = RandomForestClassifier()"
   ],
   "metadata": {
    "collapsed": false,
    "pycharm": {
     "name": "#%%\n"
    }
   }
  },
  {
   "cell_type": "code",
   "execution_count": 87,
   "outputs": [
    {
     "name": "stdout",
     "output_type": "stream",
     "text": [
      "Accuracy for each fold: [0.54545455 0.52272727 0.48837209 0.62790698 0.51162791 0.51162791\n",
      " 0.51162791 0.53488372 0.39534884 0.55813953]\n",
      "Accuracy score: 0.5207716701902749\n"
     ]
    }
   ],
   "source": [
    "# cross validate dtc\n",
    "scores = cross_val_score(dtc, X_train, y_train, cv=10, scoring='accuracy')\n",
    "print(f'Accuracy for each fold: {scores}')\n",
    "print(f'Accuracy score: {scores.mean()}')"
   ],
   "metadata": {
    "collapsed": false,
    "pycharm": {
     "name": "#%%\n"
    }
   }
  },
  {
   "cell_type": "code",
   "execution_count": 88,
   "outputs": [
    {
     "name": "stdout",
     "output_type": "stream",
     "text": [
      "Accuracy for each fold: [0.52272727 0.65909091 0.55813953 0.65116279 0.65116279 0.6744186\n",
      " 0.58139535 0.62790698 0.44186047 0.48837209]\n",
      "Accuracy score: 0.5856236786469344\n"
     ]
    }
   ],
   "source": [
    "# cross validate k-NN\n",
    "\n",
    "scores = cross_val_score(knn, X_train, y_train, cv=10, scoring='accuracy')\n",
    "print(f'Accuracy for each fold: {scores}')\n",
    "print(f'Accuracy score: {scores.mean()}')"
   ],
   "metadata": {
    "collapsed": false,
    "pycharm": {
     "name": "#%%\n"
    }
   }
  },
  {
   "cell_type": "code",
   "execution_count": 89,
   "outputs": [
    {
     "name": "stdout",
     "output_type": "stream",
     "text": [
      "Accuracy for each fold: [0.63636364 0.70454545 0.72093023 0.72093023 0.6744186  0.65116279\n",
      " 0.6744186  0.53488372 0.48837209 0.53488372]\n",
      "Accuracy score: 0.634090909090909\n"
     ]
    }
   ],
   "source": [
    "# cross validate rfc\n",
    "\n",
    "scores = cross_val_score(rfc, X_train, y_train, cv=10, scoring='accuracy')\n",
    "print(f'Accuracy for each fold: {scores}')\n",
    "print(f'Accuracy score: {scores.mean()}')"
   ],
   "metadata": {
    "collapsed": false,
    "pycharm": {
     "name": "#%%\n"
    }
   }
  },
  {
   "cell_type": "code",
   "execution_count": 90,
   "outputs": [
    {
     "name": "stdout",
     "output_type": "stream",
     "text": [
      "accuracy (test_set): 0.5370370370370371\n",
      "accuracy (train_test): 1.0\n"
     ]
    }
   ],
   "source": [
    "dtc.fit(X_train, y_train)\n",
    "pred_test = dtc.predict(X_test)\n",
    "pred_train = dtc.predict(X_train)\n",
    "print(f'accuracy (test_set): {accuracy_score(y_test, pred_test)}')\n",
    "print(f'accuracy (train_test): {accuracy_score(y_train, pred_train)}')"
   ],
   "metadata": {
    "collapsed": false,
    "pycharm": {
     "name": "#%%\n"
    }
   }
  },
  {
   "cell_type": "code",
   "execution_count": 91,
   "outputs": [
    {
     "name": "stdout",
     "output_type": "stream",
     "text": [
      "accuracy (test_set): 0.5833333333333334\n",
      "accuracy (train_test): 0.6875\n"
     ]
    }
   ],
   "source": [
    "knn.fit(X_train, y_train)\n",
    "pred_test = knn.predict(X_test)\n",
    "pred_train = knn.predict(X_train)\n",
    "print(f'accuracy (test_set): {accuracy_score(y_test, pred_test)}')\n",
    "print(f'accuracy (train_test): {accuracy_score(y_train, pred_train)}')"
   ],
   "metadata": {
    "collapsed": false,
    "pycharm": {
     "name": "#%%\n"
    }
   }
  },
  {
   "cell_type": "code",
   "execution_count": 92,
   "outputs": [
    {
     "name": "stdout",
     "output_type": "stream",
     "text": [
      "accuracy (test_set): 0.6574074074074074\n",
      "accuracy (train_test): 1.0\n"
     ]
    }
   ],
   "source": [
    "rfc.fit(X_train, y_train)\n",
    "pred_test = rfc.predict(X_test)\n",
    "pred_train = rfc.predict(X_train)\n",
    "print(f'accuracy (test_set): {accuracy_score(y_test, pred_test)}')\n",
    "print(f'accuracy (train_test): {accuracy_score(y_train, pred_train)}')"
   ],
   "metadata": {
    "collapsed": false,
    "pycharm": {
     "name": "#%%\n"
    }
   }
  },
  {
   "cell_type": "code",
   "execution_count": 93,
   "outputs": [
    {
     "data": {
      "text/plain": "{'bootstrap': True,\n 'ccp_alpha': 0.0,\n 'class_weight': None,\n 'criterion': 'gini',\n 'max_depth': None,\n 'max_features': 'auto',\n 'max_leaf_nodes': None,\n 'max_samples': None,\n 'min_impurity_decrease': 0.0,\n 'min_samples_leaf': 1,\n 'min_samples_split': 2,\n 'min_weight_fraction_leaf': 0.0,\n 'n_estimators': 100,\n 'n_jobs': None,\n 'oob_score': False,\n 'random_state': None,\n 'verbose': 0,\n 'warm_start': False}"
     },
     "execution_count": 93,
     "metadata": {},
     "output_type": "execute_result"
    }
   ],
   "source": [
    "rfc.get_params()"
   ],
   "metadata": {
    "collapsed": false,
    "pycharm": {
     "name": "#%%\n"
    }
   }
  },
  {
   "cell_type": "code",
   "execution_count": 94,
   "outputs": [
    {
     "name": "stdout",
     "output_type": "stream",
     "text": [
      "RandomForestClassifier(min_samples_leaf=5)\n"
     ]
    }
   ],
   "source": [
    "##Grid\n",
    "param_grid = {\"min_samples_leaf\": [1, 2, 3, 4, 5]}\n",
    "\n",
    "grid = GridSearchCV(rfc, param_grid, cv=10, scoring=\"accuracy\")\n",
    "\n",
    "grid.fit(X_train, y_train)\n",
    "print(grid.best_estimator_)"
   ],
   "metadata": {
    "collapsed": false,
    "pycharm": {
     "name": "#%%\n"
    }
   }
  },
  {
   "cell_type": "code",
   "execution_count": 95,
   "outputs": [
    {
     "data": {
      "text/plain": "0.629492600422833"
     },
     "execution_count": 95,
     "metadata": {},
     "output_type": "execute_result"
    }
   ],
   "source": [
    "grid.best_score_"
   ],
   "metadata": {
    "collapsed": false,
    "pycharm": {
     "name": "#%%\n"
    }
   }
  },
  {
   "cell_type": "code",
   "execution_count": 96,
   "outputs": [
    {
     "data": {
      "text/plain": "{'mean_fit_time': array([0.1735044 , 0.15623879, 0.13812025, 0.16567864, 0.14975502]),\n 'std_fit_time': array([0.02850113, 0.01702311, 0.0084758 , 0.02176298, 0.01864731]),\n 'mean_score_time': array([0.01226752, 0.0118917 , 0.0095927 , 0.01135974, 0.01190922]),\n 'std_score_time': array([0.00383431, 0.00287161, 0.00060885, 0.00167763, 0.00256105]),\n 'param_min_samples_leaf': masked_array(data=[1, 2, 3, 4, 5],\n              mask=[False, False, False, False, False],\n        fill_value='?',\n             dtype=object),\n 'params': [{'min_samples_leaf': 1},\n  {'min_samples_leaf': 2},\n  {'min_samples_leaf': 3},\n  {'min_samples_leaf': 4},\n  {'min_samples_leaf': 5}],\n 'split0_test_score': array([0.52272727, 0.56818182, 0.61363636, 0.54545455, 0.59090909]),\n 'split1_test_score': array([0.70454545, 0.68181818, 0.72727273, 0.70454545, 0.72727273]),\n 'split2_test_score': array([0.65116279, 0.69767442, 0.65116279, 0.6744186 , 0.69767442]),\n 'split3_test_score': array([0.65116279, 0.72093023, 0.74418605, 0.65116279, 0.72093023]),\n 'split4_test_score': array([0.65116279, 0.55813953, 0.58139535, 0.60465116, 0.62790698]),\n 'split5_test_score': array([0.65116279, 0.6744186 , 0.69767442, 0.62790698, 0.62790698]),\n 'split6_test_score': array([0.65116279, 0.65116279, 0.65116279, 0.6744186 , 0.6744186 ]),\n 'split7_test_score': array([0.48837209, 0.60465116, 0.53488372, 0.55813953, 0.58139535]),\n 'split8_test_score': array([0.44186047, 0.51162791, 0.51162791, 0.48837209, 0.51162791]),\n 'split9_test_score': array([0.53488372, 0.60465116, 0.55813953, 0.58139535, 0.53488372]),\n 'mean_test_score': array([0.5948203 , 0.62732558, 0.62711416, 0.61104651, 0.6294926 ]),\n 'std_test_score': array([0.08451611, 0.06493466, 0.07664586, 0.06460514, 0.07158134]),\n 'rank_test_score': array([5, 2, 3, 4, 1], dtype=int32)}"
     },
     "execution_count": 96,
     "metadata": {},
     "output_type": "execute_result"
    }
   ],
   "source": [
    "grid.cv_results_"
   ],
   "metadata": {
    "collapsed": false,
    "pycharm": {
     "name": "#%%\n"
    }
   }
  }
 ],
 "metadata": {
  "kernelspec": {
   "display_name": "Python 3",
   "language": "python",
   "name": "python3"
  },
  "language_info": {
   "codemirror_mode": {
    "name": "ipython",
    "version": 2
   },
   "file_extension": ".py",
   "mimetype": "text/x-python",
   "name": "python",
   "nbconvert_exporter": "python",
   "pygments_lexer": "ipython2",
   "version": "2.7.6"
  }
 },
 "nbformat": 4,
 "nbformat_minor": 0
}