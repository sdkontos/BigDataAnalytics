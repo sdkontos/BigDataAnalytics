{
 "cells": [
  {
   "cell_type": "code",
   "execution_count": 1,
   "metadata": {
    "collapsed": true
   },
   "outputs": [],
   "source": [
    "import pandas as pd\n",
    "import numpy as np\n",
    "import matplotlib as plt"
   ]
  },
  {
   "cell_type": "code",
   "execution_count": 2,
   "outputs": [],
   "source": [
    "# function to replace semicolon with comma\n",
    "def semicolon_to_comma(name):\n",
    "\n",
    "    reading_file = open(name + \".csv\", \"r\")\n",
    "    new_file_content = \"\"\n",
    "    for line in reading_file:\n",
    "        stripped_line = line.strip()\n",
    "        new_line = stripped_line.replace(\";\", \",\")\n",
    "        new_file_content += new_line +\"\\n\"\n",
    "    reading_file.close()\n",
    "    writing_file = open(name + \".csv\", \"w\")\n",
    "    writing_file.write(new_file_content)\n",
    "    writing_file.close()"
   ],
   "metadata": {
    "collapsed": false,
    "pycharm": {
     "name": "#%%\n"
    }
   }
  },
  {
   "cell_type": "code",
   "execution_count": 3,
   "outputs": [],
   "source": [
    "file_name = 'clinical_dataset'\n",
    "semicolon_to_comma(file_name)"
   ],
   "metadata": {
    "collapsed": false,
    "pycharm": {
     "name": "#%%\n"
    }
   }
  },
  {
   "cell_type": "code",
   "execution_count": 4,
   "outputs": [
    {
     "name": "stdout",
     "output_type": "stream",
     "text": [
      "part_id                              int64\n",
      "fried                               object\n",
      "gender                              object\n",
      "age                                  int64\n",
      "hospitalization_one_year             int64\n",
      "hospitalization_three_years          int64\n",
      "ortho_hypotension                   object\n",
      "vision                              object\n",
      "audition                            object\n",
      "weight_loss                         object\n",
      "exhaustion_score                     int64\n",
      "raise_chair_time                   float64\n",
      "balance_single                      object\n",
      "gait_get_up                        float64\n",
      "gait_speed_4m                      float64\n",
      "gait_optional_binary                  bool\n",
      "gait_speed_slower                   object\n",
      "grip_strength_abnormal              object\n",
      "low_physical_activity               object\n",
      "falls_one_year                       int64\n",
      "fractures_three_years                int64\n",
      "bmi_score                          float64\n",
      "bmi_body_fat                       float64\n",
      "waist                              float64\n",
      "lean_body_mass                     float64\n",
      "screening_score                      int64\n",
      "cognitive_total_score              float64\n",
      "memory_complain                     object\n",
      "sleep                               object\n",
      "mmse_total_score                     int64\n",
      "depression_total_score             float64\n",
      "anxiety_perception                 float64\n",
      "living_alone                        object\n",
      "leisure_out                        float64\n",
      "leisure_club                        object\n",
      "social_visits                      float64\n",
      "social_calls                       float64\n",
      "social_phone                       float64\n",
      "social_skype                       float64\n",
      "social_text                        float64\n",
      "house_suitable_participant          object\n",
      "house_suitable_professional         object\n",
      "stairs_number                      float64\n",
      "life_quality                       float64\n",
      "health_rate                         object\n",
      "health_rate_comparison              object\n",
      "pain_perception                    float64\n",
      "activity_regular                    object\n",
      "smoking                             object\n",
      "alcohol_units                      float64\n",
      "katz_index                         float64\n",
      "iadl_grade                         float64\n",
      "comorbidities_count                  int64\n",
      "comorbidities_significant_count      int64\n",
      "medication_count                     int64\n",
      "dtype: object\n"
     ]
    }
   ],
   "source": [
    "# create a dataframe for the clinical_dataset\n",
    "clinical = pd.read_csv(file_name + '.csv')\n",
    "print(clinical.dtypes)"
   ],
   "metadata": {
    "collapsed": false,
    "pycharm": {
     "name": "#%%\n"
    }
   }
  },
  {
   "cell_type": "code",
   "execution_count": 5,
   "outputs": [],
   "source": [
    "# create maps to replace Yes/No and True/False values with 1/0\n",
    "yn_map = {'Yes': 1, 'No': 0}\n",
    "tf_map = {True: 1, False: 0}"
   ],
   "metadata": {
    "collapsed": false,
    "pycharm": {
     "name": "#%%\n"
    }
   }
  },
  {
   "cell_type": "code",
   "execution_count": 6,
   "outputs": [
    {
     "data": {
      "text/plain": "Pre-frail    227\nNon frail    213\nFrail        100\nName: fried, dtype: int64"
     },
     "execution_count": 6,
     "metadata": {},
     "output_type": "execute_result"
    }
   ],
   "source": [
    "# fried has no NaN or error values\n",
    "clinical['fried'].value_counts(dropna=False)"
   ],
   "metadata": {
    "collapsed": false,
    "pycharm": {
     "name": "#%%\n"
    }
   }
  },
  {
   "cell_type": "code",
   "execution_count": 7,
   "outputs": [
    {
     "data": {
      "text/plain": "1    227\n0    213\n2    100\nName: fried, dtype: int64"
     },
     "execution_count": 7,
     "metadata": {},
     "output_type": "execute_result"
    }
   ],
   "source": [
    "# nominal categories converted to numerical\n",
    "fried_map = {'Frail': 2, 'Pre-frail': 1, 'Non frail': 0}\n",
    "clinical['fried'] = clinical['fried'].map(fried_map)\n",
    "clinical['fried'].value_counts(dropna=False)"
   ],
   "metadata": {
    "collapsed": false,
    "pycharm": {
     "name": "#%%\n"
    }
   }
  },
  {
   "cell_type": "code",
   "execution_count": 8,
   "outputs": [
    {
     "data": {
      "text/plain": "F    328\nM    212\nName: gender, dtype: int64"
     },
     "execution_count": 8,
     "metadata": {},
     "output_type": "execute_result"
    }
   ],
   "source": [
    "# gender has no NaN or error values\n",
    "clinical['gender'].value_counts(dropna=False)"
   ],
   "metadata": {
    "collapsed": false,
    "pycharm": {
     "name": "#%%\n"
    }
   }
  },
  {
   "cell_type": "code",
   "execution_count": 9,
   "outputs": [
    {
     "data": {
      "text/plain": "1    328\n0    212\nName: gender, dtype: int64"
     },
     "execution_count": 9,
     "metadata": {},
     "output_type": "execute_result"
    }
   ],
   "source": [
    "# gender F/M converted to 1/0 respectively\n",
    "gender_map = {'F': 1, 'M': 0}\n",
    "clinical['gender'] = clinical['gender'].map(gender_map)\n",
    "clinical['gender'].value_counts(dropna=False)"
   ],
   "metadata": {
    "collapsed": false,
    "pycharm": {
     "name": "#%%\n"
    }
   }
  },
  {
   "cell_type": "code",
   "execution_count": 10,
   "outputs": [
    {
     "data": {
      "text/plain": "70    67\n71    44\n76    38\n75    34\n72    34\n73    34\n78    32\n77    30\n80    29\n79    27\n74    22\n83    20\n82    20\n84    15\n81    15\n85    14\n87    12\n86    11\n69    10\n90     9\n91     8\n92     5\n89     4\n88     3\n95     1\n93     1\n68     1\nName: age, dtype: int64"
     },
     "execution_count": 10,
     "metadata": {},
     "output_type": "execute_result"
    }
   ],
   "source": [
    "# age has no NaN/error values and no categories\n",
    "clinical['age'].value_counts(dropna=False)"
   ],
   "metadata": {
    "collapsed": false,
    "pycharm": {
     "name": "#%%\n"
    }
   }
  },
  {
   "cell_type": "code",
   "execution_count": 11,
   "outputs": [
    {
     "data": {
      "text/plain": "0     445\n1      79\n2       8\n3       3\n6       2\n10      1\n15      1\n14      1\nName: hospitalization_one_year, dtype: int64"
     },
     "execution_count": 11,
     "metadata": {},
     "output_type": "execute_result"
    }
   ],
   "source": [
    "# hospitalization has no NaN/error values\n",
    "clinical['hospitalization_one_year'].value_counts(dropna=False)"
   ],
   "metadata": {
    "collapsed": false,
    "pycharm": {
     "name": "#%%\n"
    }
   }
  },
  {
   "cell_type": "code",
   "execution_count": 12,
   "outputs": [
    {
     "data": {
      "text/plain": "0      351\n1      137\n2       26\n3       10\n4        6\n999      2\n5        2\n8        2\n11       1\n10       1\n30       1\n14       1\nName: hospitalization_three_years, dtype: int64"
     },
     "execution_count": 12,
     "metadata": {},
     "output_type": "execute_result"
    }
   ],
   "source": [
    "clinical['hospitalization_three_years'].value_counts(dropna=False)"
   ],
   "metadata": {
    "collapsed": false,
    "pycharm": {
     "name": "#%%\n"
    }
   }
  },
  {
   "cell_type": "code",
   "execution_count": 13,
   "outputs": [
    {
     "data": {
      "text/plain": "No     470\nYes     70\nName: ortho_hypotension, dtype: int64"
     },
     "execution_count": 13,
     "metadata": {},
     "output_type": "execute_result"
    }
   ],
   "source": [
    "# hypotention has no error/NaN values\n",
    "clinical['ortho_hypotension'].value_counts(dropna=False)"
   ],
   "metadata": {
    "collapsed": false,
    "pycharm": {
     "name": "#%%\n"
    }
   }
  },
  {
   "cell_type": "code",
   "execution_count": 14,
   "outputs": [
    {
     "data": {
      "text/plain": "0    470\n1     70\nName: ortho_hypotension, dtype: int64"
     },
     "execution_count": 14,
     "metadata": {},
     "output_type": "execute_result"
    }
   ],
   "source": [
    "# Yes/No converted to 1/0 respectively\n",
    "clinical['ortho_hypotension'] = clinical['ortho_hypotension'].map(yn_map)\n",
    "clinical['ortho_hypotension'].value_counts(dropna=False)"
   ],
   "metadata": {
    "collapsed": false,
    "pycharm": {
     "name": "#%%\n"
    }
   }
  },
  {
   "cell_type": "code",
   "execution_count": 15,
   "outputs": [
    {
     "data": {
      "text/plain": "Sees well          364\nSees moderately    152\nSees poorly         24\nName: vision, dtype: int64"
     },
     "execution_count": 15,
     "metadata": {},
     "output_type": "execute_result"
    }
   ],
   "source": [
    "# vision has no NaN/error values\n",
    "clinical['vision'].value_counts(dropna=False)"
   ],
   "metadata": {
    "collapsed": false,
    "pycharm": {
     "name": "#%%\n"
    }
   }
  },
  {
   "cell_type": "code",
   "execution_count": 16,
   "outputs": [
    {
     "data": {
      "text/plain": "2    364\n1    152\n0     24\nName: vision, dtype: int64"
     },
     "execution_count": 16,
     "metadata": {},
     "output_type": "execute_result"
    }
   ],
   "source": [
    "# nominal categories converted to numerical\n",
    "vision_map = {'Sees well': 2, 'Sees moderately': 1, 'Sees poorly': 0}\n",
    "clinical['vision'] = clinical['vision'].map(vision_map)\n",
    "clinical['vision'].value_counts(dropna=False)"
   ],
   "metadata": {
    "collapsed": false,
    "pycharm": {
     "name": "#%%\n"
    }
   }
  },
  {
   "cell_type": "code",
   "execution_count": 17,
   "outputs": [
    {
     "data": {
      "text/plain": "Hears well          393\nHears moderately    118\nHears poorly         29\nName: audition, dtype: int64"
     },
     "execution_count": 17,
     "metadata": {},
     "output_type": "execute_result"
    }
   ],
   "source": [
    "# audition has no NaN/error values\n",
    "clinical['audition'].value_counts(dropna=False)"
   ],
   "metadata": {
    "collapsed": false,
    "pycharm": {
     "name": "#%%\n"
    }
   }
  },
  {
   "cell_type": "code",
   "execution_count": 18,
   "outputs": [
    {
     "data": {
      "text/plain": "2    393\n1    118\n0     29\nName: audition, dtype: int64"
     },
     "execution_count": 18,
     "metadata": {},
     "output_type": "execute_result"
    }
   ],
   "source": [
    "# nominal categories converted to numerical\n",
    "audition_map = {'Hears well': 2, 'Hears moderately': 1, 'Hears poorly': 0}\n",
    "clinical['audition'] = clinical['audition'].map(audition_map)\n",
    "clinical['audition'].value_counts(dropna=False)"
   ],
   "metadata": {
    "collapsed": false,
    "pycharm": {
     "name": "#%%\n"
    }
   }
  },
  {
   "cell_type": "code",
   "execution_count": 19,
   "outputs": [
    {
     "data": {
      "text/plain": "No     494\nYes     44\nNaN      2\nName: weight_loss, dtype: int64"
     },
     "execution_count": 19,
     "metadata": {},
     "output_type": "execute_result"
    }
   ],
   "source": [
    "# 2NaN values\n",
    "clinical['weight_loss'].value_counts(dropna=False)"
   ],
   "metadata": {
    "collapsed": false,
    "pycharm": {
     "name": "#%%\n"
    }
   }
  },
  {
   "cell_type": "code",
   "execution_count": 20,
   "outputs": [
    {
     "data": {
      "text/plain": "0.0    494\n1.0     44\nNaN      2\nName: weight_loss, dtype: int64"
     },
     "execution_count": 20,
     "metadata": {},
     "output_type": "execute_result"
    }
   ],
   "source": [
    "# Yes/No values converted to 1/0 respectively\n",
    "clinical['weight_loss'] = clinical['weight_loss'].map(yn_map)\n",
    "clinical['weight_loss'].value_counts(dropna=False)"
   ],
   "metadata": {
    "collapsed": false,
    "pycharm": {
     "name": "#%%\n"
    }
   }
  },
  {
   "cell_type": "code",
   "execution_count": 21,
   "outputs": [
    {
     "data": {
      "text/plain": "1    420\n2    120\nName: exhaustion_score, dtype: int64"
     },
     "execution_count": 21,
     "metadata": {},
     "output_type": "execute_result"
    }
   ],
   "source": [
    "# exhaustion score has no NaN/error values\n",
    "clinical['exhaustion_score'].value_counts(dropna=False)"
   ],
   "metadata": {
    "collapsed": false,
    "pycharm": {
     "name": "#%%\n"
    }
   }
  },
  {
   "cell_type": "code",
   "execution_count": 22,
   "outputs": [
    {
     "data": {
      "text/plain": "999.00    44\n14.00     32\n12.00     19\n13.00     17\n10.00     16\n          ..\n8.90       1\n10.51      1\n14.72      1\n15.80      1\n6.60       1\nName: raise_chair_time, Length: 278, dtype: int64"
     },
     "execution_count": 22,
     "metadata": {},
     "output_type": "execute_result"
    }
   ],
   "source": [
    "# 44x 999\n",
    "clinical['raise_chair_time'].value_counts(dropna=False)"
   ],
   "metadata": {
    "collapsed": false,
    "pycharm": {
     "name": "#%%\n"
    }
   }
  },
  {
   "cell_type": "code",
   "execution_count": 23,
   "outputs": [
    {
     "data": {
      "text/plain": ">5 sec                 333\n<5 sec                 157\ntest non realizable     49\nNaN                      1\nName: balance_single, dtype: int64"
     },
     "execution_count": 23,
     "metadata": {},
     "output_type": "execute_result"
    }
   ],
   "source": [
    "# 49x error and 1 NaN\n",
    "clinical['balance_single'].value_counts(dropna=False)"
   ],
   "metadata": {
    "collapsed": false,
    "pycharm": {
     "name": "#%%\n"
    }
   }
  },
  {
   "cell_type": "code",
   "execution_count": 24,
   "outputs": [
    {
     "data": {
      "text/plain": "1.0    333\n0.0    157\nNaN     50\nName: balance_single, dtype: int64"
     },
     "execution_count": 24,
     "metadata": {},
     "output_type": "execute_result"
    }
   ],
   "source": [
    "# nominal categories converted to numerical\n",
    "bs_map = {'>5 sec': 1, '<5 sec': 0}\n",
    "clinical['balance_single'] = clinical['balance_single'].map(bs_map)\n",
    "clinical['balance_single'].value_counts(dropna=False)"
   ],
   "metadata": {
    "collapsed": false,
    "pycharm": {
     "name": "#%%\n"
    }
   }
  },
  {
   "cell_type": "code",
   "execution_count": 25,
   "outputs": [
    {
     "data": {
      "text/plain": "10.00    22\n7.00     22\n6.00     20\n8.00     19\n9.00     16\n         ..\n9.64      1\n9.53      1\n7.63      1\n34.00     1\n5.70      1\nName: gait_get_up, Length: 245, dtype: int64"
     },
     "execution_count": 25,
     "metadata": {},
     "output_type": "execute_result"
    }
   ],
   "source": [
    "# no NaN/error values\n",
    "clinical['gait_get_up'].value_counts(dropna=False)"
   ],
   "metadata": {
    "collapsed": false,
    "pycharm": {
     "name": "#%%\n"
    }
   }
  },
  {
   "cell_type": "code",
   "execution_count": 26,
   "outputs": [
    {
     "data": {
      "text/plain": "5.00     41\n7.00     23\n6.00     21\n4.00     19\n2.70     10\n         ..\n0.00      1\n4.80      1\n30.00     1\n3.55      1\n2.85      1\nName: gait_speed_4m, Length: 222, dtype: int64"
     },
     "execution_count": 26,
     "metadata": {},
     "output_type": "execute_result"
    }
   ],
   "source": [
    "# no NaN/error values\n",
    "clinical['gait_speed_4m'].value_counts(dropna=False)\n"
   ],
   "metadata": {
    "collapsed": false,
    "pycharm": {
     "name": "#%%\n"
    }
   }
  },
  {
   "cell_type": "code",
   "execution_count": 27,
   "outputs": [
    {
     "data": {
      "text/plain": "False    493\nTrue      47\nName: gait_optional_binary, dtype: int64"
     },
     "execution_count": 27,
     "metadata": {},
     "output_type": "execute_result"
    }
   ],
   "source": [
    "# no NaN/error values\n",
    "clinical['gait_optional_binary'].value_counts(dropna=False)"
   ],
   "metadata": {
    "collapsed": false,
    "pycharm": {
     "name": "#%%\n"
    }
   }
  },
  {
   "cell_type": "code",
   "execution_count": 28,
   "outputs": [
    {
     "data": {
      "text/plain": "0    493\n1     47\nName: gait_optional_binary, dtype: int64"
     },
     "execution_count": 28,
     "metadata": {},
     "output_type": "execute_result"
    }
   ],
   "source": [
    "# convert True/False to 1/0 respectively\n",
    "clinical['gait_optional_binary'] = clinical['gait_optional_binary'].map(tf_map)\n",
    "clinical['gait_optional_binary'].value_counts(dropna=False)"
   ],
   "metadata": {
    "collapsed": false,
    "pycharm": {
     "name": "#%%\n"
    }
   }
  },
  {
   "cell_type": "code",
   "execution_count": 29,
   "outputs": [
    {
     "data": {
      "text/plain": "No                   387\nYes                  149\nTest not adequate      4\nName: gait_speed_slower, dtype: int64"
     },
     "execution_count": 29,
     "metadata": {},
     "output_type": "execute_result"
    }
   ],
   "source": [
    "#4 errors\n",
    "clinical['gait_speed_slower'].value_counts(dropna=False)"
   ],
   "metadata": {
    "collapsed": false,
    "pycharm": {
     "name": "#%%\n"
    }
   }
  },
  {
   "cell_type": "code",
   "execution_count": 30,
   "outputs": [
    {
     "data": {
      "text/plain": "0.0    387\n1.0    149\nNaN      4\nName: gait_speed_slower, dtype: int64"
     },
     "execution_count": 30,
     "metadata": {},
     "output_type": "execute_result"
    }
   ],
   "source": [
    "clinical['gait_speed_slower'] = clinical['gait_speed_slower'].map(yn_map)\n",
    "clinical['gait_speed_slower'].value_counts(dropna=False)"
   ],
   "metadata": {
    "collapsed": false,
    "pycharm": {
     "name": "#%%\n"
    }
   }
  },
  {
   "cell_type": "code",
   "execution_count": 31,
   "outputs": [
    {
     "data": {
      "text/plain": "No     300\nYes    240\nName: grip_strength_abnormal, dtype: int64"
     },
     "execution_count": 31,
     "metadata": {},
     "output_type": "execute_result"
    }
   ],
   "source": [
    "clinical['grip_strength_abnormal'].value_counts(dropna=False)"
   ],
   "metadata": {
    "collapsed": false,
    "pycharm": {
     "name": "#%%\n"
    }
   }
  },
  {
   "cell_type": "code",
   "execution_count": 32,
   "outputs": [
    {
     "data": {
      "text/plain": "0    300\n1    240\nName: grip_strength_abnormal, dtype: int64"
     },
     "execution_count": 32,
     "metadata": {},
     "output_type": "execute_result"
    }
   ],
   "source": [
    "clinical['grip_strength_abnormal'] = clinical['grip_strength_abnormal'].map(yn_map)\n",
    "clinical['grip_strength_abnormal'].value_counts(dropna=False)"
   ],
   "metadata": {
    "collapsed": false,
    "pycharm": {
     "name": "#%%\n"
    }
   }
  },
  {
   "cell_type": "code",
   "execution_count": 33,
   "outputs": [
    {
     "data": {
      "text/plain": "No     452\nYes     88\nName: low_physical_activity, dtype: int64"
     },
     "execution_count": 33,
     "metadata": {},
     "output_type": "execute_result"
    }
   ],
   "source": [
    "clinical['low_physical_activity'].value_counts(dropna=False)"
   ],
   "metadata": {
    "collapsed": false,
    "pycharm": {
     "name": "#%%\n"
    }
   }
  },
  {
   "cell_type": "code",
   "execution_count": 34,
   "outputs": [
    {
     "data": {
      "text/plain": "0    452\n1     88\nName: low_physical_activity, dtype: int64"
     },
     "execution_count": 34,
     "metadata": {},
     "output_type": "execute_result"
    }
   ],
   "source": [
    "clinical['low_physical_activity'] = clinical['low_physical_activity'].map(yn_map)\n",
    "clinical['low_physical_activity'].value_counts(dropna=False)"
   ],
   "metadata": {
    "collapsed": false,
    "pycharm": {
     "name": "#%%\n"
    }
   }
  },
  {
   "cell_type": "code",
   "execution_count": 35,
   "outputs": [
    {
     "data": {
      "text/plain": "0      389\n1       98\n2       31\n3       11\n999      3\n5        3\n4        3\n6        1\n40       1\nName: falls_one_year, dtype: int64"
     },
     "execution_count": 35,
     "metadata": {},
     "output_type": "execute_result"
    }
   ],
   "source": [
    "# 3x 999\n",
    "clinical['falls_one_year'].value_counts(dropna=False)\n"
   ],
   "metadata": {
    "collapsed": false,
    "pycharm": {
     "name": "#%%\n"
    }
   }
  },
  {
   "cell_type": "code",
   "execution_count": 36,
   "outputs": [
    {
     "data": {
      "text/plain": "0      451\n1       77\n2        8\n3        2\n4        1\n999      1\nName: fractures_three_years, dtype: int64"
     },
     "execution_count": 36,
     "metadata": {},
     "output_type": "execute_result"
    }
   ],
   "source": [
    "#1x 999\n",
    "clinical['fractures_three_years'].value_counts(dropna=False)\n"
   ],
   "metadata": {
    "collapsed": false,
    "pycharm": {
     "name": "#%%\n"
    }
   }
  },
  {
   "cell_type": "code",
   "execution_count": 37,
   "outputs": [
    {
     "data": {
      "text/plain": "23.875115    4\n28.344671    3\n26.446281    3\n26.346494    3\n27.141582    3\n            ..\n27.854671    1\n37.151349    1\n27.414454    1\n29.911111    1\n24.449375    1\nName: bmi_score, Length: 512, dtype: int64"
     },
     "execution_count": 37,
     "metadata": {},
     "output_type": "execute_result"
    }
   ],
   "source": [
    "clinical['bmi_score'].value_counts(dropna=False)"
   ],
   "metadata": {
    "collapsed": false,
    "pycharm": {
     "name": "#%%\n"
    }
   }
  },
  {
   "cell_type": "code",
   "execution_count": 38,
   "outputs": [
    {
     "data": {
      "text/plain": "NaN     133\n25.3      9\n30.2      7\n26.1      7\n30.4      6\n       ... \n35.1      1\n27.0      1\n19.5      1\n22.6      1\n36.3      1\nName: bmi_body_fat, Length: 151, dtype: int64"
     },
     "execution_count": 38,
     "metadata": {},
     "output_type": "execute_result"
    }
   ],
   "source": [
    "#133 NaN\n",
    "clinical['bmi_body_fat'].value_counts(dropna=False)\n",
    "\n"
   ],
   "metadata": {
    "collapsed": false,
    "pycharm": {
     "name": "#%%\n"
    }
   }
  },
  {
   "cell_type": "code",
   "execution_count": 39,
   "outputs": [
    {
     "data": {
      "text/plain": "100.0    31\n102.0    20\n110.0    20\n96.0     19\n95.0     19\n         ..\n56.0      1\n130.0     1\n60.0      1\n61.0      1\n190.0     1\nName: waist, Length: 73, dtype: int64"
     },
     "execution_count": 39,
     "metadata": {},
     "output_type": "execute_result"
    }
   ],
   "source": [
    "clinical['waist'].value_counts(dropna=False)"
   ],
   "metadata": {
    "collapsed": false,
    "pycharm": {
     "name": "#%%\n"
    }
   }
  },
  {
   "cell_type": "code",
   "execution_count": 40,
   "outputs": [
    {
     "data": {
      "text/plain": "NaN        133\n47.9925      2\n43.6010      2\n51.7905      2\n62.6733      2\n          ... \n58.7450      1\n63.3824      1\n44.9696      1\n43.2975      1\n42.8400      1\nName: lean_body_mass, Length: 404, dtype: int64"
     },
     "execution_count": 40,
     "metadata": {},
     "output_type": "execute_result"
    }
   ],
   "source": [
    "#133 NaN\n",
    "clinical['lean_body_mass'].value_counts(dropna=False)\n"
   ],
   "metadata": {
    "collapsed": false,
    "pycharm": {
     "name": "#%%\n"
    }
   }
  },
  {
   "cell_type": "code",
   "execution_count": 41,
   "outputs": [
    {
     "data": {
      "text/plain": "14    329\n13     85\n12     60\n11     29\n10     16\n9       9\n7       5\n8       5\n6       2\nName: screening_score, dtype: int64"
     },
     "execution_count": 41,
     "metadata": {},
     "output_type": "execute_result"
    }
   ],
   "source": [
    "clinical['screening_score'].value_counts(dropna=False)"
   ],
   "metadata": {
    "collapsed": false,
    "pycharm": {
     "name": "#%%\n"
    }
   }
  },
  {
   "cell_type": "code",
   "execution_count": 42,
   "outputs": [
    {
     "data": {
      "text/plain": "26.0    73\n28.0    71\n27.0    71\n29.0    63\nNaN     56\n30.0    40\n23.0    32\n25.0    31\n24.0    30\n22.0    23\n21.0    13\n20.0    11\n19.0     8\n18.0     6\n16.0     5\n15.0     2\n13.0     2\n17.0     1\n14.0     1\n10.0     1\nName: cognitive_total_score, dtype: int64"
     },
     "execution_count": 42,
     "metadata": {},
     "output_type": "execute_result"
    }
   ],
   "source": [
    "#56 NaN\n",
    "clinical['cognitive_total_score'].value_counts(dropna=False)\n"
   ],
   "metadata": {
    "collapsed": false,
    "pycharm": {
     "name": "#%%\n"
    }
   }
  },
  {
   "cell_type": "code",
   "execution_count": 43,
   "outputs": [
    {
     "data": {
      "text/plain": "No     399\nYes    102\nNaN     39\nName: memory_complain, dtype: int64"
     },
     "execution_count": 43,
     "metadata": {},
     "output_type": "execute_result"
    }
   ],
   "source": [
    "#39 NaN\n",
    "clinical['memory_complain'].value_counts(dropna=False)\n"
   ],
   "metadata": {
    "collapsed": false,
    "pycharm": {
     "name": "#%%\n"
    }
   }
  },
  {
   "cell_type": "code",
   "execution_count": 44,
   "outputs": [
    {
     "data": {
      "text/plain": "0.0    399\n1.0    102\nNaN     39\nName: memory_complain, dtype: int64"
     },
     "execution_count": 44,
     "metadata": {},
     "output_type": "execute_result"
    }
   ],
   "source": [
    "clinical['memory_complain'] = clinical['memory_complain'].map(yn_map)\n",
    "clinical['memory_complain'].value_counts(dropna=False)"
   ],
   "metadata": {
    "collapsed": false,
    "pycharm": {
     "name": "#%%\n"
    }
   }
  },
  {
   "cell_type": "code",
   "execution_count": 45,
   "outputs": [
    {
     "data": {
      "text/plain": "No sleep problem            297\nOccasional sleep problem    145\nPermanent sleep problem      95\nNaN                           3\nName: sleep, dtype: int64"
     },
     "execution_count": 45,
     "metadata": {},
     "output_type": "execute_result"
    }
   ],
   "source": [
    "#3 NaN\n",
    "clinical['sleep'].value_counts(dropna=False)\n"
   ],
   "metadata": {
    "collapsed": false,
    "pycharm": {
     "name": "#%%\n"
    }
   }
  },
  {
   "cell_type": "code",
   "execution_count": 46,
   "outputs": [
    {
     "data": {
      "text/plain": "0.0    297\n1.0    145\n2.0     95\nNaN      3\nName: sleep, dtype: int64"
     },
     "execution_count": 46,
     "metadata": {},
     "output_type": "execute_result"
    }
   ],
   "source": [
    "sleep_map = {'Permanent sleep problem': 2, 'Occasional sleep problem': 1, 'No sleep problem': 0}\n",
    "clinical['sleep'] = clinical['sleep'].map(sleep_map)\n",
    "clinical['sleep'].value_counts(dropna=False)"
   ],
   "metadata": {
    "collapsed": false,
    "pycharm": {
     "name": "#%%\n"
    }
   }
  },
  {
   "cell_type": "code",
   "execution_count": 47,
   "outputs": [
    {
     "data": {
      "text/plain": "29    122\n30    113\n28    102\n27     86\n25     52\n26     42\n24     22\n23      1\nName: mmse_total_score, dtype: int64"
     },
     "execution_count": 47,
     "metadata": {},
     "output_type": "execute_result"
    }
   ],
   "source": [
    "clinical['mmse_total_score'].value_counts(dropna=False)"
   ],
   "metadata": {
    "collapsed": false,
    "pycharm": {
     "name": "#%%\n"
    }
   }
  },
  {
   "cell_type": "code",
   "execution_count": 48,
   "outputs": [
    {
     "data": {
      "text/plain": "0.0     109\n1.0      98\n2.0      87\n3.0      76\n4.0      59\n5.0      31\n7.0      20\n6.0      18\n8.0      16\n9.0       8\n10.0      7\n11.0      4\n13.0      2\n15.0      2\n12.0      1\n14.0      1\nNaN       1\nName: depression_total_score, dtype: int64"
     },
     "execution_count": 48,
     "metadata": {},
     "output_type": "execute_result"
    }
   ],
   "source": [
    "#1 NaN\n",
    "clinical['depression_total_score'].value_counts(dropna=False)\n"
   ],
   "metadata": {
    "collapsed": false,
    "pycharm": {
     "name": "#%%\n"
    }
   }
  },
  {
   "cell_type": "code",
   "execution_count": 49,
   "outputs": [
    {
     "data": {
      "text/plain": "2.0    38\n0.0    31\n1.0    30\n3.0    29\n5.0    28\n       ..\n7.3     1\n9.4     1\n7.9     1\n2.1     1\n6.5     1\nName: anxiety_perception, Length: 95, dtype: int64"
     },
     "execution_count": 49,
     "metadata": {},
     "output_type": "execute_result"
    }
   ],
   "source": [
    "clinical['anxiety_perception'].value_counts(dropna=False)"
   ],
   "metadata": {
    "collapsed": false,
    "pycharm": {
     "name": "#%%\n"
    }
   }
  },
  {
   "cell_type": "code",
   "execution_count": 50,
   "outputs": [
    {
     "data": {
      "text/plain": "No     375\nYes    164\nNaN      1\nName: living_alone, dtype: int64"
     },
     "execution_count": 50,
     "metadata": {},
     "output_type": "execute_result"
    }
   ],
   "source": [
    "#1 NaN\n",
    "clinical['living_alone'].value_counts(dropna=False)"
   ],
   "metadata": {
    "collapsed": false,
    "pycharm": {
     "name": "#%%\n"
    }
   }
  },
  {
   "cell_type": "code",
   "execution_count": 51,
   "outputs": [
    {
     "data": {
      "text/plain": "0.0    375\n1.0    164\nNaN      1\nName: living_alone, dtype: int64"
     },
     "execution_count": 51,
     "metadata": {},
     "output_type": "execute_result"
    }
   ],
   "source": [
    "clinical['living_alone'] = clinical['living_alone'].map(yn_map)\n",
    "clinical['living_alone'].value_counts(dropna=False)"
   ],
   "metadata": {
    "collapsed": false,
    "pycharm": {
     "name": "#%%\n"
    }
   }
  },
  {
   "cell_type": "code",
   "execution_count": 51,
   "outputs": [],
   "source": [],
   "metadata": {
    "collapsed": false,
    "pycharm": {
     "name": "#%%\n"
    }
   }
  },
  {
   "cell_type": "code",
   "execution_count": 52,
   "outputs": [
    {
     "data": {
      "text/plain": "7.00     246\n5.00      45\n2.00      32\n3.00      32\n0.00      29\n4.00      27\n6.00      27\n1.00      24\n10.00     22\n14.00     19\n8.00       9\n15.00      5\n2.50       3\n20.00      3\n16.00      3\n28.00      2\n12.00      2\n21.00      2\n7.50       1\nNaN        1\n4.50       1\n3.50       1\n0.25       1\n11.00      1\n25.00      1\n18.00      1\nName: leisure_out, dtype: int64"
     },
     "execution_count": 52,
     "metadata": {},
     "output_type": "execute_result"
    }
   ],
   "source": [
    "#1 NaN\n",
    "clinical['leisure_out'].value_counts(dropna=False)\n"
   ],
   "metadata": {
    "collapsed": false,
    "pycharm": {
     "name": "#%%\n"
    }
   }
  },
  {
   "cell_type": "code",
   "execution_count": 53,
   "outputs": [
    {
     "data": {
      "text/plain": "Yes    345\nNo     194\nNaN      1\nName: leisure_club, dtype: int64"
     },
     "execution_count": 53,
     "metadata": {},
     "output_type": "execute_result"
    }
   ],
   "source": [
    "#1 NaN\n",
    "clinical['leisure_club'].value_counts(dropna=False)"
   ],
   "metadata": {
    "collapsed": false,
    "pycharm": {
     "name": "#%%\n"
    }
   }
  },
  {
   "cell_type": "code",
   "execution_count": 54,
   "outputs": [
    {
     "data": {
      "text/plain": "1.0    345\n0.0    194\nNaN      1\nName: leisure_club, dtype: int64"
     },
     "execution_count": 54,
     "metadata": {},
     "output_type": "execute_result"
    }
   ],
   "source": [
    "clinical['leisure_club'] = clinical['leisure_club'].map(yn_map)\n",
    "clinical['leisure_club'].value_counts(dropna=False)"
   ],
   "metadata": {
    "collapsed": false,
    "pycharm": {
     "name": "#%%\n"
    }
   }
  },
  {
   "cell_type": "code",
   "execution_count": 55,
   "outputs": [
    {
     "data": {
      "text/plain": "7.00      154\n2.00       87\n3.00       77\n1.00       61\n5.00       41\n0.00       33\n4.00       32\n6.00       27\n8.00        5\n999.00      4\n2.50        3\n0.25        3\n10.00       2\n9.00        2\n0.50        2\n4.50        1\n2.25        1\nNaN         1\n3.50        1\n20.00       1\n14.00       1\n30.00       1\nName: social_visits, dtype: int64"
     },
     "execution_count": 55,
     "metadata": {},
     "output_type": "execute_result"
    }
   ],
   "source": [
    "#4x 999 1 NaN\n",
    "clinical['social_visits'].value_counts(dropna=False)"
   ],
   "metadata": {
    "collapsed": false,
    "pycharm": {
     "name": "#%%\n"
    }
   }
  },
  {
   "cell_type": "code",
   "execution_count": 56,
   "outputs": [
    {
     "data": {
      "text/plain": "7.0      187\n2.0       37\n5.0       33\n10.0      30\n20.0      30\n3.0       23\n15.0      22\n14.0      19\n0.0       19\n1.0       18\n6.0       16\n4.0       16\n25.0      13\n70.0      11\n30.0      11\n21.0       9\n8.0        8\n12.0       7\n35.0       6\n28.0       5\n40.0       3\n9.0        3\n999.0      2\n50.0       2\n17.5       2\nNaN        2\n2.5        1\n36.0       1\n24.0       1\n17.0       1\n18.0       1\n100.0      1\nName: social_calls, dtype: int64"
     },
     "execution_count": 56,
     "metadata": {},
     "output_type": "execute_result"
    }
   ],
   "source": [
    "#2x 999 2 NaN\n",
    "clinical['social_calls'].value_counts(dropna=False)"
   ],
   "metadata": {
    "collapsed": false,
    "pycharm": {
     "name": "#%%\n"
    }
   }
  },
  {
   "cell_type": "code",
   "execution_count": 57,
   "outputs": [
    {
     "data": {
      "text/plain": "60.0     44\n999.0    39\n30.0     33\n70.0     32\n210.0    31\n         ..\n910.0     1\n95.0      1\n525.0     1\n168.0     1\n900.0     1\nName: social_phone, Length: 65, dtype: int64"
     },
     "execution_count": 57,
     "metadata": {},
     "output_type": "execute_result"
    }
   ],
   "source": [
    "#39x 999\n",
    "clinical['social_phone'].value_counts(dropna=False)"
   ],
   "metadata": {
    "collapsed": false,
    "pycharm": {
     "name": "#%%\n"
    }
   }
  },
  {
   "cell_type": "code",
   "execution_count": 58,
   "outputs": [
    {
     "data": {
      "text/plain": "0.0      480\n30.0      10\n999.0     10\n60.0       9\n10.0       8\n20.0       4\n120.0      3\n15.0       3\n2.0        2\n180.0      2\n70.0       2\n105.0      2\n50.0       1\nNaN        1\n400.0      1\n90.0       1\n80.0       1\nName: social_skype, dtype: int64"
     },
     "execution_count": 58,
     "metadata": {},
     "output_type": "execute_result"
    }
   ],
   "source": [
    "#10x 999 1 NaN\n",
    "clinical['social_skype'].value_counts(dropna=False)"
   ],
   "metadata": {
    "collapsed": false,
    "pycharm": {
     "name": "#%%\n"
    }
   }
  },
  {
   "cell_type": "code",
   "execution_count": 59,
   "outputs": [
    {
     "data": {
      "text/plain": "0.0      329\n10.0      26\n2.0       20\n3.0       19\n1.0       17\n5.0       13\n7.0       12\n999.0     11\n4.0       11\n15.0      10\n20.0      10\n30.0       8\n70.0       7\n14.0       7\n35.0       6\n40.0       6\n50.0       4\n6.0        4\n12.0       2\n56.0       2\n100.0      2\nNaN        2\n150.0      2\n9.0        1\n53.0       1\n49.0       1\n161.0      1\n21.0       1\n11.0       1\n28.0       1\n23.0       1\n60.0       1\n26.0       1\nName: social_text, dtype: int64"
     },
     "execution_count": 59,
     "metadata": {},
     "output_type": "execute_result"
    }
   ],
   "source": [
    "#11x 999 2 NaN\n",
    "clinical['social_text'].value_counts(dropna=False)\n"
   ],
   "metadata": {
    "collapsed": false,
    "pycharm": {
     "name": "#%%\n"
    }
   }
  },
  {
   "cell_type": "code",
   "execution_count": 60,
   "outputs": [
    {
     "data": {
      "text/plain": "Yes    422\nNaN     98\nNo      20\nName: house_suitable_participant, dtype: int64"
     },
     "execution_count": 60,
     "metadata": {},
     "output_type": "execute_result"
    }
   ],
   "source": [
    "#98 NaN\n",
    "clinical['house_suitable_participant'].value_counts(dropna=False)"
   ],
   "metadata": {
    "collapsed": false,
    "pycharm": {
     "name": "#%%\n"
    }
   }
  },
  {
   "cell_type": "code",
   "execution_count": 61,
   "outputs": [
    {
     "data": {
      "text/plain": "1.0    422\nNaN     98\n0.0     20\nName: house_suitable_participant, dtype: int64"
     },
     "execution_count": 61,
     "metadata": {},
     "output_type": "execute_result"
    }
   ],
   "source": [
    "clinical['house_suitable_participant'] = clinical['house_suitable_participant'].map(yn_map)\n",
    "clinical['house_suitable_participant'].value_counts(dropna=False)"
   ],
   "metadata": {
    "collapsed": false,
    "pycharm": {
     "name": "#%%\n"
    }
   }
  },
  {
   "cell_type": "code",
   "execution_count": 62,
   "outputs": [
    {
     "data": {
      "text/plain": "Yes    419\nNaN     98\nNo      23\nName: house_suitable_professional, dtype: int64"
     },
     "execution_count": 62,
     "metadata": {},
     "output_type": "execute_result"
    }
   ],
   "source": [
    "#98 NaN\n",
    "clinical['house_suitable_professional'].value_counts(dropna=False)"
   ],
   "metadata": {
    "collapsed": false,
    "pycharm": {
     "name": "#%%\n"
    }
   }
  },
  {
   "cell_type": "code",
   "execution_count": 63,
   "outputs": [
    {
     "data": {
      "text/plain": "1.0    419\nNaN     98\n0.0     23\nName: house_suitable_professional, dtype: int64"
     },
     "execution_count": 63,
     "metadata": {},
     "output_type": "execute_result"
    }
   ],
   "source": [
    "clinical['house_suitable_professional'] = clinical['house_suitable_professional'].map(yn_map)\n",
    "clinical['house_suitable_professional'].value_counts(dropna=False)"
   ],
   "metadata": {
    "collapsed": false,
    "pycharm": {
     "name": "#%%\n"
    }
   }
  },
  {
   "cell_type": "code",
   "execution_count": 64,
   "outputs": [
    {
     "data": {
      "text/plain": "0.0     206\nNaN      98\n2.0      27\n3.0      24\n6.0      19\n5.0      18\n1.0      18\n4.0      15\n12.0     13\n14.0     12\n10.0     11\n20.0      9\n15.0      9\n18.0      7\n7.0       7\n16.0      5\n17.0      5\n13.0      4\n19.0      4\n8.0       4\n23.0      3\n9.0       3\n25.0      3\n34.0      2\n32.0      2\n30.0      2\n39.0      2\n52.0      2\n37.0      1\n29.0      1\n11.0      1\n40.0      1\n24.0      1\n42.0      1\nName: stairs_number, dtype: int64"
     },
     "execution_count": 64,
     "metadata": {},
     "output_type": "execute_result"
    }
   ],
   "source": [
    "#98 NaN\n",
    "clinical['stairs_number'].value_counts(dropna=False)\n"
   ],
   "metadata": {
    "collapsed": false,
    "pycharm": {
     "name": "#%%\n"
    }
   }
  },
  {
   "cell_type": "code",
   "execution_count": 65,
   "outputs": [
    {
     "data": {
      "text/plain": "4 - Good         282\n3 - Medium       173\n5 - Excellent     57\n2 - Bad           24\n1 - Very bad       3\nNaN                1\nName: health_rate, dtype: int64"
     },
     "execution_count": 65,
     "metadata": {},
     "output_type": "execute_result"
    }
   ],
   "source": [
    "#1 NaN\n",
    "clinical['health_rate'].value_counts(dropna=False)"
   ],
   "metadata": {
    "collapsed": false,
    "pycharm": {
     "name": "#%%\n"
    }
   }
  },
  {
   "cell_type": "code",
   "execution_count": 66,
   "outputs": [
    {
     "data": {
      "text/plain": "4.0    282\n3.0    173\n5.0     57\n2.0     24\n1.0      3\nNaN      1\nName: health_rate, dtype: int64"
     },
     "execution_count": 66,
     "metadata": {},
     "output_type": "execute_result"
    }
   ],
   "source": [
    "hr_map = {'5 - Excellent': 5, '4 - Good': 4, '3 - Medium': 3, '2 - Bad': 2,\n",
    "          '1 - Very bad': 1}\n",
    "clinical['health_rate'] = clinical['health_rate'].map(hr_map)\n",
    "clinical['health_rate'].value_counts(dropna=False)"
   ],
   "metadata": {
    "collapsed": false,
    "pycharm": {
     "name": "#%%\n"
    }
   }
  },
  {
   "cell_type": "code",
   "execution_count": 67,
   "outputs": [
    {
     "data": {
      "text/plain": "3 - About the same     329\n2 - A little worse     123\n4 - A little better     58\n1 - A lot worse         15\n5 - A lot better        14\nNaN                      1\nName: health_rate_comparison, dtype: int64"
     },
     "execution_count": 67,
     "metadata": {},
     "output_type": "execute_result"
    }
   ],
   "source": [
    "#1 NaN\n",
    "clinical['health_rate_comparison'].value_counts(dropna=False)"
   ],
   "metadata": {
    "collapsed": false,
    "pycharm": {
     "name": "#%%\n"
    }
   }
  },
  {
   "cell_type": "code",
   "execution_count": 68,
   "outputs": [
    {
     "data": {
      "text/plain": "3.0    329\n2.0    123\n4.0     58\n1.0     15\n5.0     14\nNaN      1\nName: health_rate_comparison, dtype: int64"
     },
     "execution_count": 68,
     "metadata": {},
     "output_type": "execute_result"
    }
   ],
   "source": [
    "hrc_map = {'5 - A lot better': 5, '4 - A little better': 4, '3 - About the same': 3,\n",
    "           '2 - A little worse': 2, '1 - A lot worse': 1}\n",
    "clinical['health_rate_comparison'] = clinical['health_rate_comparison'].map(hrc_map)\n",
    "clinical['health_rate_comparison'].value_counts(dropna=False)"
   ],
   "metadata": {
    "collapsed": false,
    "pycharm": {
     "name": "#%%\n"
    }
   }
  },
  {
   "cell_type": "code",
   "execution_count": 69,
   "outputs": [
    {
     "data": {
      "text/plain": "1.00    66\n2.00    44\n0.00    40\n3.00    38\n5.00    31\n        ..\n6.45     1\n7.10     1\n3.60     1\n7.70     1\n8.70     1\nName: pain_perception, Length: 91, dtype: int64"
     },
     "execution_count": 69,
     "metadata": {},
     "output_type": "execute_result"
    }
   ],
   "source": [
    "clinical['pain_perception'].value_counts(dropna=False)\n"
   ],
   "metadata": {
    "collapsed": false,
    "pycharm": {
     "name": "#%%\n"
    }
   }
  },
  {
   "cell_type": "code",
   "execution_count": 70,
   "outputs": [
    {
     "data": {
      "text/plain": "> 2 h and < 5 h per week    175\n> 5 h per week              169\n< 2 h per week              148\nNo                           46\nNaN                           2\nName: activity_regular, dtype: int64"
     },
     "execution_count": 70,
     "metadata": {},
     "output_type": "execute_result"
    }
   ],
   "source": [
    "#1 NaN ?Cats?\n",
    "clinical['activity_regular'].value_counts(dropna=False)\n"
   ],
   "metadata": {
    "collapsed": false,
    "pycharm": {
     "name": "#%%\n"
    }
   }
  },
  {
   "cell_type": "code",
   "execution_count": 71,
   "outputs": [
    {
     "data": {
      "text/plain": "Never smoked                               310\nPast smoker (stopped at least 6 months)    178\nCurrent smoker                              51\nNaN                                          1\nName: smoking, dtype: int64"
     },
     "execution_count": 71,
     "metadata": {},
     "output_type": "execute_result"
    }
   ],
   "source": [
    "#1 NaN ?Cats?\n",
    "clinical['smoking'].value_counts(dropna=False)\n"
   ],
   "metadata": {
    "collapsed": false,
    "pycharm": {
     "name": "#%%\n"
    }
   }
  },
  {
   "cell_type": "code",
   "execution_count": 72,
   "outputs": [
    {
     "data": {
      "text/plain": "0.000      245\n1.000       68\n3.000       35\n2.000       26\n21.000      18\n1.500       17\n14.000      12\n4.000       11\n10.500      11\n7.000       10\n6.000       10\n4.500        9\n9.000        4\n2.500        4\n0.750        4\n28.000       3\n12.500       3\n0.500        3\n22.000       3\n11.500       3\n5.000        3\n23.000       2\n7.500        2\n12.000       2\n999.000      2\n8.000        2\n42.000       2\n5.500        2\n5.250        2\n18.500       2\n24.000       1\n35.000       1\n3.250        1\n16.500       1\n24.500       1\n10.000       1\n13.500       1\n2.250        1\n22.500       1\n63.000       1\n1.250        1\n18.000       1\n30.000       1\n0.375        1\n9.500        1\n20.000       1\n19.000       1\n2.750        1\n33.250       1\n17.250       1\nName: alcohol_units, dtype: int64"
     },
     "execution_count": 72,
     "metadata": {},
     "output_type": "execute_result"
    }
   ],
   "source": [
    "#2x 999\n",
    "clinical['alcohol_units'].value_counts(dropna=False)\n"
   ],
   "metadata": {
    "collapsed": false,
    "pycharm": {
     "name": "#%%\n"
    }
   }
  },
  {
   "cell_type": "code",
   "execution_count": 73,
   "outputs": [
    {
     "data": {
      "text/plain": "6.0    428\n5.5     86\n5.0     10\n2.5      4\n4.5      4\n3.0      3\n3.5      2\n4.0      2\n2.0      1\nName: katz_index, dtype: int64"
     },
     "execution_count": 73,
     "metadata": {},
     "output_type": "execute_result"
    }
   ],
   "source": [
    "clinical['katz_index'].value_counts(dropna=False)"
   ],
   "metadata": {
    "collapsed": false,
    "pycharm": {
     "name": "#%%\n"
    }
   }
  },
  {
   "cell_type": "code",
   "execution_count": 74,
   "outputs": [
    {
     "data": {
      "text/plain": "31.0    255\n28.0     33\n30.0     31\n19.0     26\n27.0     24\n23.0     24\n29.0     23\n26.0     19\n22.0     17\n25.0     12\n20.0     11\n15.0     11\n24.0     10\n11.0      9\n13.0      7\n16.0      6\n14.0      4\n12.0      4\n17.0      4\n21.0      3\n18.0      2\n10.0      2\n9.0       1\n8.0       1\nNaN       1\nName: iadl_grade, dtype: int64"
     },
     "execution_count": 74,
     "metadata": {},
     "output_type": "execute_result"
    }
   ],
   "source": [
    "#1 NaN\n",
    "clinical['iadl_grade'].value_counts(dropna=False)\n"
   ],
   "metadata": {
    "collapsed": false,
    "pycharm": {
     "name": "#%%\n"
    }
   }
  },
  {
   "cell_type": "code",
   "execution_count": 75,
   "outputs": [
    {
     "data": {
      "text/plain": "3     84\n2     81\n4     74\n1     58\n6     55\n5     48\n7     29\n8     25\n0     24\n9     20\n10    11\n11    10\n12     8\n14     5\n13     5\n17     1\n16     1\n15     1\nName: comorbidities_count, dtype: int64"
     },
     "execution_count": 75,
     "metadata": {},
     "output_type": "execute_result"
    }
   ],
   "source": [
    "clinical['comorbidities_count'].value_counts(dropna=False)"
   ],
   "metadata": {
    "collapsed": false,
    "pycharm": {
     "name": "#%%\n"
    }
   }
  },
  {
   "cell_type": "code",
   "execution_count": 76,
   "outputs": [
    {
     "data": {
      "text/plain": "0    427\n1     80\n2     18\n3      8\n4      3\n5      2\n7      2\nName: comorbidities_significant_count, dtype: int64"
     },
     "execution_count": 76,
     "metadata": {},
     "output_type": "execute_result"
    }
   ],
   "source": [
    "clinical['comorbidities_significant_count'].value_counts(dropna=False)"
   ],
   "metadata": {
    "collapsed": false,
    "pycharm": {
     "name": "#%%\n"
    }
   }
  },
  {
   "cell_type": "code",
   "execution_count": 77,
   "outputs": [
    {
     "data": {
      "text/plain": "3     94\n1     94\n2     70\n4     48\n5     44\n6     39\n0     37\n7     31\n8     27\n9     20\n10    17\n13     5\n12     4\n11     3\n17     2\n14     2\n15     2\n16     1\nName: medication_count, dtype: int64"
     },
     "execution_count": 77,
     "metadata": {},
     "output_type": "execute_result"
    }
   ],
   "source": [
    "clinical['medication_count'].value_counts(dropna=False)"
   ],
   "metadata": {
    "collapsed": false,
    "pycharm": {
     "name": "#%%\n"
    }
   }
  },
  {
   "cell_type": "code",
   "execution_count": 78,
   "outputs": [
    {
     "data": {
      "text/plain": "part_id                              0\nfried                                0\ngender                               0\nage                                  0\nhospitalization_one_year             0\nhospitalization_three_years          0\northo_hypotension                    0\nvision                               0\naudition                             0\nweight_loss                          2\nexhaustion_score                     0\nraise_chair_time                     1\nbalance_single                      50\ngait_get_up                          2\ngait_speed_4m                        0\ngait_optional_binary                 0\ngait_speed_slower                    4\ngrip_strength_abnormal               0\nlow_physical_activity                0\nfalls_one_year                       0\nfractures_three_years                0\nbmi_score                            2\nbmi_body_fat                       133\nwaist                                3\nlean_body_mass                     133\nscreening_score                      0\ncognitive_total_score               56\nmemory_complain                     39\nsleep                                3\nmmse_total_score                     0\ndepression_total_score               1\nanxiety_perception                   1\nliving_alone                         1\nleisure_out                          1\nleisure_club                         1\nsocial_visits                        1\nsocial_calls                         2\nsocial_phone                         1\nsocial_skype                         1\nsocial_text                          2\nhouse_suitable_participant          98\nhouse_suitable_professional         98\nstairs_number                       98\nlife_quality                         1\nhealth_rate                          1\nhealth_rate_comparison               1\npain_perception                      1\nactivity_regular                     2\nsmoking                              1\nalcohol_units                        0\nkatz_index                           0\niadl_grade                           1\ncomorbidities_count                  0\ncomorbidities_significant_count      0\nmedication_count                     0\ndtype: int64"
     },
     "execution_count": 78,
     "metadata": {},
     "output_type": "execute_result"
    }
   ],
   "source": [
    "# print the NaN values per attribute\n",
    "clinical.isna().sum()"
   ],
   "metadata": {
    "collapsed": false,
    "pycharm": {
     "name": "#%%\n"
    }
   }
  },
  {
   "cell_type": "code",
   "execution_count": 79,
   "outputs": [
    {
     "data": {
      "text/plain": "part_id                            0\nfried                              0\ngender                             0\nage                                0\nhospitalization_one_year           0\nhospitalization_three_years        0\northo_hypotension                  0\nvision                             0\naudition                           0\nweight_loss                        0\nexhaustion_score                   0\nraise_chair_time                   0\nbalance_single                     0\ngait_get_up                        0\ngait_speed_4m                      0\ngait_optional_binary               0\ngait_speed_slower                  0\ngrip_strength_abnormal             0\nlow_physical_activity              0\nfalls_one_year                     0\nfractures_three_years              0\nbmi_score                          0\nbmi_body_fat                       0\nwaist                              0\nlean_body_mass                     0\nscreening_score                    0\ncognitive_total_score              0\nmemory_complain                    0\nsleep                              0\nmmse_total_score                   0\ndepression_total_score             0\nanxiety_perception                 0\nliving_alone                       0\nleisure_out                        0\nleisure_club                       0\nsocial_visits                      0\nsocial_calls                       0\nsocial_phone                       0\nsocial_skype                       0\nsocial_text                        0\nhouse_suitable_participant         0\nhouse_suitable_professional        0\nstairs_number                      0\nlife_quality                       0\nhealth_rate                        0\nhealth_rate_comparison             0\npain_perception                    0\nactivity_regular                   0\nsmoking                            0\nalcohol_units                      0\nkatz_index                         0\niadl_grade                         0\ncomorbidities_count                0\ncomorbidities_significant_count    0\nmedication_count                   0\ndtype: int64"
     },
     "execution_count": 79,
     "metadata": {},
     "output_type": "execute_result"
    }
   ],
   "source": [
    "clinical.fillna('', inplace=True)\n",
    "clinical.isna().sum()"
   ],
   "metadata": {
    "collapsed": false,
    "pycharm": {
     "name": "#%%\n"
    }
   }
  }
 ],
 "metadata": {
  "kernelspec": {
   "display_name": "Python 3",
   "language": "python",
   "name": "python3"
  },
  "language_info": {
   "codemirror_mode": {
    "name": "ipython",
    "version": 2
   },
   "file_extension": ".py",
   "mimetype": "text/x-python",
   "name": "python",
   "nbconvert_exporter": "python",
   "pygments_lexer": "ipython2",
   "version": "2.7.6"
  }
 },
 "nbformat": 4,
 "nbformat_minor": 0
}