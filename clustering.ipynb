{
 "cells": [
  {
   "cell_type": "code",
   "execution_count": 96,
   "metadata": {
    "collapsed": true
   },
   "outputs": [],
   "source": [
    "import numpy as np\n",
    "import matplotlib.pyplot as plt\n",
    "import pandas as pd\n",
    "import seaborn as sns\n",
    "\n",
    "from sklearn.cluster import KMeans\n",
    "from sklearn.decomposition import PCA\n",
    "from sklearn.metrics import silhouette_score, adjusted_rand_score\n",
    "from sklearn.pipeline import Pipeline\n",
    "from sklearn.preprocessing import LabelEncoder, MinMaxScaler"
   ]
  },
  {
   "cell_type": "code",
   "execution_count": 97,
   "outputs": [
    {
     "data": {
      "text/plain": "     part_id  fried  gender  age  hospitalization_one_year  \\\n0       1001      0       1   75                         0   \n1       1003      1       0   72                         0   \n2       1005      1       1   83                         0   \n3       1006      0       0   72                         0   \n4       1007      0       1   70                         0   \n..       ...    ...     ...  ...                       ...   \n268     3593      1       0   75                         0   \n269     3594      0       0   71                         0   \n270     3600      0       1   77                         0   \n271     3601      1       0   84                         0   \n272     3611      0       1   70                         0   \n\n     hospitalization_three_years  ortho_hypotension  vision  audition  \\\n0                            0.0                  0       1         2   \n1                            0.0                  0       1         1   \n2                            4.0                  1       1         0   \n3                            1.0                  0       1         2   \n4                            0.0                  0       1         2   \n..                           ...                ...     ...       ...   \n268                          1.0                  1       2         2   \n269                          0.0                  0       2         2   \n270                          0.0                  0       2         2   \n271                          0.0                  1       2         1   \n272                          0.0                  0       2         2   \n\n     weight_loss  ...   BathRoom    BedRoom  Entrance  Garage       Hall  \\\n0            0.0  ...   7.430730  32.304786       0.0     0.0  47.355164   \n1            0.0  ...   0.273620   0.000000       0.0     0.0   0.177048   \n2            0.0  ...   0.000000   0.000000       0.0     0.0  99.777667   \n3            0.0  ...  98.305596   0.683120       0.0     0.0   0.304725   \n4            0.0  ...   3.496115  71.624121       0.0     0.0   1.775805   \n..           ...  ...        ...        ...       ...     ...        ...   \n268          0.0  ...  12.498823   0.847697       0.0     0.0   0.000000   \n269          0.0  ...   0.000000   0.000000       0.0     0.0   0.000000   \n270          0.0  ...  12.019929   3.923604       0.0     0.0   0.000000   \n271          0.0  ...   0.000000   0.014536       0.0     0.0   0.000000   \n272          0.0  ...   6.663645  19.310970       0.0     0.0   0.000000   \n\n       Kitchen  LivingRoom     Office    Outdoor  Storage  \n0     0.000000    6.202771   0.000000   6.706549      0.0  \n1    77.804603    0.000000   0.000000  21.744729      0.0  \n2     0.000000    0.222333   0.000000   0.000000      0.0  \n3     0.391789    0.000000   0.000000   0.314771      0.0  \n4     0.000000    0.147984   0.000000  22.955975      0.0  \n..         ...         ...        ...        ...      ...  \n268   8.985589    0.000000  76.678911   0.988980      0.0  \n269  99.975994    0.001847   0.001154   0.021005      0.0  \n270   0.000000   79.468549   0.000000   4.587918      0.0  \n271   0.000000   90.734180   0.007477   9.243806      0.0  \n272  24.070716    0.000000   0.000000  49.954669      0.0  \n\n[273 rows x 60 columns]",
      "text/html": "<div>\n<style scoped>\n    .dataframe tbody tr th:only-of-type {\n        vertical-align: middle;\n    }\n\n    .dataframe tbody tr th {\n        vertical-align: top;\n    }\n\n    .dataframe thead th {\n        text-align: right;\n    }\n</style>\n<table border=\"1\" class=\"dataframe\">\n  <thead>\n    <tr style=\"text-align: right;\">\n      <th></th>\n      <th>part_id</th>\n      <th>fried</th>\n      <th>gender</th>\n      <th>age</th>\n      <th>hospitalization_one_year</th>\n      <th>hospitalization_three_years</th>\n      <th>ortho_hypotension</th>\n      <th>vision</th>\n      <th>audition</th>\n      <th>weight_loss</th>\n      <th>...</th>\n      <th>BathRoom</th>\n      <th>BedRoom</th>\n      <th>Entrance</th>\n      <th>Garage</th>\n      <th>Hall</th>\n      <th>Kitchen</th>\n      <th>LivingRoom</th>\n      <th>Office</th>\n      <th>Outdoor</th>\n      <th>Storage</th>\n    </tr>\n  </thead>\n  <tbody>\n    <tr>\n      <th>0</th>\n      <td>1001</td>\n      <td>0</td>\n      <td>1</td>\n      <td>75</td>\n      <td>0</td>\n      <td>0.0</td>\n      <td>0</td>\n      <td>1</td>\n      <td>2</td>\n      <td>0.0</td>\n      <td>...</td>\n      <td>7.430730</td>\n      <td>32.304786</td>\n      <td>0.0</td>\n      <td>0.0</td>\n      <td>47.355164</td>\n      <td>0.000000</td>\n      <td>6.202771</td>\n      <td>0.000000</td>\n      <td>6.706549</td>\n      <td>0.0</td>\n    </tr>\n    <tr>\n      <th>1</th>\n      <td>1003</td>\n      <td>1</td>\n      <td>0</td>\n      <td>72</td>\n      <td>0</td>\n      <td>0.0</td>\n      <td>0</td>\n      <td>1</td>\n      <td>1</td>\n      <td>0.0</td>\n      <td>...</td>\n      <td>0.273620</td>\n      <td>0.000000</td>\n      <td>0.0</td>\n      <td>0.0</td>\n      <td>0.177048</td>\n      <td>77.804603</td>\n      <td>0.000000</td>\n      <td>0.000000</td>\n      <td>21.744729</td>\n      <td>0.0</td>\n    </tr>\n    <tr>\n      <th>2</th>\n      <td>1005</td>\n      <td>1</td>\n      <td>1</td>\n      <td>83</td>\n      <td>0</td>\n      <td>4.0</td>\n      <td>1</td>\n      <td>1</td>\n      <td>0</td>\n      <td>0.0</td>\n      <td>...</td>\n      <td>0.000000</td>\n      <td>0.000000</td>\n      <td>0.0</td>\n      <td>0.0</td>\n      <td>99.777667</td>\n      <td>0.000000</td>\n      <td>0.222333</td>\n      <td>0.000000</td>\n      <td>0.000000</td>\n      <td>0.0</td>\n    </tr>\n    <tr>\n      <th>3</th>\n      <td>1006</td>\n      <td>0</td>\n      <td>0</td>\n      <td>72</td>\n      <td>0</td>\n      <td>1.0</td>\n      <td>0</td>\n      <td>1</td>\n      <td>2</td>\n      <td>0.0</td>\n      <td>...</td>\n      <td>98.305596</td>\n      <td>0.683120</td>\n      <td>0.0</td>\n      <td>0.0</td>\n      <td>0.304725</td>\n      <td>0.391789</td>\n      <td>0.000000</td>\n      <td>0.000000</td>\n      <td>0.314771</td>\n      <td>0.0</td>\n    </tr>\n    <tr>\n      <th>4</th>\n      <td>1007</td>\n      <td>0</td>\n      <td>1</td>\n      <td>70</td>\n      <td>0</td>\n      <td>0.0</td>\n      <td>0</td>\n      <td>1</td>\n      <td>2</td>\n      <td>0.0</td>\n      <td>...</td>\n      <td>3.496115</td>\n      <td>71.624121</td>\n      <td>0.0</td>\n      <td>0.0</td>\n      <td>1.775805</td>\n      <td>0.000000</td>\n      <td>0.147984</td>\n      <td>0.000000</td>\n      <td>22.955975</td>\n      <td>0.0</td>\n    </tr>\n    <tr>\n      <th>...</th>\n      <td>...</td>\n      <td>...</td>\n      <td>...</td>\n      <td>...</td>\n      <td>...</td>\n      <td>...</td>\n      <td>...</td>\n      <td>...</td>\n      <td>...</td>\n      <td>...</td>\n      <td>...</td>\n      <td>...</td>\n      <td>...</td>\n      <td>...</td>\n      <td>...</td>\n      <td>...</td>\n      <td>...</td>\n      <td>...</td>\n      <td>...</td>\n      <td>...</td>\n      <td>...</td>\n    </tr>\n    <tr>\n      <th>268</th>\n      <td>3593</td>\n      <td>1</td>\n      <td>0</td>\n      <td>75</td>\n      <td>0</td>\n      <td>1.0</td>\n      <td>1</td>\n      <td>2</td>\n      <td>2</td>\n      <td>0.0</td>\n      <td>...</td>\n      <td>12.498823</td>\n      <td>0.847697</td>\n      <td>0.0</td>\n      <td>0.0</td>\n      <td>0.000000</td>\n      <td>8.985589</td>\n      <td>0.000000</td>\n      <td>76.678911</td>\n      <td>0.988980</td>\n      <td>0.0</td>\n    </tr>\n    <tr>\n      <th>269</th>\n      <td>3594</td>\n      <td>0</td>\n      <td>0</td>\n      <td>71</td>\n      <td>0</td>\n      <td>0.0</td>\n      <td>0</td>\n      <td>2</td>\n      <td>2</td>\n      <td>0.0</td>\n      <td>...</td>\n      <td>0.000000</td>\n      <td>0.000000</td>\n      <td>0.0</td>\n      <td>0.0</td>\n      <td>0.000000</td>\n      <td>99.975994</td>\n      <td>0.001847</td>\n      <td>0.001154</td>\n      <td>0.021005</td>\n      <td>0.0</td>\n    </tr>\n    <tr>\n      <th>270</th>\n      <td>3600</td>\n      <td>0</td>\n      <td>1</td>\n      <td>77</td>\n      <td>0</td>\n      <td>0.0</td>\n      <td>0</td>\n      <td>2</td>\n      <td>2</td>\n      <td>0.0</td>\n      <td>...</td>\n      <td>12.019929</td>\n      <td>3.923604</td>\n      <td>0.0</td>\n      <td>0.0</td>\n      <td>0.000000</td>\n      <td>0.000000</td>\n      <td>79.468549</td>\n      <td>0.000000</td>\n      <td>4.587918</td>\n      <td>0.0</td>\n    </tr>\n    <tr>\n      <th>271</th>\n      <td>3601</td>\n      <td>1</td>\n      <td>0</td>\n      <td>84</td>\n      <td>0</td>\n      <td>0.0</td>\n      <td>1</td>\n      <td>2</td>\n      <td>1</td>\n      <td>0.0</td>\n      <td>...</td>\n      <td>0.000000</td>\n      <td>0.014536</td>\n      <td>0.0</td>\n      <td>0.0</td>\n      <td>0.000000</td>\n      <td>0.000000</td>\n      <td>90.734180</td>\n      <td>0.007477</td>\n      <td>9.243806</td>\n      <td>0.0</td>\n    </tr>\n    <tr>\n      <th>272</th>\n      <td>3611</td>\n      <td>0</td>\n      <td>1</td>\n      <td>70</td>\n      <td>0</td>\n      <td>0.0</td>\n      <td>0</td>\n      <td>2</td>\n      <td>2</td>\n      <td>0.0</td>\n      <td>...</td>\n      <td>6.663645</td>\n      <td>19.310970</td>\n      <td>0.0</td>\n      <td>0.0</td>\n      <td>0.000000</td>\n      <td>24.070716</td>\n      <td>0.000000</td>\n      <td>0.000000</td>\n      <td>49.954669</td>\n      <td>0.0</td>\n    </tr>\n  </tbody>\n</table>\n<p>273 rows × 60 columns</p>\n</div>"
     },
     "execution_count": 97,
     "metadata": {},
     "output_type": "execute_result"
    }
   ],
   "source": [
    "df = pd.read_csv(\"merged.csv\")\n",
    "df = df.drop(['Unnamed: 0'], axis=1)\n",
    "df"
   ],
   "metadata": {
    "collapsed": false,
    "pycharm": {
     "name": "#%%\n"
    }
   }
  },
  {
   "cell_type": "code",
   "execution_count": 98,
   "outputs": [],
   "source": [
    "\n",
    "true_label_names = list(df.columns)\n",
    "true_label_names = np.array(true_label_names)\n",
    "\n",
    "data = df.to_numpy()"
   ],
   "metadata": {
    "collapsed": false,
    "pycharm": {
     "name": "#%%\n"
    }
   }
  },
  {
   "cell_type": "code",
   "execution_count": 99,
   "outputs": [
    {
     "data": {
      "text/plain": "array([[1.00100000e+03, 0.00000000e+00, 1.00000000e+00, ...,\n        0.00000000e+00, 6.70654912e+00, 0.00000000e+00],\n       [1.00300000e+03, 1.00000000e+00, 0.00000000e+00, ...,\n        0.00000000e+00, 2.17447288e+01, 0.00000000e+00],\n       [1.00500000e+03, 1.00000000e+00, 1.00000000e+00, ...,\n        0.00000000e+00, 0.00000000e+00, 0.00000000e+00],\n       ...,\n       [3.60000000e+03, 0.00000000e+00, 1.00000000e+00, ...,\n        0.00000000e+00, 4.58791779e+00, 0.00000000e+00],\n       [3.60100000e+03, 1.00000000e+00, 0.00000000e+00, ...,\n        7.47728448e-03, 9.24380601e+00, 0.00000000e+00],\n       [3.61100000e+03, 0.00000000e+00, 1.00000000e+00, ...,\n        0.00000000e+00, 4.99546691e+01, 0.00000000e+00]])"
     },
     "execution_count": 99,
     "metadata": {},
     "output_type": "execute_result"
    }
   ],
   "source": [
    "data"
   ],
   "metadata": {
    "collapsed": false,
    "pycharm": {
     "name": "#%%\n"
    }
   }
  },
  {
   "cell_type": "code",
   "execution_count": 100,
   "outputs": [
    {
     "data": {
      "text/plain": "array([47, 24, 29, 11, 33])"
     },
     "execution_count": 100,
     "metadata": {},
     "output_type": "execute_result"
    }
   ],
   "source": [
    "label_encoder = LabelEncoder()\n",
    "\n",
    "true_labels = label_encoder.fit_transform(true_label_names)\n",
    "\n",
    "true_labels[:5]"
   ],
   "metadata": {
    "collapsed": false,
    "pycharm": {
     "name": "#%%\n"
    }
   }
  },
  {
   "cell_type": "code",
   "execution_count": 101,
   "outputs": [],
   "source": [
    "label_encoder.classes_\n",
    "\n",
    "n_clusters = len(label_encoder.classes_)"
   ],
   "metadata": {
    "collapsed": false,
    "pycharm": {
     "name": "#%%\n"
    }
   }
  },
  {
   "cell_type": "code",
   "execution_count": 102,
   "outputs": [],
   "source": [
    "preprocessor = Pipeline(\n",
    "    [\n",
    "        (\"scaler\", MinMaxScaler()),\n",
    "        (\"pca\", PCA(n_components=2, random_state=42)),\n",
    "    ]\n",
    ")"
   ],
   "metadata": {
    "collapsed": false,
    "pycharm": {
     "name": "#%%\n"
    }
   }
  },
  {
   "cell_type": "code",
   "execution_count": 103,
   "outputs": [],
   "source": [
    "clusterer = Pipeline(\n",
    "   [\n",
    "       (\n",
    "           \"kmeans\",\n",
    "           KMeans(\n",
    "               n_clusters=n_clusters,\n",
    "               init=\"k-means++\",\n",
    "               n_init=50,\n",
    "               max_iter=500,\n",
    "               random_state=42,\n",
    "           ),\n",
    "       ),\n",
    "   ]\n",
    ")"
   ],
   "metadata": {
    "collapsed": false,
    "pycharm": {
     "name": "#%%\n"
    }
   }
  },
  {
   "cell_type": "code",
   "execution_count": 104,
   "outputs": [],
   "source": [
    "pipe = Pipeline(\n",
    "    [\n",
    "        (\"preprocessor\", preprocessor),\n",
    "        (\"clusterer\", clusterer)\n",
    "    ]\n",
    ")"
   ],
   "metadata": {
    "collapsed": false,
    "pycharm": {
     "name": "#%%\n"
    }
   }
  },
  {
   "cell_type": "code",
   "execution_count": 105,
   "outputs": [
    {
     "data": {
      "text/plain": "Pipeline(steps=[('preprocessor',\n                 Pipeline(steps=[('scaler', MinMaxScaler()),\n                                 ('pca',\n                                  PCA(n_components=2, random_state=42))])),\n                ('clusterer',\n                 Pipeline(steps=[('kmeans',\n                                  KMeans(max_iter=500, n_clusters=60, n_init=50,\n                                         random_state=42))]))])"
     },
     "execution_count": 105,
     "metadata": {},
     "output_type": "execute_result"
    }
   ],
   "source": [
    "pipe.fit(data)"
   ],
   "metadata": {
    "collapsed": false,
    "pycharm": {
     "name": "#%%\n"
    }
   }
  },
  {
   "cell_type": "code",
   "execution_count": 106,
   "outputs": [
    {
     "data": {
      "text/plain": "(273,)"
     },
     "execution_count": 106,
     "metadata": {},
     "output_type": "execute_result"
    }
   ],
   "source": [
    "preprocessed_data = pipe[\"preprocessor\"].transform(data)\n",
    "\n",
    "predicted_labels = pipe[\"clusterer\"][\"kmeans\"].labels_\n",
    "\n",
    "silhouette_score(preprocessed_data, predicted_labels)\n",
    "predicted_labels.shape"
   ],
   "metadata": {
    "collapsed": false,
    "pycharm": {
     "name": "#%%\n"
    }
   }
  },
  {
   "cell_type": "code",
   "execution_count": 107,
   "outputs": [
    {
     "ename": "ValueError",
     "evalue": "Found input variables with inconsistent numbers of samples: [60, 273]",
     "output_type": "error",
     "traceback": [
      "\u001B[0;31m---------------------------------------------------------------------------\u001B[0m",
      "\u001B[0;31mValueError\u001B[0m                                Traceback (most recent call last)",
      "\u001B[0;32m/var/folders/4f/cfbbhwjx5xl3tp_3_r7p5d5h0000gn/T/ipykernel_877/3435597973.py\u001B[0m in \u001B[0;36m<module>\u001B[0;34m\u001B[0m\n\u001B[0;32m----> 1\u001B[0;31m \u001B[0madjusted_rand_score\u001B[0m\u001B[0;34m(\u001B[0m\u001B[0mtrue_labels\u001B[0m\u001B[0;34m,\u001B[0m \u001B[0mpredicted_labels\u001B[0m\u001B[0;34m)\u001B[0m\u001B[0;34m\u001B[0m\u001B[0;34m\u001B[0m\u001B[0m\n\u001B[0m",
      "\u001B[0;32m~/opt/anaconda3/envs/data_analysis/lib/python3.9/site-packages/sklearn/metrics/cluster/_supervised.py\u001B[0m in \u001B[0;36madjusted_rand_score\u001B[0;34m(labels_true, labels_pred)\u001B[0m\n\u001B[1;32m    389\u001B[0m     \u001B[0madjusted_mutual_info_score\u001B[0m \u001B[0;34m:\u001B[0m \u001B[0mAdjusted\u001B[0m \u001B[0mMutual\u001B[0m \u001B[0mInformation\u001B[0m\u001B[0;34m.\u001B[0m\u001B[0;34m\u001B[0m\u001B[0;34m\u001B[0m\u001B[0m\n\u001B[1;32m    390\u001B[0m     \"\"\"\n\u001B[0;32m--> 391\u001B[0;31m     \u001B[0;34m(\u001B[0m\u001B[0mtn\u001B[0m\u001B[0;34m,\u001B[0m \u001B[0mfp\u001B[0m\u001B[0;34m)\u001B[0m\u001B[0;34m,\u001B[0m \u001B[0;34m(\u001B[0m\u001B[0mfn\u001B[0m\u001B[0;34m,\u001B[0m \u001B[0mtp\u001B[0m\u001B[0;34m)\u001B[0m \u001B[0;34m=\u001B[0m \u001B[0mpair_confusion_matrix\u001B[0m\u001B[0;34m(\u001B[0m\u001B[0mlabels_true\u001B[0m\u001B[0;34m,\u001B[0m \u001B[0mlabels_pred\u001B[0m\u001B[0;34m)\u001B[0m\u001B[0;34m\u001B[0m\u001B[0;34m\u001B[0m\u001B[0m\n\u001B[0m\u001B[1;32m    392\u001B[0m     \u001B[0;31m# convert to Python integer types, to avoid overflow or underflow\u001B[0m\u001B[0;34m\u001B[0m\u001B[0;34m\u001B[0m\u001B[0m\n\u001B[1;32m    393\u001B[0m     \u001B[0mtn\u001B[0m\u001B[0;34m,\u001B[0m \u001B[0mfp\u001B[0m\u001B[0;34m,\u001B[0m \u001B[0mfn\u001B[0m\u001B[0;34m,\u001B[0m \u001B[0mtp\u001B[0m \u001B[0;34m=\u001B[0m \u001B[0mint\u001B[0m\u001B[0;34m(\u001B[0m\u001B[0mtn\u001B[0m\u001B[0;34m)\u001B[0m\u001B[0;34m,\u001B[0m \u001B[0mint\u001B[0m\u001B[0;34m(\u001B[0m\u001B[0mfp\u001B[0m\u001B[0;34m)\u001B[0m\u001B[0;34m,\u001B[0m \u001B[0mint\u001B[0m\u001B[0;34m(\u001B[0m\u001B[0mfn\u001B[0m\u001B[0;34m)\u001B[0m\u001B[0;34m,\u001B[0m \u001B[0mint\u001B[0m\u001B[0;34m(\u001B[0m\u001B[0mtp\u001B[0m\u001B[0;34m)\u001B[0m\u001B[0;34m\u001B[0m\u001B[0;34m\u001B[0m\u001B[0m\n",
      "\u001B[0;32m~/opt/anaconda3/envs/data_analysis/lib/python3.9/site-packages/sklearn/metrics/cluster/_supervised.py\u001B[0m in \u001B[0;36mpair_confusion_matrix\u001B[0;34m(labels_true, labels_pred)\u001B[0m\n\u001B[1;32m    220\u001B[0m       \u001B[0mhttps\u001B[0m\u001B[0;34m:\u001B[0m\u001B[0;34m//\u001B[0m\u001B[0mlink\u001B[0m\u001B[0;34m.\u001B[0m\u001B[0mspringer\u001B[0m\u001B[0;34m.\u001B[0m\u001B[0mcom\u001B[0m\u001B[0;34m/\u001B[0m\u001B[0marticle\u001B[0m\u001B[0;34m/\u001B[0m\u001B[0;36m10.1007\u001B[0m\u001B[0;34m%\u001B[0m\u001B[0;36m2\u001B[0m\u001B[0mFBF01908075\u001B[0m\u001B[0;34m\u001B[0m\u001B[0;34m\u001B[0m\u001B[0m\n\u001B[1;32m    221\u001B[0m     \"\"\"\n\u001B[0;32m--> 222\u001B[0;31m     \u001B[0mlabels_true\u001B[0m\u001B[0;34m,\u001B[0m \u001B[0mlabels_pred\u001B[0m \u001B[0;34m=\u001B[0m \u001B[0mcheck_clusterings\u001B[0m\u001B[0;34m(\u001B[0m\u001B[0mlabels_true\u001B[0m\u001B[0;34m,\u001B[0m \u001B[0mlabels_pred\u001B[0m\u001B[0;34m)\u001B[0m\u001B[0;34m\u001B[0m\u001B[0;34m\u001B[0m\u001B[0m\n\u001B[0m\u001B[1;32m    223\u001B[0m     \u001B[0mn_samples\u001B[0m \u001B[0;34m=\u001B[0m \u001B[0mnp\u001B[0m\u001B[0;34m.\u001B[0m\u001B[0mint64\u001B[0m\u001B[0;34m(\u001B[0m\u001B[0mlabels_true\u001B[0m\u001B[0;34m.\u001B[0m\u001B[0mshape\u001B[0m\u001B[0;34m[\u001B[0m\u001B[0;36m0\u001B[0m\u001B[0;34m]\u001B[0m\u001B[0;34m)\u001B[0m\u001B[0;34m\u001B[0m\u001B[0;34m\u001B[0m\u001B[0m\n\u001B[1;32m    224\u001B[0m \u001B[0;34m\u001B[0m\u001B[0m\n",
      "\u001B[0;32m~/opt/anaconda3/envs/data_analysis/lib/python3.9/site-packages/sklearn/metrics/cluster/_supervised.py\u001B[0m in \u001B[0;36mcheck_clusterings\u001B[0;34m(labels_true, labels_pred)\u001B[0m\n\u001B[1;32m     70\u001B[0m     \u001B[0;32mif\u001B[0m \u001B[0mlabels_pred\u001B[0m\u001B[0;34m.\u001B[0m\u001B[0mndim\u001B[0m \u001B[0;34m!=\u001B[0m \u001B[0;36m1\u001B[0m\u001B[0;34m:\u001B[0m\u001B[0;34m\u001B[0m\u001B[0;34m\u001B[0m\u001B[0m\n\u001B[1;32m     71\u001B[0m         \u001B[0;32mraise\u001B[0m \u001B[0mValueError\u001B[0m\u001B[0;34m(\u001B[0m\u001B[0;34m\"labels_pred must be 1D: shape is %r\"\u001B[0m \u001B[0;34m%\u001B[0m \u001B[0;34m(\u001B[0m\u001B[0mlabels_pred\u001B[0m\u001B[0;34m.\u001B[0m\u001B[0mshape\u001B[0m\u001B[0;34m,\u001B[0m\u001B[0;34m)\u001B[0m\u001B[0;34m)\u001B[0m\u001B[0;34m\u001B[0m\u001B[0;34m\u001B[0m\u001B[0m\n\u001B[0;32m---> 72\u001B[0;31m     \u001B[0mcheck_consistent_length\u001B[0m\u001B[0;34m(\u001B[0m\u001B[0mlabels_true\u001B[0m\u001B[0;34m,\u001B[0m \u001B[0mlabels_pred\u001B[0m\u001B[0;34m)\u001B[0m\u001B[0;34m\u001B[0m\u001B[0;34m\u001B[0m\u001B[0m\n\u001B[0m\u001B[1;32m     73\u001B[0m \u001B[0;34m\u001B[0m\u001B[0m\n\u001B[1;32m     74\u001B[0m     \u001B[0;32mreturn\u001B[0m \u001B[0mlabels_true\u001B[0m\u001B[0;34m,\u001B[0m \u001B[0mlabels_pred\u001B[0m\u001B[0;34m\u001B[0m\u001B[0;34m\u001B[0m\u001B[0m\n",
      "\u001B[0;32m~/opt/anaconda3/envs/data_analysis/lib/python3.9/site-packages/sklearn/utils/validation.py\u001B[0m in \u001B[0;36mcheck_consistent_length\u001B[0;34m(*arrays)\u001B[0m\n\u001B[1;32m    329\u001B[0m     \u001B[0muniques\u001B[0m \u001B[0;34m=\u001B[0m \u001B[0mnp\u001B[0m\u001B[0;34m.\u001B[0m\u001B[0munique\u001B[0m\u001B[0;34m(\u001B[0m\u001B[0mlengths\u001B[0m\u001B[0;34m)\u001B[0m\u001B[0;34m\u001B[0m\u001B[0;34m\u001B[0m\u001B[0m\n\u001B[1;32m    330\u001B[0m     \u001B[0;32mif\u001B[0m \u001B[0mlen\u001B[0m\u001B[0;34m(\u001B[0m\u001B[0muniques\u001B[0m\u001B[0;34m)\u001B[0m \u001B[0;34m>\u001B[0m \u001B[0;36m1\u001B[0m\u001B[0;34m:\u001B[0m\u001B[0;34m\u001B[0m\u001B[0;34m\u001B[0m\u001B[0m\n\u001B[0;32m--> 331\u001B[0;31m         raise ValueError(\n\u001B[0m\u001B[1;32m    332\u001B[0m             \u001B[0;34m\"Found input variables with inconsistent numbers of samples: %r\"\u001B[0m\u001B[0;34m\u001B[0m\u001B[0;34m\u001B[0m\u001B[0m\n\u001B[1;32m    333\u001B[0m             \u001B[0;34m%\u001B[0m \u001B[0;34m[\u001B[0m\u001B[0mint\u001B[0m\u001B[0;34m(\u001B[0m\u001B[0ml\u001B[0m\u001B[0;34m)\u001B[0m \u001B[0;32mfor\u001B[0m \u001B[0ml\u001B[0m \u001B[0;32min\u001B[0m \u001B[0mlengths\u001B[0m\u001B[0;34m]\u001B[0m\u001B[0;34m\u001B[0m\u001B[0;34m\u001B[0m\u001B[0m\n",
      "\u001B[0;31mValueError\u001B[0m: Found input variables with inconsistent numbers of samples: [60, 273]"
     ]
    }
   ],
   "source": [
    "adjusted_rand_score(true_labels, predicted_labels)"
   ],
   "metadata": {
    "collapsed": false,
    "pycharm": {
     "name": "#%%\n"
    }
   }
  }
 ],
 "metadata": {
  "kernelspec": {
   "display_name": "Python 3",
   "language": "python",
   "name": "python3"
  },
  "language_info": {
   "codemirror_mode": {
    "name": "ipython",
    "version": 2
   },
   "file_extension": ".py",
   "mimetype": "text/x-python",
   "name": "python",
   "nbconvert_exporter": "python",
   "pygments_lexer": "ipython2",
   "version": "2.7.6"
  }
 },
 "nbformat": 4,
 "nbformat_minor": 0
}