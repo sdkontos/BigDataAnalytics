{
 "cells": [
  {
   "cell_type": "code",
   "execution_count": 20,
   "outputs": [],
   "source": [
    " import pandas as pd\n",
    "import numpy as np\n",
    "import matplotlib as plt\n",
    "import warnings"
   ],
   "metadata": {
    "collapsed": false,
    "pycharm": {
     "name": "#%%\n"
    }
   }
  },
  {
   "cell_type": "code",
   "execution_count": 21,
   "outputs": [],
   "source": [
    "# Function to replace semicolon with comma\n",
    "def semicolon_to_comma(name):\n",
    "\n",
    "    reading_file = open(name + \".csv\", \"r\")\n",
    "    new_file_content = \"\"\n",
    "    for line in reading_file:\n",
    "        stripped_line = line.strip()\n",
    "        new_line = stripped_line.replace(\";\", \",\")\n",
    "        new_file_content += new_line +\"\\n\"\n",
    "    reading_file.close()\n",
    "    writing_file = open(name + \".csv\", \"w\")\n",
    "    writing_file.write(new_file_content)\n",
    "    writing_file.close()"
   ],
   "metadata": {
    "collapsed": false,
    "pycharm": {
     "name": "#%%\n"
    }
   }
  },
  {
   "cell_type": "code",
   "execution_count": 22,
   "outputs": [],
   "source": [
    "file_name = 'beacons_dataset'\n",
    "semicolon_to_comma(file_name)"
   ],
   "metadata": {
    "collapsed": false,
    "pycharm": {
     "name": "#%%\n"
    }
   }
  },
  {
   "cell_type": "code",
   "execution_count": 23,
   "outputs": [
    {
     "data": {
      "text/plain": "      part_id   ts_date   ts_time         room\n0        3089  20170915  06:45:22      Kitchen\n1        3089  20170915  06:45:33      Bedroom\n2        3089  20170915  06:45:39      Outdoor\n3        3089  20170915  06:45:53      Bedroom\n4        3089  20170915  06:46:09      Outdoor\n...       ...       ...       ...          ...\n58628    2138  20181202  17:39:27      Kitchen\n58629    2138  20181202  20:09:08      Bedroom\n58630    2138  20181202  20:21:52      Kitchen\n58631    2138  20181203  06:46:44  Sittingroom\n58632    2138  20181205  10:36:16      Kitchen\n\n[58633 rows x 4 columns]",
      "text/html": "<div>\n<style scoped>\n    .dataframe tbody tr th:only-of-type {\n        vertical-align: middle;\n    }\n\n    .dataframe tbody tr th {\n        vertical-align: top;\n    }\n\n    .dataframe thead th {\n        text-align: right;\n    }\n</style>\n<table border=\"1\" class=\"dataframe\">\n  <thead>\n    <tr style=\"text-align: right;\">\n      <th></th>\n      <th>part_id</th>\n      <th>ts_date</th>\n      <th>ts_time</th>\n      <th>room</th>\n    </tr>\n  </thead>\n  <tbody>\n    <tr>\n      <th>0</th>\n      <td>3089</td>\n      <td>20170915</td>\n      <td>06:45:22</td>\n      <td>Kitchen</td>\n    </tr>\n    <tr>\n      <th>1</th>\n      <td>3089</td>\n      <td>20170915</td>\n      <td>06:45:33</td>\n      <td>Bedroom</td>\n    </tr>\n    <tr>\n      <th>2</th>\n      <td>3089</td>\n      <td>20170915</td>\n      <td>06:45:39</td>\n      <td>Outdoor</td>\n    </tr>\n    <tr>\n      <th>3</th>\n      <td>3089</td>\n      <td>20170915</td>\n      <td>06:45:53</td>\n      <td>Bedroom</td>\n    </tr>\n    <tr>\n      <th>4</th>\n      <td>3089</td>\n      <td>20170915</td>\n      <td>06:46:09</td>\n      <td>Outdoor</td>\n    </tr>\n    <tr>\n      <th>...</th>\n      <td>...</td>\n      <td>...</td>\n      <td>...</td>\n      <td>...</td>\n    </tr>\n    <tr>\n      <th>58628</th>\n      <td>2138</td>\n      <td>20181202</td>\n      <td>17:39:27</td>\n      <td>Kitchen</td>\n    </tr>\n    <tr>\n      <th>58629</th>\n      <td>2138</td>\n      <td>20181202</td>\n      <td>20:09:08</td>\n      <td>Bedroom</td>\n    </tr>\n    <tr>\n      <th>58630</th>\n      <td>2138</td>\n      <td>20181202</td>\n      <td>20:21:52</td>\n      <td>Kitchen</td>\n    </tr>\n    <tr>\n      <th>58631</th>\n      <td>2138</td>\n      <td>20181203</td>\n      <td>06:46:44</td>\n      <td>Sittingroom</td>\n    </tr>\n    <tr>\n      <th>58632</th>\n      <td>2138</td>\n      <td>20181205</td>\n      <td>10:36:16</td>\n      <td>Kitchen</td>\n    </tr>\n  </tbody>\n</table>\n<p>58633 rows × 4 columns</p>\n</div>"
     },
     "execution_count": 23,
     "metadata": {},
     "output_type": "execute_result"
    }
   ],
   "source": [
    "# Creat a dataframe for the beacons_dataset\n",
    "beacons = pd.read_csv(file_name + '.csv')\n",
    "beacons"
   ],
   "metadata": {
    "collapsed": false,
    "pycharm": {
     "name": "#%%\n"
    }
   }
  },
  {
   "cell_type": "code",
   "execution_count": 24,
   "outputs": [
    {
     "data": {
      "text/plain": "test    9841\n3600    1733\n3142    1459\n3086    1434\n3098    1391\n        ... \n1061       1\n2137       1\n1548       1\n1529       1\n1508       1\nName: part_id, Length: 309, dtype: int64"
     },
     "execution_count": 24,
     "metadata": {},
     "output_type": "execute_result"
    }
   ],
   "source": [
    "beacons['part_id'].value_counts(dropna=False)"
   ],
   "metadata": {
    "collapsed": false,
    "pycharm": {
     "name": "#%%\n"
    }
   }
  },
  {
   "cell_type": "code",
   "execution_count": 25,
   "outputs": [
    {
     "data": {
      "text/plain": "      part_id   ts_date   ts_time         room\n0        3089  20170915  06:45:22      Kitchen\n1        3089  20170915  06:45:33      Bedroom\n2        3089  20170915  06:45:39      Outdoor\n3        3089  20170915  06:45:53      Bedroom\n4        3089  20170915  06:46:09      Outdoor\n...       ...       ...       ...          ...\n58628    2138  20181202  17:39:27      Kitchen\n58629    2138  20181202  20:09:08      Bedroom\n58630    2138  20181202  20:21:52      Kitchen\n58631    2138  20181203  06:46:44  Sittingroom\n58632    2138  20181205  10:36:16      Kitchen\n\n[46782 rows x 4 columns]",
      "text/html": "<div>\n<style scoped>\n    .dataframe tbody tr th:only-of-type {\n        vertical-align: middle;\n    }\n\n    .dataframe tbody tr th {\n        vertical-align: top;\n    }\n\n    .dataframe thead th {\n        text-align: right;\n    }\n</style>\n<table border=\"1\" class=\"dataframe\">\n  <thead>\n    <tr style=\"text-align: right;\">\n      <th></th>\n      <th>part_id</th>\n      <th>ts_date</th>\n      <th>ts_time</th>\n      <th>room</th>\n    </tr>\n  </thead>\n  <tbody>\n    <tr>\n      <th>0</th>\n      <td>3089</td>\n      <td>20170915</td>\n      <td>06:45:22</td>\n      <td>Kitchen</td>\n    </tr>\n    <tr>\n      <th>1</th>\n      <td>3089</td>\n      <td>20170915</td>\n      <td>06:45:33</td>\n      <td>Bedroom</td>\n    </tr>\n    <tr>\n      <th>2</th>\n      <td>3089</td>\n      <td>20170915</td>\n      <td>06:45:39</td>\n      <td>Outdoor</td>\n    </tr>\n    <tr>\n      <th>3</th>\n      <td>3089</td>\n      <td>20170915</td>\n      <td>06:45:53</td>\n      <td>Bedroom</td>\n    </tr>\n    <tr>\n      <th>4</th>\n      <td>3089</td>\n      <td>20170915</td>\n      <td>06:46:09</td>\n      <td>Outdoor</td>\n    </tr>\n    <tr>\n      <th>...</th>\n      <td>...</td>\n      <td>...</td>\n      <td>...</td>\n      <td>...</td>\n    </tr>\n    <tr>\n      <th>58628</th>\n      <td>2138</td>\n      <td>20181202</td>\n      <td>17:39:27</td>\n      <td>Kitchen</td>\n    </tr>\n    <tr>\n      <th>58629</th>\n      <td>2138</td>\n      <td>20181202</td>\n      <td>20:09:08</td>\n      <td>Bedroom</td>\n    </tr>\n    <tr>\n      <th>58630</th>\n      <td>2138</td>\n      <td>20181202</td>\n      <td>20:21:52</td>\n      <td>Kitchen</td>\n    </tr>\n    <tr>\n      <th>58631</th>\n      <td>2138</td>\n      <td>20181203</td>\n      <td>06:46:44</td>\n      <td>Sittingroom</td>\n    </tr>\n    <tr>\n      <th>58632</th>\n      <td>2138</td>\n      <td>20181205</td>\n      <td>10:36:16</td>\n      <td>Kitchen</td>\n    </tr>\n  </tbody>\n</table>\n<p>46782 rows × 4 columns</p>\n</div>"
     },
     "execution_count": 25,
     "metadata": {},
     "output_type": "execute_result"
    }
   ],
   "source": [
    "# Part B.1.2: Remove all entries with error in part_id\n",
    "values = ['test', 'new', 'cert', 'Tria', 'Test', 'New',\n",
    "          'Thom', 'Cert', 'newt', '123.', 'tria', '124', 'Newt',\n",
    "          'newf', 'Newp', '12_3', 'Agla', 'Iti_']\n",
    "beacons = beacons[beacons.part_id.isin(values) == False]\n",
    "beacons"
   ],
   "metadata": {
    "collapsed": false,
    "pycharm": {
     "name": "#%%\n"
    }
   }
  },
  {
   "cell_type": "code",
   "execution_count": 26,
   "outputs": [
    {
     "name": "stderr",
     "output_type": "stream",
     "text": [
      "/var/folders/4f/cfbbhwjx5xl3tp_3_r7p5d5h0000gn/T/ipykernel_4415/2153052640.py:2: FutureWarning: The default value of regex will change from True to False in a future version.\n",
      "  beacons['room'] = beacons.room.str.replace(r'(^.*K.*$)', 'Kitchen')\n",
      "/var/folders/4f/cfbbhwjx5xl3tp_3_r7p5d5h0000gn/T/ipykernel_4415/2153052640.py:2: SettingWithCopyWarning: \n",
      "A value is trying to be set on a copy of a slice from a DataFrame.\n",
      "Try using .loc[row_indexer,col_indexer] = value instead\n",
      "\n",
      "See the caveats in the documentation: https://pandas.pydata.org/pandas-docs/stable/user_guide/indexing.html#returning-a-view-versus-a-copy\n",
      "  beacons['room'] = beacons.room.str.replace(r'(^.*K.*$)', 'Kitchen')\n",
      "/var/folders/4f/cfbbhwjx5xl3tp_3_r7p5d5h0000gn/T/ipykernel_4415/2153052640.py:3: FutureWarning: The default value of regex will change from True to False in a future version.\n",
      "  beacons['room'] = beacons.room.str.replace(r'(^.*k.*$)', 'Kitchen')\n",
      "/var/folders/4f/cfbbhwjx5xl3tp_3_r7p5d5h0000gn/T/ipykernel_4415/2153052640.py:3: SettingWithCopyWarning: \n",
      "A value is trying to be set on a copy of a slice from a DataFrame.\n",
      "Try using .loc[row_indexer,col_indexer] = value instead\n",
      "\n",
      "See the caveats in the documentation: https://pandas.pydata.org/pandas-docs/stable/user_guide/indexing.html#returning-a-view-versus-a-copy\n",
      "  beacons['room'] = beacons.room.str.replace(r'(^.*k.*$)', 'Kitchen')\n",
      "/var/folders/4f/cfbbhwjx5xl3tp_3_r7p5d5h0000gn/T/ipykernel_4415/2153052640.py:4: FutureWarning: The default value of regex will change from True to False in a future version.\n",
      "  beacons['room'] = beacons.room.str.replace(r'(^.*Pantry.*$)', 'Kitchen')\n",
      "/var/folders/4f/cfbbhwjx5xl3tp_3_r7p5d5h0000gn/T/ipykernel_4415/2153052640.py:4: SettingWithCopyWarning: \n",
      "A value is trying to be set on a copy of a slice from a DataFrame.\n",
      "Try using .loc[row_indexer,col_indexer] = value instead\n",
      "\n",
      "See the caveats in the documentation: https://pandas.pydata.org/pandas-docs/stable/user_guide/indexing.html#returning-a-view-versus-a-copy\n",
      "  beacons['room'] = beacons.room.str.replace(r'(^.*Pantry.*$)', 'Kitchen')\n",
      "/var/folders/4f/cfbbhwjx5xl3tp_3_r7p5d5h0000gn/T/ipykernel_4415/2153052640.py:5: FutureWarning: The default value of regex will change from True to False in a future version.\n",
      "  beacons['room'] = beacons.room.str.replace(r'(^.*Liv.*$)', 'LivingRoom')\n",
      "/var/folders/4f/cfbbhwjx5xl3tp_3_r7p5d5h0000gn/T/ipykernel_4415/2153052640.py:5: SettingWithCopyWarning: \n",
      "A value is trying to be set on a copy of a slice from a DataFrame.\n",
      "Try using .loc[row_indexer,col_indexer] = value instead\n",
      "\n",
      "See the caveats in the documentation: https://pandas.pydata.org/pandas-docs/stable/user_guide/indexing.html#returning-a-view-versus-a-copy\n",
      "  beacons['room'] = beacons.room.str.replace(r'(^.*Liv.*$)', 'LivingRoom')\n",
      "/var/folders/4f/cfbbhwjx5xl3tp_3_r7p5d5h0000gn/T/ipykernel_4415/2153052640.py:6: FutureWarning: The default value of regex will change from True to False in a future version.\n",
      "  beacons['room'] = beacons.room.str.replace(r'(^.*liv.*$)', 'LivingRoom')\n",
      "/var/folders/4f/cfbbhwjx5xl3tp_3_r7p5d5h0000gn/T/ipykernel_4415/2153052640.py:6: SettingWithCopyWarning: \n",
      "A value is trying to be set on a copy of a slice from a DataFrame.\n",
      "Try using .loc[row_indexer,col_indexer] = value instead\n",
      "\n",
      "See the caveats in the documentation: https://pandas.pydata.org/pandas-docs/stable/user_guide/indexing.html#returning-a-view-versus-a-copy\n",
      "  beacons['room'] = beacons.room.str.replace(r'(^.*liv.*$)', 'LivingRoom')\n",
      "/var/folders/4f/cfbbhwjx5xl3tp_3_r7p5d5h0000gn/T/ipykernel_4415/2153052640.py:7: FutureWarning: The default value of regex will change from True to False in a future version.\n",
      "  beacons['room'] = beacons.room.str.replace(r'(^.*Leav.*$)', 'LivingRoom')\n",
      "/var/folders/4f/cfbbhwjx5xl3tp_3_r7p5d5h0000gn/T/ipykernel_4415/2153052640.py:7: SettingWithCopyWarning: \n",
      "A value is trying to be set on a copy of a slice from a DataFrame.\n",
      "Try using .loc[row_indexer,col_indexer] = value instead\n",
      "\n",
      "See the caveats in the documentation: https://pandas.pydata.org/pandas-docs/stable/user_guide/indexing.html#returning-a-view-versus-a-copy\n",
      "  beacons['room'] = beacons.room.str.replace(r'(^.*Leav.*$)', 'LivingRoom')\n",
      "/var/folders/4f/cfbbhwjx5xl3tp_3_r7p5d5h0000gn/T/ipykernel_4415/2153052640.py:8: FutureWarning: The default value of regex will change from True to False in a future version.\n",
      "  beacons['room'] = beacons.room.str.replace(r'(^.*leav.*$)', 'LivingRoom')\n",
      "/var/folders/4f/cfbbhwjx5xl3tp_3_r7p5d5h0000gn/T/ipykernel_4415/2153052640.py:8: SettingWithCopyWarning: \n",
      "A value is trying to be set on a copy of a slice from a DataFrame.\n",
      "Try using .loc[row_indexer,col_indexer] = value instead\n",
      "\n",
      "See the caveats in the documentation: https://pandas.pydata.org/pandas-docs/stable/user_guide/indexing.html#returning-a-view-versus-a-copy\n",
      "  beacons['room'] = beacons.room.str.replace(r'(^.*leav.*$)', 'LivingRoom')\n",
      "/var/folders/4f/cfbbhwjx5xl3tp_3_r7p5d5h0000gn/T/ipykernel_4415/2153052640.py:9: FutureWarning: The default value of regex will change from True to False in a future version.\n",
      "  beacons['room'] = beacons.room.str.replace(r'(^.*Sit.*$)', 'LivingRoom')\n",
      "/var/folders/4f/cfbbhwjx5xl3tp_3_r7p5d5h0000gn/T/ipykernel_4415/2153052640.py:9: SettingWithCopyWarning: \n",
      "A value is trying to be set on a copy of a slice from a DataFrame.\n",
      "Try using .loc[row_indexer,col_indexer] = value instead\n",
      "\n",
      "See the caveats in the documentation: https://pandas.pydata.org/pandas-docs/stable/user_guide/indexing.html#returning-a-view-versus-a-copy\n",
      "  beacons['room'] = beacons.room.str.replace(r'(^.*Sit.*$)', 'LivingRoom')\n",
      "/var/folders/4f/cfbbhwjx5xl3tp_3_r7p5d5h0000gn/T/ipykernel_4415/2153052640.py:10: FutureWarning: The default value of regex will change from True to False in a future version.\n",
      "  beacons['room'] = beacons.room.str.replace(r'(^.*sit.*$)', 'LivingRoom')\n",
      "/var/folders/4f/cfbbhwjx5xl3tp_3_r7p5d5h0000gn/T/ipykernel_4415/2153052640.py:10: SettingWithCopyWarning: \n",
      "A value is trying to be set on a copy of a slice from a DataFrame.\n",
      "Try using .loc[row_indexer,col_indexer] = value instead\n",
      "\n",
      "See the caveats in the documentation: https://pandas.pydata.org/pandas-docs/stable/user_guide/indexing.html#returning-a-view-versus-a-copy\n",
      "  beacons['room'] = beacons.room.str.replace(r'(^.*sit.*$)', 'LivingRoom')\n",
      "/var/folders/4f/cfbbhwjx5xl3tp_3_r7p5d5h0000gn/T/ipykernel_4415/2153052640.py:11: FutureWarning: The default value of regex will change from True to False in a future version.\n",
      "  beacons['room'] = beacons.room.str.replace(r'(^.*Luv.*$)', 'LivingRoom')\n",
      "/var/folders/4f/cfbbhwjx5xl3tp_3_r7p5d5h0000gn/T/ipykernel_4415/2153052640.py:11: SettingWithCopyWarning: \n",
      "A value is trying to be set on a copy of a slice from a DataFrame.\n",
      "Try using .loc[row_indexer,col_indexer] = value instead\n",
      "\n",
      "See the caveats in the documentation: https://pandas.pydata.org/pandas-docs/stable/user_guide/indexing.html#returning-a-view-versus-a-copy\n",
      "  beacons['room'] = beacons.room.str.replace(r'(^.*Luv.*$)', 'LivingRoom')\n",
      "/var/folders/4f/cfbbhwjx5xl3tp_3_r7p5d5h0000gn/T/ipykernel_4415/2153052640.py:12: FutureWarning: The default value of regex will change from True to False in a future version.\n",
      "  beacons['room'] = beacons.room.str.replace(r'(^.*TV.*$)', 'LivingRoom')\n",
      "/var/folders/4f/cfbbhwjx5xl3tp_3_r7p5d5h0000gn/T/ipykernel_4415/2153052640.py:12: SettingWithCopyWarning: \n",
      "A value is trying to be set on a copy of a slice from a DataFrame.\n",
      "Try using .loc[row_indexer,col_indexer] = value instead\n",
      "\n",
      "See the caveats in the documentation: https://pandas.pydata.org/pandas-docs/stable/user_guide/indexing.html#returning-a-view-versus-a-copy\n",
      "  beacons['room'] = beacons.room.str.replace(r'(^.*TV.*$)', 'LivingRoom')\n",
      "/var/folders/4f/cfbbhwjx5xl3tp_3_r7p5d5h0000gn/T/ipykernel_4415/2153052640.py:13: FutureWarning: The default value of regex will change from True to False in a future version.\n",
      "  beacons['room'] = beacons.room.str.replace(r'(^.*Seat.*$)', 'LivingRoom')\n",
      "/var/folders/4f/cfbbhwjx5xl3tp_3_r7p5d5h0000gn/T/ipykernel_4415/2153052640.py:13: SettingWithCopyWarning: \n",
      "A value is trying to be set on a copy of a slice from a DataFrame.\n",
      "Try using .loc[row_indexer,col_indexer] = value instead\n",
      "\n",
      "See the caveats in the documentation: https://pandas.pydata.org/pandas-docs/stable/user_guide/indexing.html#returning-a-view-versus-a-copy\n",
      "  beacons['room'] = beacons.room.str.replace(r'(^.*Seat.*$)', 'LivingRoom')\n",
      "/var/folders/4f/cfbbhwjx5xl3tp_3_r7p5d5h0000gn/T/ipykernel_4415/2153052640.py:14: FutureWarning: The default value of regex will change from True to False in a future version.\n",
      "  beacons['room'] = beacons.room.str.replace(r'(^.*Lin.*$)', 'LivingRoom')\n",
      "/var/folders/4f/cfbbhwjx5xl3tp_3_r7p5d5h0000gn/T/ipykernel_4415/2153052640.py:14: SettingWithCopyWarning: \n",
      "A value is trying to be set on a copy of a slice from a DataFrame.\n",
      "Try using .loc[row_indexer,col_indexer] = value instead\n",
      "\n",
      "See the caveats in the documentation: https://pandas.pydata.org/pandas-docs/stable/user_guide/indexing.html#returning-a-view-versus-a-copy\n",
      "  beacons['room'] = beacons.room.str.replace(r'(^.*Lin.*$)', 'LivingRoom')\n",
      "/var/folders/4f/cfbbhwjx5xl3tp_3_r7p5d5h0000gn/T/ipykernel_4415/2153052640.py:15: FutureWarning: The default value of regex will change from True to False in a future version.\n",
      "  beacons['room'] = beacons.room.str.replace(r'(^.*Din.*$)', 'LivingRoom')\n",
      "/var/folders/4f/cfbbhwjx5xl3tp_3_r7p5d5h0000gn/T/ipykernel_4415/2153052640.py:15: SettingWithCopyWarning: \n",
      "A value is trying to be set on a copy of a slice from a DataFrame.\n",
      "Try using .loc[row_indexer,col_indexer] = value instead\n",
      "\n",
      "See the caveats in the documentation: https://pandas.pydata.org/pandas-docs/stable/user_guide/indexing.html#returning-a-view-versus-a-copy\n",
      "  beacons['room'] = beacons.room.str.replace(r'(^.*Din.*$)', 'LivingRoom')\n",
      "/var/folders/4f/cfbbhwjx5xl3tp_3_r7p5d5h0000gn/T/ipykernel_4415/2153052640.py:16: FutureWarning: The default value of regex will change from True to False in a future version.\n",
      "  beacons['room'] = beacons.room.str.replace(r'(^.*Bed.*$)', 'BedRoom')\n",
      "/var/folders/4f/cfbbhwjx5xl3tp_3_r7p5d5h0000gn/T/ipykernel_4415/2153052640.py:16: SettingWithCopyWarning: \n",
      "A value is trying to be set on a copy of a slice from a DataFrame.\n",
      "Try using .loc[row_indexer,col_indexer] = value instead\n",
      "\n",
      "See the caveats in the documentation: https://pandas.pydata.org/pandas-docs/stable/user_guide/indexing.html#returning-a-view-versus-a-copy\n",
      "  beacons['room'] = beacons.room.str.replace(r'(^.*Bed.*$)', 'BedRoom')\n",
      "/var/folders/4f/cfbbhwjx5xl3tp_3_r7p5d5h0000gn/T/ipykernel_4415/2153052640.py:17: FutureWarning: The default value of regex will change from True to False in a future version.\n",
      "  beacons['room'] = beacons.room.str.replace(r'(^.*bed.*$)', 'BedRoom')\n",
      "/var/folders/4f/cfbbhwjx5xl3tp_3_r7p5d5h0000gn/T/ipykernel_4415/2153052640.py:17: SettingWithCopyWarning: \n",
      "A value is trying to be set on a copy of a slice from a DataFrame.\n",
      "Try using .loc[row_indexer,col_indexer] = value instead\n",
      "\n",
      "See the caveats in the documentation: https://pandas.pydata.org/pandas-docs/stable/user_guide/indexing.html#returning-a-view-versus-a-copy\n",
      "  beacons['room'] = beacons.room.str.replace(r'(^.*bed.*$)', 'BedRoom')\n",
      "/var/folders/4f/cfbbhwjx5xl3tp_3_r7p5d5h0000gn/T/ipykernel_4415/2153052640.py:18: FutureWarning: The default value of regex will change from True to False in a future version.\n",
      "  beacons['room'] = beacons.room.str.replace(r'(^.*2.*$)', 'BedRoom')\n",
      "/var/folders/4f/cfbbhwjx5xl3tp_3_r7p5d5h0000gn/T/ipykernel_4415/2153052640.py:18: SettingWithCopyWarning: \n",
      "A value is trying to be set on a copy of a slice from a DataFrame.\n",
      "Try using .loc[row_indexer,col_indexer] = value instead\n",
      "\n",
      "See the caveats in the documentation: https://pandas.pydata.org/pandas-docs/stable/user_guide/indexing.html#returning-a-view-versus-a-copy\n",
      "  beacons['room'] = beacons.room.str.replace(r'(^.*2.*$)', 'BedRoom')\n",
      "/var/folders/4f/cfbbhwjx5xl3tp_3_r7p5d5h0000gn/T/ipykernel_4415/2153052640.py:19: FutureWarning: The default value of regex will change from True to False in a future version.\n",
      "  beacons['room'] = beacons.room.str.replace(r'(^.*Off.*$)', 'Office')\n",
      "/var/folders/4f/cfbbhwjx5xl3tp_3_r7p5d5h0000gn/T/ipykernel_4415/2153052640.py:19: SettingWithCopyWarning: \n",
      "A value is trying to be set on a copy of a slice from a DataFrame.\n",
      "Try using .loc[row_indexer,col_indexer] = value instead\n",
      "\n",
      "See the caveats in the documentation: https://pandas.pydata.org/pandas-docs/stable/user_guide/indexing.html#returning-a-view-versus-a-copy\n",
      "  beacons['room'] = beacons.room.str.replace(r'(^.*Off.*$)', 'Office')\n",
      "/var/folders/4f/cfbbhwjx5xl3tp_3_r7p5d5h0000gn/T/ipykernel_4415/2153052640.py:20: FutureWarning: The default value of regex will change from True to False in a future version.\n",
      "  beacons['room'] = beacons.room.str.replace(r'(^.*Libr.*$)', 'Office')\n",
      "/var/folders/4f/cfbbhwjx5xl3tp_3_r7p5d5h0000gn/T/ipykernel_4415/2153052640.py:20: SettingWithCopyWarning: \n",
      "A value is trying to be set on a copy of a slice from a DataFrame.\n",
      "Try using .loc[row_indexer,col_indexer] = value instead\n",
      "\n",
      "See the caveats in the documentation: https://pandas.pydata.org/pandas-docs/stable/user_guide/indexing.html#returning-a-view-versus-a-copy\n",
      "  beacons['room'] = beacons.room.str.replace(r'(^.*Libr.*$)', 'Office')\n",
      "/var/folders/4f/cfbbhwjx5xl3tp_3_r7p5d5h0000gn/T/ipykernel_4415/2153052640.py:21: FutureWarning: The default value of regex will change from True to False in a future version.\n",
      "  beacons['room'] = beacons.room.str.replace(r'(^.*B*th.*$)', 'BathRoom')\n",
      "/var/folders/4f/cfbbhwjx5xl3tp_3_r7p5d5h0000gn/T/ipykernel_4415/2153052640.py:21: SettingWithCopyWarning: \n",
      "A value is trying to be set on a copy of a slice from a DataFrame.\n",
      "Try using .loc[row_indexer,col_indexer] = value instead\n",
      "\n",
      "See the caveats in the documentation: https://pandas.pydata.org/pandas-docs/stable/user_guide/indexing.html#returning-a-view-versus-a-copy\n",
      "  beacons['room'] = beacons.room.str.replace(r'(^.*B*th.*$)', 'BathRoom')\n",
      "/var/folders/4f/cfbbhwjx5xl3tp_3_r7p5d5h0000gn/T/ipykernel_4415/2153052640.py:22: FutureWarning: The default value of regex will change from True to False in a future version.\n",
      "  beacons['room'] = beacons.room.str.replace(r'(^.*Bagh.*$)', 'BathRoom')\n",
      "/var/folders/4f/cfbbhwjx5xl3tp_3_r7p5d5h0000gn/T/ipykernel_4415/2153052640.py:22: SettingWithCopyWarning: \n",
      "A value is trying to be set on a copy of a slice from a DataFrame.\n",
      "Try using .loc[row_indexer,col_indexer] = value instead\n",
      "\n",
      "See the caveats in the documentation: https://pandas.pydata.org/pandas-docs/stable/user_guide/indexing.html#returning-a-view-versus-a-copy\n",
      "  beacons['room'] = beacons.room.str.replace(r'(^.*Bagh.*$)', 'BathRoom')\n",
      "/var/folders/4f/cfbbhwjx5xl3tp_3_r7p5d5h0000gn/T/ipykernel_4415/2153052640.py:23: FutureWarning: The default value of regex will change from True to False in a future version.\n",
      "  beacons['room'] = beacons.room.str.replace(r'(^.*Bagh.*$)', 'BathRoom')\n",
      "/var/folders/4f/cfbbhwjx5xl3tp_3_r7p5d5h0000gn/T/ipykernel_4415/2153052640.py:23: SettingWithCopyWarning: \n",
      "A value is trying to be set on a copy of a slice from a DataFrame.\n",
      "Try using .loc[row_indexer,col_indexer] = value instead\n",
      "\n",
      "See the caveats in the documentation: https://pandas.pydata.org/pandas-docs/stable/user_guide/indexing.html#returning-a-view-versus-a-copy\n",
      "  beacons['room'] = beacons.room.str.replace(r'(^.*Bagh.*$)', 'BathRoom')\n",
      "/var/folders/4f/cfbbhwjx5xl3tp_3_r7p5d5h0000gn/T/ipykernel_4415/2153052640.py:24: FutureWarning: The default value of regex will change from True to False in a future version.\n",
      "  beacons['room'] = beacons.room.str.replace(r'(^.*Veranda.*$)', 'Outdoor')\n",
      "/var/folders/4f/cfbbhwjx5xl3tp_3_r7p5d5h0000gn/T/ipykernel_4415/2153052640.py:24: SettingWithCopyWarning: \n",
      "A value is trying to be set on a copy of a slice from a DataFrame.\n",
      "Try using .loc[row_indexer,col_indexer] = value instead\n",
      "\n",
      "See the caveats in the documentation: https://pandas.pydata.org/pandas-docs/stable/user_guide/indexing.html#returning-a-view-versus-a-copy\n",
      "  beacons['room'] = beacons.room.str.replace(r'(^.*Veranda.*$)', 'Outdoor')\n",
      "/var/folders/4f/cfbbhwjx5xl3tp_3_r7p5d5h0000gn/T/ipykernel_4415/2153052640.py:25: FutureWarning: The default value of regex will change from True to False in a future version.\n",
      "  beacons['room'] = beacons.room.str.replace(r'(^.*Garden.*$)', 'Outdoor')\n",
      "/var/folders/4f/cfbbhwjx5xl3tp_3_r7p5d5h0000gn/T/ipykernel_4415/2153052640.py:25: SettingWithCopyWarning: \n",
      "A value is trying to be set on a copy of a slice from a DataFrame.\n",
      "Try using .loc[row_indexer,col_indexer] = value instead\n",
      "\n",
      "See the caveats in the documentation: https://pandas.pydata.org/pandas-docs/stable/user_guide/indexing.html#returning-a-view-versus-a-copy\n",
      "  beacons['room'] = beacons.room.str.replace(r'(^.*Garden.*$)', 'Outdoor')\n",
      "/var/folders/4f/cfbbhwjx5xl3tp_3_r7p5d5h0000gn/T/ipykernel_4415/2153052640.py:26: FutureWarning: The default value of regex will change from True to False in a future version.\n",
      "  beacons['room'] = beacons.room.str.replace(r'(^.*Guard.*$)', 'Outdoor')\n",
      "/var/folders/4f/cfbbhwjx5xl3tp_3_r7p5d5h0000gn/T/ipykernel_4415/2153052640.py:26: SettingWithCopyWarning: \n",
      "A value is trying to be set on a copy of a slice from a DataFrame.\n",
      "Try using .loc[row_indexer,col_indexer] = value instead\n",
      "\n",
      "See the caveats in the documentation: https://pandas.pydata.org/pandas-docs/stable/user_guide/indexing.html#returning-a-view-versus-a-copy\n",
      "  beacons['room'] = beacons.room.str.replace(r'(^.*Guard.*$)', 'Outdoor')\n",
      "/var/folders/4f/cfbbhwjx5xl3tp_3_r7p5d5h0000gn/T/ipykernel_4415/2153052640.py:27: FutureWarning: The default value of regex will change from True to False in a future version.\n",
      "  beacons['room'] = beacons.room.str.replace(r'(^.*Bed.*$)', 'BedRoom')\n",
      "/var/folders/4f/cfbbhwjx5xl3tp_3_r7p5d5h0000gn/T/ipykernel_4415/2153052640.py:27: SettingWithCopyWarning: \n",
      "A value is trying to be set on a copy of a slice from a DataFrame.\n",
      "Try using .loc[row_indexer,col_indexer] = value instead\n",
      "\n",
      "See the caveats in the documentation: https://pandas.pydata.org/pandas-docs/stable/user_guide/indexing.html#returning-a-view-versus-a-copy\n",
      "  beacons['room'] = beacons.room.str.replace(r'(^.*Bed.*$)', 'BedRoom')\n",
      "/var/folders/4f/cfbbhwjx5xl3tp_3_r7p5d5h0000gn/T/ipykernel_4415/2153052640.py:28: FutureWarning: The default value of regex will change from True to False in a future version.\n",
      "  beacons['room'] = beacons.room.str.replace(r'(^.*Chamb.*$)', 'BedRoom')\n",
      "/var/folders/4f/cfbbhwjx5xl3tp_3_r7p5d5h0000gn/T/ipykernel_4415/2153052640.py:28: SettingWithCopyWarning: \n",
      "A value is trying to be set on a copy of a slice from a DataFrame.\n",
      "Try using .loc[row_indexer,col_indexer] = value instead\n",
      "\n",
      "See the caveats in the documentation: https://pandas.pydata.org/pandas-docs/stable/user_guide/indexing.html#returning-a-view-versus-a-copy\n",
      "  beacons['room'] = beacons.room.str.replace(r'(^.*Chamb.*$)', 'BedRoom')\n",
      "/var/folders/4f/cfbbhwjx5xl3tp_3_r7p5d5h0000gn/T/ipykernel_4415/2153052640.py:29: FutureWarning: The default value of regex will change from True to False in a future version.\n",
      "  beacons['room'] = beacons.room.str.replace(r'(^.*Exit.*$)', 'Entrance')\n",
      "/var/folders/4f/cfbbhwjx5xl3tp_3_r7p5d5h0000gn/T/ipykernel_4415/2153052640.py:29: SettingWithCopyWarning: \n",
      "A value is trying to be set on a copy of a slice from a DataFrame.\n",
      "Try using .loc[row_indexer,col_indexer] = value instead\n",
      "\n",
      "See the caveats in the documentation: https://pandas.pydata.org/pandas-docs/stable/user_guide/indexing.html#returning-a-view-versus-a-copy\n",
      "  beacons['room'] = beacons.room.str.replace(r'(^.*Exit.*$)', 'Entrance')\n",
      "/var/folders/4f/cfbbhwjx5xl3tp_3_r7p5d5h0000gn/T/ipykernel_4415/2153052640.py:30: FutureWarning: The default value of regex will change from True to False in a future version.\n",
      "  beacons['room'] = beacons.room.str.replace(r'(^.*Lau.*$)', 'LaundryRoom')\n",
      "/var/folders/4f/cfbbhwjx5xl3tp_3_r7p5d5h0000gn/T/ipykernel_4415/2153052640.py:30: SettingWithCopyWarning: \n",
      "A value is trying to be set on a copy of a slice from a DataFrame.\n",
      "Try using .loc[row_indexer,col_indexer] = value instead\n",
      "\n",
      "See the caveats in the documentation: https://pandas.pydata.org/pandas-docs/stable/user_guide/indexing.html#returning-a-view-versus-a-copy\n",
      "  beacons['room'] = beacons.room.str.replace(r'(^.*Lau.*$)', 'LaundryRoom')\n",
      "/var/folders/4f/cfbbhwjx5xl3tp_3_r7p5d5h0000gn/T/ipykernel_4415/2153052640.py:31: FutureWarning: The default value of regex will change from True to False in a future version.\n",
      "  beacons['room'] = beacons.room.str.replace(r'(^.*Wash.*$)', 'LaundryRoom')\n",
      "/var/folders/4f/cfbbhwjx5xl3tp_3_r7p5d5h0000gn/T/ipykernel_4415/2153052640.py:31: SettingWithCopyWarning: \n",
      "A value is trying to be set on a copy of a slice from a DataFrame.\n",
      "Try using .loc[row_indexer,col_indexer] = value instead\n",
      "\n",
      "See the caveats in the documentation: https://pandas.pydata.org/pandas-docs/stable/user_guide/indexing.html#returning-a-view-versus-a-copy\n",
      "  beacons['room'] = beacons.room.str.replace(r'(^.*Wash.*$)', 'LaundryRoom')\n",
      "/var/folders/4f/cfbbhwjx5xl3tp_3_r7p5d5h0000gn/T/ipykernel_4415/2153052640.py:32: FutureWarning: The default value of regex will change from True to False in a future version.\n",
      "  beacons['room'] = beacons.room.str.replace(r'(^.*Wash.*$)', 'LaundryRoom')\n",
      "/var/folders/4f/cfbbhwjx5xl3tp_3_r7p5d5h0000gn/T/ipykernel_4415/2153052640.py:32: SettingWithCopyWarning: \n",
      "A value is trying to be set on a copy of a slice from a DataFrame.\n",
      "Try using .loc[row_indexer,col_indexer] = value instead\n",
      "\n",
      "See the caveats in the documentation: https://pandas.pydata.org/pandas-docs/stable/user_guide/indexing.html#returning-a-view-versus-a-copy\n",
      "  beacons['room'] = beacons.room.str.replace(r'(^.*Wash.*$)', 'LaundryRoom')\n",
      "/var/folders/4f/cfbbhwjx5xl3tp_3_r7p5d5h0000gn/T/ipykernel_4415/2153052640.py:33: FutureWarning: The default value of regex will change from True to False in a future version.\n",
      "  beacons['room'] = beacons.room.str.replace(r'(^.*Box.*$)', 'Storage')\n",
      "/var/folders/4f/cfbbhwjx5xl3tp_3_r7p5d5h0000gn/T/ipykernel_4415/2153052640.py:33: SettingWithCopyWarning: \n",
      "A value is trying to be set on a copy of a slice from a DataFrame.\n",
      "Try using .loc[row_indexer,col_indexer] = value instead\n",
      "\n",
      "See the caveats in the documentation: https://pandas.pydata.org/pandas-docs/stable/user_guide/indexing.html#returning-a-view-versus-a-copy\n",
      "  beacons['room'] = beacons.room.str.replace(r'(^.*Box.*$)', 'Storage')\n",
      "/var/folders/4f/cfbbhwjx5xl3tp_3_r7p5d5h0000gn/T/ipykernel_4415/2153052640.py:34: FutureWarning: The default value of regex will change from True to False in a future version.\n",
      "  beacons['room'] = beacons.room.str.replace(r'(^.*LaundryRoom.*$)', 'Storage')\n",
      "/var/folders/4f/cfbbhwjx5xl3tp_3_r7p5d5h0000gn/T/ipykernel_4415/2153052640.py:34: SettingWithCopyWarning: \n",
      "A value is trying to be set on a copy of a slice from a DataFrame.\n",
      "Try using .loc[row_indexer,col_indexer] = value instead\n",
      "\n",
      "See the caveats in the documentation: https://pandas.pydata.org/pandas-docs/stable/user_guide/indexing.html#returning-a-view-versus-a-copy\n",
      "  beacons['room'] = beacons.room.str.replace(r'(^.*LaundryRoom.*$)', 'Storage')\n",
      "/var/folders/4f/cfbbhwjx5xl3tp_3_r7p5d5h0000gn/T/ipykernel_4415/2153052640.py:35: FutureWarning: The default value of regex will change from True to False in a future version.\n",
      "  beacons['room'] = beacons.room.str.replace(r'(^.*One.*$)', 'Undefined')\n",
      "/var/folders/4f/cfbbhwjx5xl3tp_3_r7p5d5h0000gn/T/ipykernel_4415/2153052640.py:35: SettingWithCopyWarning: \n",
      "A value is trying to be set on a copy of a slice from a DataFrame.\n",
      "Try using .loc[row_indexer,col_indexer] = value instead\n",
      "\n",
      "See the caveats in the documentation: https://pandas.pydata.org/pandas-docs/stable/user_guide/indexing.html#returning-a-view-versus-a-copy\n",
      "  beacons['room'] = beacons.room.str.replace(r'(^.*One.*$)', 'Undefined')\n",
      "/var/folders/4f/cfbbhwjx5xl3tp_3_r7p5d5h0000gn/T/ipykernel_4415/2153052640.py:36: FutureWarning: The default value of regex will change from True to False in a future version.\n",
      "  beacons['room'] = beacons.room.str.replace(r'(^.*Two.*$)', 'Undefined')\n",
      "/var/folders/4f/cfbbhwjx5xl3tp_3_r7p5d5h0000gn/T/ipykernel_4415/2153052640.py:36: SettingWithCopyWarning: \n",
      "A value is trying to be set on a copy of a slice from a DataFrame.\n",
      "Try using .loc[row_indexer,col_indexer] = value instead\n",
      "\n",
      "See the caveats in the documentation: https://pandas.pydata.org/pandas-docs/stable/user_guide/indexing.html#returning-a-view-versus-a-copy\n",
      "  beacons['room'] = beacons.room.str.replace(r'(^.*Two.*$)', 'Undefined')\n",
      "/var/folders/4f/cfbbhwjx5xl3tp_3_r7p5d5h0000gn/T/ipykernel_4415/2153052640.py:37: FutureWarning: The default value of regex will change from True to False in a future version.\n",
      "  beacons['room'] = beacons.room.str.replace(r'(^.*Four.*$)', 'Undefined')\n",
      "/var/folders/4f/cfbbhwjx5xl3tp_3_r7p5d5h0000gn/T/ipykernel_4415/2153052640.py:37: SettingWithCopyWarning: \n",
      "A value is trying to be set on a copy of a slice from a DataFrame.\n",
      "Try using .loc[row_indexer,col_indexer] = value instead\n",
      "\n",
      "See the caveats in the documentation: https://pandas.pydata.org/pandas-docs/stable/user_guide/indexing.html#returning-a-view-versus-a-copy\n",
      "  beacons['room'] = beacons.room.str.replace(r'(^.*Four.*$)', 'Undefined')\n",
      "/var/folders/4f/cfbbhwjx5xl3tp_3_r7p5d5h0000gn/T/ipykernel_4415/2153052640.py:38: FutureWarning: The default value of regex will change from True to False in a future version.\n",
      "  beacons['room'] = beacons.room.str.replace(r'(^.*T.*$)', 'Undefined')\n",
      "/var/folders/4f/cfbbhwjx5xl3tp_3_r7p5d5h0000gn/T/ipykernel_4415/2153052640.py:38: SettingWithCopyWarning: \n",
      "A value is trying to be set on a copy of a slice from a DataFrame.\n",
      "Try using .loc[row_indexer,col_indexer] = value instead\n",
      "\n",
      "See the caveats in the documentation: https://pandas.pydata.org/pandas-docs/stable/user_guide/indexing.html#returning-a-view-versus-a-copy\n",
      "  beacons['room'] = beacons.room.str.replace(r'(^.*T.*$)', 'Undefined')\n"
     ]
    }
   ],
   "source": [
    "# Part B.1.1: Correct room labels\n",
    "beacons['room'] = beacons.room.str.replace(r'(^.*K.*$)', 'Kitchen')\n",
    "beacons['room'] = beacons.room.str.replace(r'(^.*k.*$)', 'Kitchen')\n",
    "beacons['room'] = beacons.room.str.replace(r'(^.*Pantry.*$)', 'Kitchen')\n",
    "beacons['room'] = beacons.room.str.replace(r'(^.*Liv.*$)', 'LivingRoom')\n",
    "beacons['room'] = beacons.room.str.replace(r'(^.*liv.*$)', 'LivingRoom')\n",
    "beacons['room'] = beacons.room.str.replace(r'(^.*Leav.*$)', 'LivingRoom')\n",
    "beacons['room'] = beacons.room.str.replace(r'(^.*leav.*$)', 'LivingRoom')\n",
    "beacons['room'] = beacons.room.str.replace(r'(^.*Sit.*$)', 'LivingRoom')\n",
    "beacons['room'] = beacons.room.str.replace(r'(^.*sit.*$)', 'LivingRoom')\n",
    "beacons['room'] = beacons.room.str.replace(r'(^.*Luv.*$)', 'LivingRoom')\n",
    "beacons['room'] = beacons.room.str.replace(r'(^.*TV.*$)', 'LivingRoom')\n",
    "beacons['room'] = beacons.room.str.replace(r'(^.*Seat.*$)', 'LivingRoom')\n",
    "beacons['room'] = beacons.room.str.replace(r'(^.*Lin.*$)', 'LivingRoom')\n",
    "beacons['room'] = beacons.room.str.replace(r'(^.*Din.*$)', 'LivingRoom')\n",
    "beacons['room'] = beacons.room.str.replace(r'(^.*Bed.*$)', 'BedRoom')\n",
    "beacons['room'] = beacons.room.str.replace(r'(^.*bed.*$)', 'BedRoom')\n",
    "beacons['room'] = beacons.room.str.replace(r'(^.*2.*$)', 'BedRoom')\n",
    "beacons['room'] = beacons.room.str.replace(r'(^.*Off.*$)', 'Office')\n",
    "beacons['room'] = beacons.room.str.replace(r'(^.*Libr.*$)', 'Office')\n",
    "beacons['room'] = beacons.room.str.replace(r'(^.*B*th.*$)', 'BathRoom')\n",
    "beacons['room'] = beacons.room.str.replace(r'(^.*Bagh.*$)', 'BathRoom')\n",
    "beacons['room'] = beacons.room.str.replace(r'(^.*Bagh.*$)', 'BathRoom')\n",
    "beacons['room'] = beacons.room.str.replace(r'(^.*Veranda.*$)', 'Outdoor')\n",
    "beacons['room'] = beacons.room.str.replace(r'(^.*Garden.*$)', 'Outdoor')\n",
    "beacons['room'] = beacons.room.str.replace(r'(^.*Guard.*$)', 'Outdoor')\n",
    "beacons['room'] = beacons.room.str.replace(r'(^.*Bed.*$)', 'BedRoom')\n",
    "beacons['room'] = beacons.room.str.replace(r'(^.*Chamb.*$)', 'BedRoom')\n",
    "beacons['room'] = beacons.room.str.replace(r'(^.*Exit.*$)', 'Entrance')\n",
    "beacons['room'] = beacons.room.str.replace(r'(^.*Lau.*$)', 'LaundryRoom')\n",
    "beacons['room'] = beacons.room.str.replace(r'(^.*Wash.*$)', 'LaundryRoom')\n",
    "beacons['room'] = beacons.room.str.replace(r'(^.*Wash.*$)', 'LaundryRoom')\n",
    "beacons['room'] = beacons.room.str.replace(r'(^.*Box.*$)', 'Storage')\n",
    "beacons['room'] = beacons.room.str.replace(r'(^.*LaundryRoom.*$)', 'Storage')\n",
    "beacons['room'] = beacons.room.str.replace(r'(^.*One.*$)', 'Undefined')\n",
    "beacons['room'] = beacons.room.str.replace(r'(^.*Two.*$)', 'Undefined')\n",
    "beacons['room'] = beacons.room.str.replace(r'(^.*Four.*$)', 'Undefined')\n",
    "beacons['room'] = beacons.room.str.replace(r'(^.*T.*$)', 'Undefined')"
   ],
   "metadata": {
    "collapsed": false,
    "pycharm": {
     "name": "#%%\n"
    }
   }
  },
  {
   "cell_type": "code",
   "execution_count": 27,
   "outputs": [
    {
     "data": {
      "text/plain": "      part_id   ts_date   ts_time        room\n0        3089  20170915  06:45:22     Kitchen\n1        3089  20170915  06:45:33     BedRoom\n2        3089  20170915  06:45:39     Outdoor\n3        3089  20170915  06:45:53     BedRoom\n4        3089  20170915  06:46:09     Outdoor\n...       ...       ...       ...         ...\n58628    2138  20181202  17:39:27     Kitchen\n58629    2138  20181202  20:09:08     BedRoom\n58630    2138  20181202  20:21:52     Kitchen\n58631    2138  20181203  06:46:44  LivingRoom\n58632    2138  20181205  10:36:16     Kitchen\n\n[46764 rows x 4 columns]",
      "text/html": "<div>\n<style scoped>\n    .dataframe tbody tr th:only-of-type {\n        vertical-align: middle;\n    }\n\n    .dataframe tbody tr th {\n        vertical-align: top;\n    }\n\n    .dataframe thead th {\n        text-align: right;\n    }\n</style>\n<table border=\"1\" class=\"dataframe\">\n  <thead>\n    <tr style=\"text-align: right;\">\n      <th></th>\n      <th>part_id</th>\n      <th>ts_date</th>\n      <th>ts_time</th>\n      <th>room</th>\n    </tr>\n  </thead>\n  <tbody>\n    <tr>\n      <th>0</th>\n      <td>3089</td>\n      <td>20170915</td>\n      <td>06:45:22</td>\n      <td>Kitchen</td>\n    </tr>\n    <tr>\n      <th>1</th>\n      <td>3089</td>\n      <td>20170915</td>\n      <td>06:45:33</td>\n      <td>BedRoom</td>\n    </tr>\n    <tr>\n      <th>2</th>\n      <td>3089</td>\n      <td>20170915</td>\n      <td>06:45:39</td>\n      <td>Outdoor</td>\n    </tr>\n    <tr>\n      <th>3</th>\n      <td>3089</td>\n      <td>20170915</td>\n      <td>06:45:53</td>\n      <td>BedRoom</td>\n    </tr>\n    <tr>\n      <th>4</th>\n      <td>3089</td>\n      <td>20170915</td>\n      <td>06:46:09</td>\n      <td>Outdoor</td>\n    </tr>\n    <tr>\n      <th>...</th>\n      <td>...</td>\n      <td>...</td>\n      <td>...</td>\n      <td>...</td>\n    </tr>\n    <tr>\n      <th>58628</th>\n      <td>2138</td>\n      <td>20181202</td>\n      <td>17:39:27</td>\n      <td>Kitchen</td>\n    </tr>\n    <tr>\n      <th>58629</th>\n      <td>2138</td>\n      <td>20181202</td>\n      <td>20:09:08</td>\n      <td>BedRoom</td>\n    </tr>\n    <tr>\n      <th>58630</th>\n      <td>2138</td>\n      <td>20181202</td>\n      <td>20:21:52</td>\n      <td>Kitchen</td>\n    </tr>\n    <tr>\n      <th>58631</th>\n      <td>2138</td>\n      <td>20181203</td>\n      <td>06:46:44</td>\n      <td>LivingRoom</td>\n    </tr>\n    <tr>\n      <th>58632</th>\n      <td>2138</td>\n      <td>20181205</td>\n      <td>10:36:16</td>\n      <td>Kitchen</td>\n    </tr>\n  </tbody>\n</table>\n<p>46764 rows × 4 columns</p>\n</div>"
     },
     "execution_count": 27,
     "metadata": {},
     "output_type": "execute_result"
    }
   ],
   "source": [
    "values = ['Undefined', None]\n",
    "beacons = beacons[beacons.room.isin(values) == False]\n",
    "beacons\n"
   ],
   "metadata": {
    "collapsed": false,
    "pycharm": {
     "name": "#%%\n"
    }
   }
  },
  {
   "cell_type": "code",
   "execution_count": 28,
   "outputs": [
    {
     "name": "stderr",
     "output_type": "stream",
     "text": [
      "/var/folders/4f/cfbbhwjx5xl3tp_3_r7p5d5h0000gn/T/ipykernel_4415/3121142689.py:1: SettingWithCopyWarning: \n",
      "A value is trying to be set on a copy of a slice from a DataFrame.\n",
      "Try using .loc[row_indexer,col_indexer] = value instead\n",
      "\n",
      "See the caveats in the documentation: https://pandas.pydata.org/pandas-docs/stable/user_guide/indexing.html#returning-a-view-versus-a-copy\n",
      "  beacons['ts_date'] = beacons['ts_date'].astype('str')\n",
      "/var/folders/4f/cfbbhwjx5xl3tp_3_r7p5d5h0000gn/T/ipykernel_4415/3121142689.py:2: SettingWithCopyWarning: \n",
      "A value is trying to be set on a copy of a slice from a DataFrame.\n",
      "Try using .loc[row_indexer,col_indexer] = value instead\n",
      "\n",
      "See the caveats in the documentation: https://pandas.pydata.org/pandas-docs/stable/user_guide/indexing.html#returning-a-view-versus-a-copy\n",
      "  beacons['ts_time'] = beacons['ts_time'].astype('str')\n",
      "/var/folders/4f/cfbbhwjx5xl3tp_3_r7p5d5h0000gn/T/ipykernel_4415/3121142689.py:3: SettingWithCopyWarning: \n",
      "A value is trying to be set on a copy of a slice from a DataFrame.\n",
      "Try using .loc[row_indexer,col_indexer] = value instead\n",
      "\n",
      "See the caveats in the documentation: https://pandas.pydata.org/pandas-docs/stable/user_guide/indexing.html#returning-a-view-versus-a-copy\n",
      "  beacons['datetime'] = beacons['ts_date'] + ' ' + beacons['ts_time']\n",
      "/var/folders/4f/cfbbhwjx5xl3tp_3_r7p5d5h0000gn/T/ipykernel_4415/3121142689.py:4: SettingWithCopyWarning: \n",
      "A value is trying to be set on a copy of a slice from a DataFrame.\n",
      "Try using .loc[row_indexer,col_indexer] = value instead\n",
      "\n",
      "See the caveats in the documentation: https://pandas.pydata.org/pandas-docs/stable/user_guide/indexing.html#returning-a-view-versus-a-copy\n",
      "  beacons['datetime'] = pd.to_datetime(beacons['datetime'], format='%Y%m%d %H:%M:%S')\n"
     ]
    },
    {
     "data": {
      "text/plain": "      part_id   ts_date   ts_time        room            datetime\n0        3089  20170915  06:45:22     Kitchen 2017-09-15 06:45:22\n1        3089  20170915  06:45:33     BedRoom 2017-09-15 06:45:33\n2        3089  20170915  06:45:39     Outdoor 2017-09-15 06:45:39\n3        3089  20170915  06:45:53     BedRoom 2017-09-15 06:45:53\n4        3089  20170915  06:46:09     Outdoor 2017-09-15 06:46:09\n...       ...       ...       ...         ...                 ...\n58628    2138  20181202  17:39:27     Kitchen 2018-12-02 17:39:27\n58629    2138  20181202  20:09:08     BedRoom 2018-12-02 20:09:08\n58630    2138  20181202  20:21:52     Kitchen 2018-12-02 20:21:52\n58631    2138  20181203  06:46:44  LivingRoom 2018-12-03 06:46:44\n58632    2138  20181205  10:36:16     Kitchen 2018-12-05 10:36:16\n\n[46764 rows x 5 columns]",
      "text/html": "<div>\n<style scoped>\n    .dataframe tbody tr th:only-of-type {\n        vertical-align: middle;\n    }\n\n    .dataframe tbody tr th {\n        vertical-align: top;\n    }\n\n    .dataframe thead th {\n        text-align: right;\n    }\n</style>\n<table border=\"1\" class=\"dataframe\">\n  <thead>\n    <tr style=\"text-align: right;\">\n      <th></th>\n      <th>part_id</th>\n      <th>ts_date</th>\n      <th>ts_time</th>\n      <th>room</th>\n      <th>datetime</th>\n    </tr>\n  </thead>\n  <tbody>\n    <tr>\n      <th>0</th>\n      <td>3089</td>\n      <td>20170915</td>\n      <td>06:45:22</td>\n      <td>Kitchen</td>\n      <td>2017-09-15 06:45:22</td>\n    </tr>\n    <tr>\n      <th>1</th>\n      <td>3089</td>\n      <td>20170915</td>\n      <td>06:45:33</td>\n      <td>BedRoom</td>\n      <td>2017-09-15 06:45:33</td>\n    </tr>\n    <tr>\n      <th>2</th>\n      <td>3089</td>\n      <td>20170915</td>\n      <td>06:45:39</td>\n      <td>Outdoor</td>\n      <td>2017-09-15 06:45:39</td>\n    </tr>\n    <tr>\n      <th>3</th>\n      <td>3089</td>\n      <td>20170915</td>\n      <td>06:45:53</td>\n      <td>BedRoom</td>\n      <td>2017-09-15 06:45:53</td>\n    </tr>\n    <tr>\n      <th>4</th>\n      <td>3089</td>\n      <td>20170915</td>\n      <td>06:46:09</td>\n      <td>Outdoor</td>\n      <td>2017-09-15 06:46:09</td>\n    </tr>\n    <tr>\n      <th>...</th>\n      <td>...</td>\n      <td>...</td>\n      <td>...</td>\n      <td>...</td>\n      <td>...</td>\n    </tr>\n    <tr>\n      <th>58628</th>\n      <td>2138</td>\n      <td>20181202</td>\n      <td>17:39:27</td>\n      <td>Kitchen</td>\n      <td>2018-12-02 17:39:27</td>\n    </tr>\n    <tr>\n      <th>58629</th>\n      <td>2138</td>\n      <td>20181202</td>\n      <td>20:09:08</td>\n      <td>BedRoom</td>\n      <td>2018-12-02 20:09:08</td>\n    </tr>\n    <tr>\n      <th>58630</th>\n      <td>2138</td>\n      <td>20181202</td>\n      <td>20:21:52</td>\n      <td>Kitchen</td>\n      <td>2018-12-02 20:21:52</td>\n    </tr>\n    <tr>\n      <th>58631</th>\n      <td>2138</td>\n      <td>20181203</td>\n      <td>06:46:44</td>\n      <td>LivingRoom</td>\n      <td>2018-12-03 06:46:44</td>\n    </tr>\n    <tr>\n      <th>58632</th>\n      <td>2138</td>\n      <td>20181205</td>\n      <td>10:36:16</td>\n      <td>Kitchen</td>\n      <td>2018-12-05 10:36:16</td>\n    </tr>\n  </tbody>\n</table>\n<p>46764 rows × 5 columns</p>\n</div>"
     },
     "execution_count": 28,
     "metadata": {},
     "output_type": "execute_result"
    }
   ],
   "source": [
    "beacons['ts_date'] = beacons['ts_date'].astype('str')\n",
    "beacons['ts_time'] = beacons['ts_time'].astype('str')\n",
    "beacons['datetime'] = beacons['ts_date'] + ' ' + beacons['ts_time']\n",
    "beacons['datetime'] = pd.to_datetime(beacons['datetime'], format='%Y%m%d %H:%M:%S')\n",
    "beacons"
   ],
   "metadata": {
    "collapsed": false,
    "pycharm": {
     "name": "#%%\n"
    }
   }
  },
  {
   "cell_type": "code",
   "execution_count": 29,
   "outputs": [
    {
     "data": {
      "text/plain": "      part_id        room            datetime\n37356    1001     Kitchen 2018-05-01 19:36:53\n37355    1001  LivingRoom 2018-05-01 19:33:36\n37354    1001     Kitchen 2018-05-01 19:30:26\n37353    1001  LivingRoom 2018-05-01 18:34:43\n37352    1001     Kitchen 2018-05-01 18:29:06\n...       ...         ...                 ...\n15001    3611     Outdoor 2018-01-16 08:46:21\n15000    3611     Kitchen 2018-01-16 08:42:17\n14999    3611    BathRoom 2017-12-27 08:22:06\n14998    3611     BedRoom 2017-12-27 08:22:05\n14997    3611     Outdoor 2017-12-27 08:22:04\n\n[46764 rows x 3 columns]",
      "text/html": "<div>\n<style scoped>\n    .dataframe tbody tr th:only-of-type {\n        vertical-align: middle;\n    }\n\n    .dataframe tbody tr th {\n        vertical-align: top;\n    }\n\n    .dataframe thead th {\n        text-align: right;\n    }\n</style>\n<table border=\"1\" class=\"dataframe\">\n  <thead>\n    <tr style=\"text-align: right;\">\n      <th></th>\n      <th>part_id</th>\n      <th>room</th>\n      <th>datetime</th>\n    </tr>\n  </thead>\n  <tbody>\n    <tr>\n      <th>37356</th>\n      <td>1001</td>\n      <td>Kitchen</td>\n      <td>2018-05-01 19:36:53</td>\n    </tr>\n    <tr>\n      <th>37355</th>\n      <td>1001</td>\n      <td>LivingRoom</td>\n      <td>2018-05-01 19:33:36</td>\n    </tr>\n    <tr>\n      <th>37354</th>\n      <td>1001</td>\n      <td>Kitchen</td>\n      <td>2018-05-01 19:30:26</td>\n    </tr>\n    <tr>\n      <th>37353</th>\n      <td>1001</td>\n      <td>LivingRoom</td>\n      <td>2018-05-01 18:34:43</td>\n    </tr>\n    <tr>\n      <th>37352</th>\n      <td>1001</td>\n      <td>Kitchen</td>\n      <td>2018-05-01 18:29:06</td>\n    </tr>\n    <tr>\n      <th>...</th>\n      <td>...</td>\n      <td>...</td>\n      <td>...</td>\n    </tr>\n    <tr>\n      <th>15001</th>\n      <td>3611</td>\n      <td>Outdoor</td>\n      <td>2018-01-16 08:46:21</td>\n    </tr>\n    <tr>\n      <th>15000</th>\n      <td>3611</td>\n      <td>Kitchen</td>\n      <td>2018-01-16 08:42:17</td>\n    </tr>\n    <tr>\n      <th>14999</th>\n      <td>3611</td>\n      <td>BathRoom</td>\n      <td>2017-12-27 08:22:06</td>\n    </tr>\n    <tr>\n      <th>14998</th>\n      <td>3611</td>\n      <td>BedRoom</td>\n      <td>2017-12-27 08:22:05</td>\n    </tr>\n    <tr>\n      <th>14997</th>\n      <td>3611</td>\n      <td>Outdoor</td>\n      <td>2017-12-27 08:22:04</td>\n    </tr>\n  </tbody>\n</table>\n<p>46764 rows × 3 columns</p>\n</div>"
     },
     "execution_count": 29,
     "metadata": {},
     "output_type": "execute_result"
    }
   ],
   "source": [
    "beacons = beacons.drop(['ts_date', 'ts_time'], axis=1)\n",
    "beacons = beacons.sort_values(['part_id', 'datetime'], ascending=[True, False])\n",
    "beacons"
   ],
   "metadata": {
    "collapsed": false,
    "pycharm": {
     "name": "#%%\n"
    }
   }
  },
  {
   "cell_type": "code",
   "execution_count": 30,
   "outputs": [],
   "source": [
    "# Create lag features\n",
    "def create_lags(dataset, num):\n",
    "    new_dict = {}\n",
    "    for col_name in dataset:\n",
    "        new_dict[col_name] = dataset[col_name]\n",
    "        # create lagged Series\n",
    "        for l in range(1, int(num) + 1):\n",
    "            new_dict['%s_lag%d' % (col_name, l)] = dataset[col_name].shift(l)\n",
    "    res = pd.DataFrame(new_dict, index=dataset.index)\n",
    "    res = res.fillna(0)\n",
    "    return res"
   ],
   "metadata": {
    "collapsed": false,
    "pycharm": {
     "name": "#%%\n"
    }
   }
  },
  {
   "cell_type": "code",
   "execution_count": 31,
   "outputs": [
    {
     "name": "stderr",
     "output_type": "stream",
     "text": [
      "/Users/shortie/opt/anaconda3/envs/data_analysis/lib/python3.9/site-packages/pandas/core/indexing.py:1732: SettingWithCopyWarning: \n",
      "A value is trying to be set on a copy of a slice from a DataFrame\n",
      "\n",
      "See the caveats in the documentation: https://pandas.pydata.org/pandas-docs/stable/user_guide/indexing.html#returning-a-view-versus-a-copy\n",
      "  self._setitem_single_block(indexer, value, name)\n"
     ]
    }
   ],
   "source": [
    "beacons = create_lags(beacons, 1)\n",
    "beacons = beacons.filter(['part_id', 'part_id_lag1', 'room', 'datetime', 'datetime_lag1'])\n",
    "beacons.datetime_lag1.iloc[0] = beacons.datetime_lag1.iloc[1]\n",
    "beacons['datetime_lag1'] =  pd.to_datetime(beacons['datetime_lag1'], format='%Y%m%d %H:%M:%S')\n",
    "beacons = beacons.rename(columns={'datetime': 'start_time', 'datetime_lag1': 'end_time'})"
   ],
   "metadata": {
    "collapsed": false,
    "pycharm": {
     "name": "#%%\n"
    }
   }
  },
  {
   "cell_type": "code",
   "execution_count": 32,
   "outputs": [],
   "source": [
    "beacons['diff'] = (beacons['end_time'] - beacons['start_time'])\n",
    "beacons['diff'] = beacons['diff'].astype('timedelta64[s]')\n",
    "beacons['diff'] = np.where(beacons['part_id'] != beacons['part_id_lag1'], '0', beacons['diff'])\n",
    "beacons = beacons.drop(['part_id_lag1','start_time', 'end_time'], axis=1)"
   ],
   "metadata": {
    "collapsed": false,
    "pycharm": {
     "name": "#%%\n"
    }
   }
  },
  {
   "cell_type": "code",
   "execution_count": 33,
   "outputs": [],
   "source": [
    "beacons = beacons.pivot_table(values='diff', index='part_id', columns='room', aggfunc='first')\n",
    "beacons.dropna(axis = 0, how = 'all', inplace = True)\n",
    "beacons.drop(columns=beacons.columns[0], axis=1, inplace=True)\n",
    "beacons = beacons.fillna(0)"
   ],
   "metadata": {
    "collapsed": false,
    "pycharm": {
     "name": "#%%\n"
    }
   }
  },
  {
   "cell_type": "code",
   "execution_count": 34,
   "outputs": [],
   "source": [
    "beacons = beacons.astype(float)\n",
    "beacons['sum'] = beacons[list(beacons.columns)].sum(axis=1)\n",
    "beacons.drop(beacons[beacons['sum'] == 0].index, inplace = True)"
   ],
   "metadata": {
    "collapsed": false,
    "pycharm": {
     "name": "#%%\n"
    }
   }
  },
  {
   "cell_type": "code",
   "execution_count": 35,
   "outputs": [
    {
     "data": {
      "text/plain": "room      BathRoom    BedRoom  Entrance  Garage       Hall    Kitchen  \\\npart_id                                                                 \n1001      7.430730  32.304786       0.0     0.0  47.355164   0.000000   \n1003      0.273620   0.000000       0.0     0.0   0.177048  77.804603   \n1005      0.000000   0.000000       0.0     0.0  99.777667   0.000000   \n1006     98.305596   0.683120       0.0     0.0   0.304725   0.391789   \n1007      3.496115  71.624121       0.0     0.0   1.775805   0.000000   \n...            ...        ...       ...     ...        ...        ...   \n3593     12.498823   0.847697       0.0     0.0   0.000000   8.985589   \n3594      0.000000   0.000000       0.0     0.0   0.000000  99.975994   \n3600     12.019929   3.923604       0.0     0.0   0.000000   0.000000   \n3601      0.000000   0.014536       0.0     0.0   0.000000   0.000000   \n3611      6.663645  19.310970       0.0     0.0   0.000000  24.070716   \n\nroom     LivingRoom     Office    Outdoor  Storage        sum  \npart_id                                                        \n1001       6.202771   0.000000   6.706549      0.0     3176.0  \n1003       0.000000   0.000000  21.744729      0.0     6213.0  \n1005       0.222333   0.000000   0.000000      0.0    17991.0  \n1006       0.000000   0.000000   0.314771      0.0    29863.0  \n1007       0.147984   0.000000  22.955975      0.0     5406.0  \n...             ...        ...        ...      ...        ...  \n3593       0.000000  76.678911   0.988980      0.0    10617.0  \n3594       0.001847   0.001154   0.021005      0.0   433220.0  \n3600      79.468549   0.000000   4.587918      0.0     4817.0  \n3601      90.734180   0.007477   9.243806      0.0  1912459.0  \n3611       0.000000   0.000000  49.954669      0.0     2206.0  \n\n[282 rows x 11 columns]",
      "text/html": "<div>\n<style scoped>\n    .dataframe tbody tr th:only-of-type {\n        vertical-align: middle;\n    }\n\n    .dataframe tbody tr th {\n        vertical-align: top;\n    }\n\n    .dataframe thead th {\n        text-align: right;\n    }\n</style>\n<table border=\"1\" class=\"dataframe\">\n  <thead>\n    <tr style=\"text-align: right;\">\n      <th>room</th>\n      <th>BathRoom</th>\n      <th>BedRoom</th>\n      <th>Entrance</th>\n      <th>Garage</th>\n      <th>Hall</th>\n      <th>Kitchen</th>\n      <th>LivingRoom</th>\n      <th>Office</th>\n      <th>Outdoor</th>\n      <th>Storage</th>\n      <th>sum</th>\n    </tr>\n    <tr>\n      <th>part_id</th>\n      <th></th>\n      <th></th>\n      <th></th>\n      <th></th>\n      <th></th>\n      <th></th>\n      <th></th>\n      <th></th>\n      <th></th>\n      <th></th>\n      <th></th>\n    </tr>\n  </thead>\n  <tbody>\n    <tr>\n      <th>1001</th>\n      <td>7.430730</td>\n      <td>32.304786</td>\n      <td>0.0</td>\n      <td>0.0</td>\n      <td>47.355164</td>\n      <td>0.000000</td>\n      <td>6.202771</td>\n      <td>0.000000</td>\n      <td>6.706549</td>\n      <td>0.0</td>\n      <td>3176.0</td>\n    </tr>\n    <tr>\n      <th>1003</th>\n      <td>0.273620</td>\n      <td>0.000000</td>\n      <td>0.0</td>\n      <td>0.0</td>\n      <td>0.177048</td>\n      <td>77.804603</td>\n      <td>0.000000</td>\n      <td>0.000000</td>\n      <td>21.744729</td>\n      <td>0.0</td>\n      <td>6213.0</td>\n    </tr>\n    <tr>\n      <th>1005</th>\n      <td>0.000000</td>\n      <td>0.000000</td>\n      <td>0.0</td>\n      <td>0.0</td>\n      <td>99.777667</td>\n      <td>0.000000</td>\n      <td>0.222333</td>\n      <td>0.000000</td>\n      <td>0.000000</td>\n      <td>0.0</td>\n      <td>17991.0</td>\n    </tr>\n    <tr>\n      <th>1006</th>\n      <td>98.305596</td>\n      <td>0.683120</td>\n      <td>0.0</td>\n      <td>0.0</td>\n      <td>0.304725</td>\n      <td>0.391789</td>\n      <td>0.000000</td>\n      <td>0.000000</td>\n      <td>0.314771</td>\n      <td>0.0</td>\n      <td>29863.0</td>\n    </tr>\n    <tr>\n      <th>1007</th>\n      <td>3.496115</td>\n      <td>71.624121</td>\n      <td>0.0</td>\n      <td>0.0</td>\n      <td>1.775805</td>\n      <td>0.000000</td>\n      <td>0.147984</td>\n      <td>0.000000</td>\n      <td>22.955975</td>\n      <td>0.0</td>\n      <td>5406.0</td>\n    </tr>\n    <tr>\n      <th>...</th>\n      <td>...</td>\n      <td>...</td>\n      <td>...</td>\n      <td>...</td>\n      <td>...</td>\n      <td>...</td>\n      <td>...</td>\n      <td>...</td>\n      <td>...</td>\n      <td>...</td>\n      <td>...</td>\n    </tr>\n    <tr>\n      <th>3593</th>\n      <td>12.498823</td>\n      <td>0.847697</td>\n      <td>0.0</td>\n      <td>0.0</td>\n      <td>0.000000</td>\n      <td>8.985589</td>\n      <td>0.000000</td>\n      <td>76.678911</td>\n      <td>0.988980</td>\n      <td>0.0</td>\n      <td>10617.0</td>\n    </tr>\n    <tr>\n      <th>3594</th>\n      <td>0.000000</td>\n      <td>0.000000</td>\n      <td>0.0</td>\n      <td>0.0</td>\n      <td>0.000000</td>\n      <td>99.975994</td>\n      <td>0.001847</td>\n      <td>0.001154</td>\n      <td>0.021005</td>\n      <td>0.0</td>\n      <td>433220.0</td>\n    </tr>\n    <tr>\n      <th>3600</th>\n      <td>12.019929</td>\n      <td>3.923604</td>\n      <td>0.0</td>\n      <td>0.0</td>\n      <td>0.000000</td>\n      <td>0.000000</td>\n      <td>79.468549</td>\n      <td>0.000000</td>\n      <td>4.587918</td>\n      <td>0.0</td>\n      <td>4817.0</td>\n    </tr>\n    <tr>\n      <th>3601</th>\n      <td>0.000000</td>\n      <td>0.014536</td>\n      <td>0.0</td>\n      <td>0.0</td>\n      <td>0.000000</td>\n      <td>0.000000</td>\n      <td>90.734180</td>\n      <td>0.007477</td>\n      <td>9.243806</td>\n      <td>0.0</td>\n      <td>1912459.0</td>\n    </tr>\n    <tr>\n      <th>3611</th>\n      <td>6.663645</td>\n      <td>19.310970</td>\n      <td>0.0</td>\n      <td>0.0</td>\n      <td>0.000000</td>\n      <td>24.070716</td>\n      <td>0.000000</td>\n      <td>0.000000</td>\n      <td>49.954669</td>\n      <td>0.0</td>\n      <td>2206.0</td>\n    </tr>\n  </tbody>\n</table>\n<p>282 rows × 11 columns</p>\n</div>"
     },
     "execution_count": 35,
     "metadata": {},
     "output_type": "execute_result"
    }
   ],
   "source": [
    "beacons['BathRoom'] = (beacons['BathRoom'] / beacons['sum']) * 100\n",
    "beacons['BedRoom'] = (beacons['BedRoom'] / beacons['sum']) * 100\n",
    "beacons['Entrance'] = (beacons['Entrance'] / beacons['sum']) * 100\n",
    "beacons['Garage'] = (beacons['Garage'] / beacons['sum']) * 100\n",
    "beacons['Hall'] = (beacons['Hall'] / beacons['sum']) * 100\n",
    "beacons['Kitchen'] = (beacons['Kitchen'] / beacons['sum']) * 100\n",
    "beacons['LivingRoom'] = (beacons['LivingRoom'] / beacons['sum']) * 100\n",
    "beacons['Office'] = (beacons['Office'] / beacons['sum']) * 100\n",
    "beacons['Outdoor'] = (beacons['Outdoor'] / beacons['sum']) * 100\n",
    "beacons['Storage'] = (beacons['Storage'] / beacons['sum']) * 100\n",
    "beacons"
   ],
   "metadata": {
    "collapsed": false,
    "pycharm": {
     "name": "#%%\n"
    }
   }
  },
  {
   "cell_type": "code",
   "execution_count": 36,
   "outputs": [
    {
     "data": {
      "text/plain": "(282, 11)"
     },
     "execution_count": 36,
     "metadata": {},
     "output_type": "execute_result"
    }
   ],
   "source": [
    "beacons = beacons.drop(['sum'], axis=1)\n",
    "beacons = beacons.reset_index().rename_axis(None, axis=1)\n",
    "beacons = beacons.astype(str)\n",
    "beacons.shape"
   ],
   "metadata": {
    "collapsed": false,
    "pycharm": {
     "name": "#%%\n"
    }
   }
  },
  {
   "cell_type": "code",
   "execution_count": 37,
   "outputs": [],
   "source": [
    "clinical = pd.read_csv('clinicalvol2.csv')\n",
    "clinical = clinical.astype(str)"
   ],
   "metadata": {
    "collapsed": false,
    "pycharm": {
     "name": "#%%\n"
    }
   }
  },
  {
   "cell_type": "code",
   "execution_count": 38,
   "outputs": [
    {
     "data": {
      "text/plain": "(273, 11)"
     },
     "execution_count": 38,
     "metadata": {},
     "output_type": "execute_result"
    }
   ],
   "source": [
    "merged = pd.merge(clinical, beacons)\n",
    "merged.to_csv('merged.csv', index = False)\n",
    "merged.shape"
   ],
   "metadata": {
    "collapsed": false,
    "pycharm": {
     "name": "#%%\n"
    }
   }
  }
 ],
 "metadata": {
  "kernelspec": {
   "display_name": "Python 3",
   "language": "python",
   "name": "python3"
  },
  "language_info": {
   "codemirror_mode": {
    "name": "ipython",
    "version": 2
   },
   "file_extension": ".py",
   "mimetype": "text/x-python",
   "name": "python",
   "nbconvert_exporter": "python",
   "pygments_lexer": "ipython2",
   "version": "2.7.6"
  }
 },
 "nbformat": 4,
 "nbformat_minor": 0
}