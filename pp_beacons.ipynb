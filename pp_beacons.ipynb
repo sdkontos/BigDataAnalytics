{
 "cells": [
  {
   "cell_type": "code",
   "execution_count": 300,
   "outputs": [],
   "source": [
    "import pandas as pd\n",
    "import numpy as np\n",
    "import matplotlib as plt\n",
    "import warnings\n",
    "pd.set_option('display.max_rows', 500)\n",
    "pd.set_option('display.max_columns', 500)\n",
    "pd.set_option('display.width', 1000)"
   ],
   "metadata": {
    "collapsed": false,
    "pycharm": {
     "name": "#%%\n"
    }
   }
  },
  {
   "cell_type": "code",
   "execution_count": 301,
   "outputs": [],
   "source": [
    "# Function to replace semicolon with comma\n",
    "def semicolon_to_comma(name):\n",
    "\n",
    "    reading_file = open(name + \".csv\", \"r\")\n",
    "    new_file_content = \"\"\n",
    "    for line in reading_file:\n",
    "        stripped_line = line.strip()\n",
    "        new_line = stripped_line.replace(\";\", \",\")\n",
    "        new_file_content += new_line +\"\\n\"\n",
    "    reading_file.close()\n",
    "    writing_file = open(name + \".csv\", \"w\")\n",
    "    writing_file.write(new_file_content)\n",
    "    writing_file.close()"
   ],
   "metadata": {
    "collapsed": false,
    "pycharm": {
     "name": "#%%\n"
    }
   }
  },
  {
   "cell_type": "code",
   "execution_count": 302,
   "outputs": [],
   "source": [
    "file_name = 'beacons_dataset'\n",
    "semicolon_to_comma(file_name)"
   ],
   "metadata": {
    "collapsed": false,
    "pycharm": {
     "name": "#%%\n"
    }
   }
  },
  {
   "cell_type": "code",
   "execution_count": 303,
   "outputs": [
    {
     "name": "stdout",
     "output_type": "stream",
     "text": [
      "  part_id   ts_date   ts_time     room\n",
      "0    3089  20170915  06:45:22  Kitchen\n",
      "1    3089  20170915  06:45:33  Bedroom\n",
      "2    3089  20170915  06:45:39  Outdoor\n",
      "3    3089  20170915  06:45:53  Bedroom\n",
      "4    3089  20170915  06:46:09  Outdoor\n",
      "part_id    object\n",
      "ts_date     int64\n",
      "ts_time    object\n",
      "room       object\n",
      "dtype: object\n"
     ]
    }
   ],
   "source": [
    "# Creat a dataframe for the beacons_dataset\n",
    "beacons = pd.read_csv(file_name + '.csv')\n",
    "print(beacons.head(5))\n",
    "print(beacons.dtypes)"
   ],
   "metadata": {
    "collapsed": false,
    "pycharm": {
     "name": "#%%\n"
    }
   }
  },
  {
   "cell_type": "code",
   "execution_count": 304,
   "outputs": [
    {
     "data": {
      "text/plain": "test    9841\n3600    1733\n3142    1459\n3086    1434\n3098    1391\n3141     982\n2116     898\n3119     888\n3082     750\n3120     686\nnew      685\n3105     611\n3113     608\n2081     593\ncert     586\n2100     573\n3104     564\n2086     554\n3103     543\n2142     536\n3090     512\n2106     496\n2183     489\n3132     486\n3084     481\n3106     474\n2141     453\n2108     435\n2105     432\n3131     426\n3081     417\n2082     411\n3129     398\n2022     383\n3611     372\n2109     366\n3601     359\n3107     353\n2111     351\n3087     346\n3594     335\n3002     335\n2118     333\n3117     332\n2088     326\n2107     313\n2097     307\n3062     294\n2092     290\n2096     288\n3135     275\n2110     265\n3043     264\n3118     264\n3571     264\n2047     260\n3546     258\n2053     256\n3005     252\n2093     252\n2103     251\n2049     237\n2140     237\n2094     234\n3020     230\n2090     230\n2138     230\n3057     226\n3140     219\nTria     217\n2099     216\n3029     213\n3007     200\n3032     198\n3048     195\n3134     195\n2104     194\n3021     188\n2070     186\n1126     185\n3019     184\n3139     183\n3102     182\n3112     182\nTest     175\n1131     174\n3009     173\n2085     171\n2091     169\n3545     167\n2126     166\n3014     163\n3095     163\n3051     163\n3038     162\n3114     160\n3091     160\n3054     157\n2102     154\n3089     151\n2083     149\n1101     147\n1001     145\n2050     142\n2068     138\n3072     135\n3109     133\n3097     133\n2113     133\n3064     132\n2122     130\n3031     129\n3012     128\n1112     128\n1518     128\n3096     127\n2128     124\n3044     124\n3028     122\n3006     121\n2114     120\nNew      118\n2033     118\n3016     117\n3077     117\n2036     115\n3037     114\n3039     114\n3041     114\n1035     113\n1123     110\n1055     110\n3053     110\n3517     109\n3011     108\n3001     107\n3116     107\n2064     105\n2133     104\n3527     103\n2125     103\n3515     102\n2058     101\n3061     100\n3559      99\n2117      98\n1005      95\n1510      94\n1006      93\n2134      91\n3593      91\n1030      89\n2063      88\n3068      87\n3133      85\n3079      83\n3073      83\n1040      82\n3108      81\n1007      79\n3524      78\n3065      78\n2095      77\n2044      77\n2060      76\n3066      75\n2112      73\n1124      72\n3033      72\n2048      71\n1049      71\n2025      70\n1509      69\n3004      69\n2030      68\n3052      67\n3010      65\n3070      64\n2615      63\n1514      61\n3060      60\n3127      60\n3099      58\n1507      57\n2124      57\n3008      55\n3058      54\n1128      52\n1003      52\n2079      51\nThom      51\n1039      51\n2040      49\n1104      49\n1088      48\n1111      48\nCert      45\n2032      44\n3026      42\n2098      41\n1044      40\n2051      39\n1038      38\n2119      38\n2038      37\n2101      37\n3549      37\n1515      36\n2067      36\n1068      35\n3115      35\n2026      35\n2089      33\n3110      33\n3067      32\n2043      31\n1066      31\n3083      30\n3055      30\n2077      30\n1051      29\n2136      29\n2024      28\n1110      28\n2087      28\n3085      27\n2056      27\n2020      27\n1023      26\nnewt      25\n123.      23\n2016      23\n1117      22\n1526      20\n1043      20\n2006      19\ntria      19\n2069      18\n2139      18\n2121      18\n124       18\n2029      18\n2584      17\n2518      17\n2072      16\n2131      16\n3040      16\nNewt      16\nnewf      14\n2132      14\n2507      14\n1119      13\n3030      13\n1558      13\n1089      12\n1086      12\n1041      12\n1094      12\n1022      12\n2135      11\n1085      11\n1113      11\n2027      10\n2073      10\n3592       9\n1036       9\n2503       9\n2054       9\n1092       9\n1091       9\n1084       9\n1115       9\n2510       9\n2071       8\n2021       8\n1054       8\n2039       7\n2012       7\n1090       7\n1234       7\n2502       7\n2035       7\n1103       7\n2014       7\nNewp       6\n1191       5\n1120       5\n12_3       5\n2055       5\nAgla       5\n2017       4\n1109       4\n1095       4\n2005       3\n2037       3\n3034       3\n2042       3\n2511       3\n3578       3\n2515       2\n2013       2\nIti_       2\n1525       1\n1057       1\n1061       1\n2137       1\n1548       1\n1529       1\n1508       1\nName: part_id, dtype: int64"
     },
     "execution_count": 304,
     "metadata": {},
     "output_type": "execute_result"
    }
   ],
   "source": [
    "beacons['part_id'].value_counts(dropna=False)"
   ],
   "metadata": {
    "collapsed": false,
    "pycharm": {
     "name": "#%%\n"
    }
   }
  },
  {
   "cell_type": "code",
   "execution_count": 305,
   "outputs": [
    {
     "data": {
      "text/plain": "(58633, 4)"
     },
     "execution_count": 305,
     "metadata": {},
     "output_type": "execute_result"
    }
   ],
   "source": [
    "beacons.shape"
   ],
   "metadata": {
    "collapsed": false,
    "pycharm": {
     "name": "#%%\n"
    }
   }
  },
  {
   "cell_type": "code",
   "execution_count": 306,
   "outputs": [
    {
     "data": {
      "text/plain": "(46782, 4)"
     },
     "execution_count": 306,
     "metadata": {},
     "output_type": "execute_result"
    }
   ],
   "source": [
    "# Part B.1.2: Remove all entries with error in part_id\n",
    "values = ['test', 'new', 'cert', 'Tria', 'Test', 'New',\n",
    "          'Thom', 'Cert', 'newt', '123.', 'tria', '124', 'Newt',\n",
    "          'newf', 'Newp', '12_3', 'Agla', 'Iti_']\n",
    "beacons = beacons[beacons.part_id.isin(values) == False]\n",
    "beacons.shape"
   ],
   "metadata": {
    "collapsed": false,
    "pycharm": {
     "name": "#%%\n"
    }
   }
  },
  {
   "cell_type": "code",
   "execution_count": 307,
   "outputs": [
    {
     "name": "stderr",
     "output_type": "stream",
     "text": [
      "/var/folders/4f/cfbbhwjx5xl3tp_3_r7p5d5h0000gn/T/ipykernel_3797/806612907.py:2: FutureWarning: The default value of regex will change from True to False in a future version.\n",
      "  beacons['room'] = beacons.room.str.replace(r'(^.*K.*$)', 'Kitchen')\n",
      "/var/folders/4f/cfbbhwjx5xl3tp_3_r7p5d5h0000gn/T/ipykernel_3797/806612907.py:3: FutureWarning: The default value of regex will change from True to False in a future version.\n",
      "  beacons['room'] = beacons.room.str.replace(r'(^.*k.*$)', 'Kitchen')\n",
      "/var/folders/4f/cfbbhwjx5xl3tp_3_r7p5d5h0000gn/T/ipykernel_3797/806612907.py:4: FutureWarning: The default value of regex will change from True to False in a future version.\n",
      "  beacons['room'] = beacons.room.str.replace(r'(^.*Pantry.*$)', 'Kitchen')\n",
      "/var/folders/4f/cfbbhwjx5xl3tp_3_r7p5d5h0000gn/T/ipykernel_3797/806612907.py:5: FutureWarning: The default value of regex will change from True to False in a future version.\n",
      "  beacons['room'] = beacons.room.str.replace(r'(^.*Liv.*$)', 'LivingRoom')\n",
      "/var/folders/4f/cfbbhwjx5xl3tp_3_r7p5d5h0000gn/T/ipykernel_3797/806612907.py:6: FutureWarning: The default value of regex will change from True to False in a future version.\n",
      "  beacons['room'] = beacons.room.str.replace(r'(^.*liv.*$)', 'LivingRoom')\n",
      "/var/folders/4f/cfbbhwjx5xl3tp_3_r7p5d5h0000gn/T/ipykernel_3797/806612907.py:7: FutureWarning: The default value of regex will change from True to False in a future version.\n",
      "  beacons['room'] = beacons.room.str.replace(r'(^.*Leav.*$)', 'LivingRoom')\n",
      "/var/folders/4f/cfbbhwjx5xl3tp_3_r7p5d5h0000gn/T/ipykernel_3797/806612907.py:8: FutureWarning: The default value of regex will change from True to False in a future version.\n",
      "  beacons['room'] = beacons.room.str.replace(r'(^.*leav.*$)', 'LivingRoom')\n",
      "/var/folders/4f/cfbbhwjx5xl3tp_3_r7p5d5h0000gn/T/ipykernel_3797/806612907.py:9: FutureWarning: The default value of regex will change from True to False in a future version.\n",
      "  beacons['room'] = beacons.room.str.replace(r'(^.*Sit.*$)', 'LivingRoom')\n",
      "/var/folders/4f/cfbbhwjx5xl3tp_3_r7p5d5h0000gn/T/ipykernel_3797/806612907.py:10: FutureWarning: The default value of regex will change from True to False in a future version.\n",
      "  beacons['room'] = beacons.room.str.replace(r'(^.*sit.*$)', 'LivingRoom')\n",
      "/var/folders/4f/cfbbhwjx5xl3tp_3_r7p5d5h0000gn/T/ipykernel_3797/806612907.py:11: FutureWarning: The default value of regex will change from True to False in a future version.\n",
      "  beacons['room'] = beacons.room.str.replace(r'(^.*Luv.*$)', 'LivingRoom')\n",
      "/var/folders/4f/cfbbhwjx5xl3tp_3_r7p5d5h0000gn/T/ipykernel_3797/806612907.py:12: FutureWarning: The default value of regex will change from True to False in a future version.\n",
      "  beacons['room'] = beacons.room.str.replace(r'(^.*TV.*$)', 'LivingRoom')\n",
      "/var/folders/4f/cfbbhwjx5xl3tp_3_r7p5d5h0000gn/T/ipykernel_3797/806612907.py:13: FutureWarning: The default value of regex will change from True to False in a future version.\n",
      "  beacons['room'] = beacons.room.str.replace(r'(^.*Seat.*$)', 'LivingRoom')\n",
      "/var/folders/4f/cfbbhwjx5xl3tp_3_r7p5d5h0000gn/T/ipykernel_3797/806612907.py:14: FutureWarning: The default value of regex will change from True to False in a future version.\n",
      "  beacons['room'] = beacons.room.str.replace(r'(^.*Lin.*$)', 'LivingRoom')\n",
      "/var/folders/4f/cfbbhwjx5xl3tp_3_r7p5d5h0000gn/T/ipykernel_3797/806612907.py:15: FutureWarning: The default value of regex will change from True to False in a future version.\n",
      "  beacons['room'] = beacons.room.str.replace(r'(^.*Din.*$)', 'LivingRoom')\n",
      "/var/folders/4f/cfbbhwjx5xl3tp_3_r7p5d5h0000gn/T/ipykernel_3797/806612907.py:16: FutureWarning: The default value of regex will change from True to False in a future version.\n",
      "  beacons['room'] = beacons.room.str.replace(r'(^.*Bed.*$)', 'BedRoom')\n",
      "/var/folders/4f/cfbbhwjx5xl3tp_3_r7p5d5h0000gn/T/ipykernel_3797/806612907.py:17: FutureWarning: The default value of regex will change from True to False in a future version.\n",
      "  beacons['room'] = beacons.room.str.replace(r'(^.*bed.*$)', 'BedRoom')\n",
      "/var/folders/4f/cfbbhwjx5xl3tp_3_r7p5d5h0000gn/T/ipykernel_3797/806612907.py:18: FutureWarning: The default value of regex will change from True to False in a future version.\n",
      "  beacons['room'] = beacons.room.str.replace(r'(^.*2.*$)', 'BedRoom')\n",
      "/var/folders/4f/cfbbhwjx5xl3tp_3_r7p5d5h0000gn/T/ipykernel_3797/806612907.py:19: FutureWarning: The default value of regex will change from True to False in a future version.\n",
      "  beacons['room'] = beacons.room.str.replace(r'(^.*Off.*$)', 'Office')\n",
      "/var/folders/4f/cfbbhwjx5xl3tp_3_r7p5d5h0000gn/T/ipykernel_3797/806612907.py:20: FutureWarning: The default value of regex will change from True to False in a future version.\n",
      "  beacons['room'] = beacons.room.str.replace(r'(^.*Libr.*$)', 'Office')\n",
      "/var/folders/4f/cfbbhwjx5xl3tp_3_r7p5d5h0000gn/T/ipykernel_3797/806612907.py:21: FutureWarning: The default value of regex will change from True to False in a future version.\n",
      "  beacons['room'] = beacons.room.str.replace(r'(^.*B*th.*$)', 'BathRoom')\n",
      "/var/folders/4f/cfbbhwjx5xl3tp_3_r7p5d5h0000gn/T/ipykernel_3797/806612907.py:22: FutureWarning: The default value of regex will change from True to False in a future version.\n",
      "  beacons['room'] = beacons.room.str.replace(r'(^.*Bagh.*$)', 'BathRoom')\n",
      "/var/folders/4f/cfbbhwjx5xl3tp_3_r7p5d5h0000gn/T/ipykernel_3797/806612907.py:23: FutureWarning: The default value of regex will change from True to False in a future version.\n",
      "  beacons['room'] = beacons.room.str.replace(r'(^.*Bagh.*$)', 'BathRoom')\n",
      "/var/folders/4f/cfbbhwjx5xl3tp_3_r7p5d5h0000gn/T/ipykernel_3797/806612907.py:24: FutureWarning: The default value of regex will change from True to False in a future version.\n",
      "  beacons['room'] = beacons.room.str.replace(r'(^.*Veranda.*$)', 'Outdoor')\n",
      "/var/folders/4f/cfbbhwjx5xl3tp_3_r7p5d5h0000gn/T/ipykernel_3797/806612907.py:25: FutureWarning: The default value of regex will change from True to False in a future version.\n",
      "  beacons['room'] = beacons.room.str.replace(r'(^.*Garden.*$)', 'Outdoor')\n",
      "/var/folders/4f/cfbbhwjx5xl3tp_3_r7p5d5h0000gn/T/ipykernel_3797/806612907.py:26: FutureWarning: The default value of regex will change from True to False in a future version.\n",
      "  beacons['room'] = beacons.room.str.replace(r'(^.*Guard.*$)', 'Outdoor')\n",
      "/var/folders/4f/cfbbhwjx5xl3tp_3_r7p5d5h0000gn/T/ipykernel_3797/806612907.py:27: FutureWarning: The default value of regex will change from True to False in a future version.\n",
      "  beacons['room'] = beacons.room.str.replace(r'(^.*Bed.*$)', 'BedRoom')\n",
      "/var/folders/4f/cfbbhwjx5xl3tp_3_r7p5d5h0000gn/T/ipykernel_3797/806612907.py:28: FutureWarning: The default value of regex will change from True to False in a future version.\n",
      "  beacons['room'] = beacons.room.str.replace(r'(^.*Chamb.*$)', 'BedRoom')\n",
      "/var/folders/4f/cfbbhwjx5xl3tp_3_r7p5d5h0000gn/T/ipykernel_3797/806612907.py:29: FutureWarning: The default value of regex will change from True to False in a future version.\n",
      "  beacons['room'] = beacons.room.str.replace(r'(^.*Exit.*$)', 'Entrance')\n",
      "/var/folders/4f/cfbbhwjx5xl3tp_3_r7p5d5h0000gn/T/ipykernel_3797/806612907.py:30: FutureWarning: The default value of regex will change from True to False in a future version.\n",
      "  beacons['room'] = beacons.room.str.replace(r'(^.*Lau.*$)', 'LaundryRoom')\n",
      "/var/folders/4f/cfbbhwjx5xl3tp_3_r7p5d5h0000gn/T/ipykernel_3797/806612907.py:31: FutureWarning: The default value of regex will change from True to False in a future version.\n",
      "  beacons['room'] = beacons.room.str.replace(r'(^.*Wash.*$)', 'LaundryRoom')\n",
      "/var/folders/4f/cfbbhwjx5xl3tp_3_r7p5d5h0000gn/T/ipykernel_3797/806612907.py:32: FutureWarning: The default value of regex will change from True to False in a future version.\n",
      "  beacons['room'] = beacons.room.str.replace(r'(^.*Wash.*$)', 'LaundryRoom')\n",
      "/var/folders/4f/cfbbhwjx5xl3tp_3_r7p5d5h0000gn/T/ipykernel_3797/806612907.py:33: FutureWarning: The default value of regex will change from True to False in a future version.\n",
      "  beacons['room'] = beacons.room.str.replace(r'(^.*Box.*$)', 'Storage')\n",
      "/var/folders/4f/cfbbhwjx5xl3tp_3_r7p5d5h0000gn/T/ipykernel_3797/806612907.py:34: FutureWarning: The default value of regex will change from True to False in a future version.\n",
      "  beacons['room'] = beacons.room.str.replace(r'(^.*LaundryRoom.*$)', 'Storage')\n",
      "/var/folders/4f/cfbbhwjx5xl3tp_3_r7p5d5h0000gn/T/ipykernel_3797/806612907.py:35: FutureWarning: The default value of regex will change from True to False in a future version.\n",
      "  beacons['room'] = beacons.room.str.replace(r'(^.*One.*$)', 'Undefined')\n",
      "/var/folders/4f/cfbbhwjx5xl3tp_3_r7p5d5h0000gn/T/ipykernel_3797/806612907.py:36: FutureWarning: The default value of regex will change from True to False in a future version.\n",
      "  beacons['room'] = beacons.room.str.replace(r'(^.*Two.*$)', 'Undefined')\n",
      "/var/folders/4f/cfbbhwjx5xl3tp_3_r7p5d5h0000gn/T/ipykernel_3797/806612907.py:37: FutureWarning: The default value of regex will change from True to False in a future version.\n",
      "  beacons['room'] = beacons.room.str.replace(r'(^.*Four.*$)', 'Undefined')\n",
      "/var/folders/4f/cfbbhwjx5xl3tp_3_r7p5d5h0000gn/T/ipykernel_3797/806612907.py:38: FutureWarning: The default value of regex will change from True to False in a future version.\n",
      "  beacons['room'] = beacons.room.str.replace(r'(^.*T.*$)', 'Undefined')\n"
     ]
    }
   ],
   "source": [
    "# Part B.1.1: Correct room labels\n",
    "beacons['room'] = beacons.room.str.replace(r'(^.*K.*$)', 'Kitchen')\n",
    "beacons['room'] = beacons.room.str.replace(r'(^.*k.*$)', 'Kitchen')\n",
    "beacons['room'] = beacons.room.str.replace(r'(^.*Pantry.*$)', 'Kitchen')\n",
    "beacons['room'] = beacons.room.str.replace(r'(^.*Liv.*$)', 'LivingRoom')\n",
    "beacons['room'] = beacons.room.str.replace(r'(^.*liv.*$)', 'LivingRoom')\n",
    "beacons['room'] = beacons.room.str.replace(r'(^.*Leav.*$)', 'LivingRoom')\n",
    "beacons['room'] = beacons.room.str.replace(r'(^.*leav.*$)', 'LivingRoom')\n",
    "beacons['room'] = beacons.room.str.replace(r'(^.*Sit.*$)', 'LivingRoom')\n",
    "beacons['room'] = beacons.room.str.replace(r'(^.*sit.*$)', 'LivingRoom')\n",
    "beacons['room'] = beacons.room.str.replace(r'(^.*Luv.*$)', 'LivingRoom')\n",
    "beacons['room'] = beacons.room.str.replace(r'(^.*TV.*$)', 'LivingRoom')\n",
    "beacons['room'] = beacons.room.str.replace(r'(^.*Seat.*$)', 'LivingRoom')\n",
    "beacons['room'] = beacons.room.str.replace(r'(^.*Lin.*$)', 'LivingRoom')\n",
    "beacons['room'] = beacons.room.str.replace(r'(^.*Din.*$)', 'LivingRoom')\n",
    "beacons['room'] = beacons.room.str.replace(r'(^.*Bed.*$)', 'BedRoom')\n",
    "beacons['room'] = beacons.room.str.replace(r'(^.*bed.*$)', 'BedRoom')\n",
    "beacons['room'] = beacons.room.str.replace(r'(^.*2.*$)', 'BedRoom')\n",
    "beacons['room'] = beacons.room.str.replace(r'(^.*Off.*$)', 'Office')\n",
    "beacons['room'] = beacons.room.str.replace(r'(^.*Libr.*$)', 'Office')\n",
    "beacons['room'] = beacons.room.str.replace(r'(^.*B*th.*$)', 'BathRoom')\n",
    "beacons['room'] = beacons.room.str.replace(r'(^.*Bagh.*$)', 'BathRoom')\n",
    "beacons['room'] = beacons.room.str.replace(r'(^.*Bagh.*$)', 'BathRoom')\n",
    "beacons['room'] = beacons.room.str.replace(r'(^.*Veranda.*$)', 'Outdoor')\n",
    "beacons['room'] = beacons.room.str.replace(r'(^.*Garden.*$)', 'Outdoor')\n",
    "beacons['room'] = beacons.room.str.replace(r'(^.*Guard.*$)', 'Outdoor')\n",
    "beacons['room'] = beacons.room.str.replace(r'(^.*Bed.*$)', 'BedRoom')\n",
    "beacons['room'] = beacons.room.str.replace(r'(^.*Chamb.*$)', 'BedRoom')\n",
    "beacons['room'] = beacons.room.str.replace(r'(^.*Exit.*$)', 'Entrance')\n",
    "beacons['room'] = beacons.room.str.replace(r'(^.*Lau.*$)', 'LaundryRoom')\n",
    "beacons['room'] = beacons.room.str.replace(r'(^.*Wash.*$)', 'LaundryRoom')\n",
    "beacons['room'] = beacons.room.str.replace(r'(^.*Wash.*$)', 'LaundryRoom')\n",
    "beacons['room'] = beacons.room.str.replace(r'(^.*Box.*$)', 'Storage')\n",
    "beacons['room'] = beacons.room.str.replace(r'(^.*LaundryRoom.*$)', 'Storage')\n",
    "beacons['room'] = beacons.room.str.replace(r'(^.*One.*$)', 'Undefined')\n",
    "beacons['room'] = beacons.room.str.replace(r'(^.*Two.*$)', 'Undefined')\n",
    "beacons['room'] = beacons.room.str.replace(r'(^.*Four.*$)', 'Undefined')\n",
    "beacons['room'] = beacons.room.str.replace(r'(^.*T.*$)', 'Undefined')"
   ],
   "metadata": {
    "collapsed": false,
    "pycharm": {
     "name": "#%%\n"
    }
   }
  },
  {
   "cell_type": "code",
   "execution_count": 308,
   "outputs": [
    {
     "data": {
      "text/plain": "(46764, 4)"
     },
     "execution_count": 308,
     "metadata": {},
     "output_type": "execute_result"
    }
   ],
   "source": [
    "values = ['Undefined', None]\n",
    "beacons = beacons[beacons.room.isin(values) == False]\n",
    "beacons.shape"
   ],
   "metadata": {
    "collapsed": false,
    "pycharm": {
     "name": "#%%\n"
    }
   }
  }
 ],
 "metadata": {
  "kernelspec": {
   "display_name": "Python 3",
   "language": "python",
   "name": "python3"
  },
  "language_info": {
   "codemirror_mode": {
    "name": "ipython",
    "version": 2
   },
   "file_extension": ".py",
   "mimetype": "text/x-python",
   "name": "python",
   "nbconvert_exporter": "python",
   "pygments_lexer": "ipython2",
   "version": "2.7.6"
  }
 },
 "nbformat": 4,
 "nbformat_minor": 0
}